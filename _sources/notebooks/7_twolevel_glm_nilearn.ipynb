{
 "cells": [
  {
   "cell_type": "markdown",
   "id": "78d0e8eb",
   "metadata": {},
   "source": [
    "# Two-Level GLM (from Nilearn)"
   ]
  },
  {
   "cell_type": "markdown",
   "id": "47f8a99b",
   "metadata": {},
   "source": [
    "In this tutorial, we demonstrate how to write pydra tasks for the first level (subject-level) GLM and the second level (group-level) GLM in Nilearn. We use the data from [Balloon Analog Risk-taking Task](https://openneuro.org/datasets/ds000001/versions/1.0.0). \n",
    "Basic information about this dataset:\n",
    "- 16 subjects\n",
    "- 3 runs\n",
    "- functional scan TR: 2.3 \n",
    "- num of functional scan: 300"
   ]
  },
  {
   "cell_type": "code",
   "execution_count": 1,
   "id": "00d73344",
   "metadata": {},
   "outputs": [],
   "source": [
    "import nest_asyncio\n",
    "nest_asyncio.apply()"
   ]
  },
  {
   "cell_type": "markdown",
   "id": "2bc71edd",
   "metadata": {},
   "source": [
    "## Preparation\n",
    "\n",
    "Import packages that will be used globally and set up output directory"
   ]
  },
  {
   "cell_type": "code",
   "execution_count": 2,
   "id": "fc501075",
   "metadata": {},
   "outputs": [
    {
     "name": "stderr",
     "output_type": "stream",
     "text": [
      "It is highly recommended to configure Git before using DataLad. Set both 'user.name' and 'user.email' configuration variables.\n"
     ]
    }
   ],
   "source": [
    "import warnings\n",
    "import sys \n",
    "if not sys.warnoptions:\n",
    "    warnings.simplefilter(\"ignore\")\n",
    "\n",
    "import os, glob\n",
    "import datetime\n",
    "import random\n",
    "import pydra\n",
    "from pydra import Workflow\n",
    "from pydra.engine.specs import File, MultiInputFile, MultiOutputFile\n",
    "import typing as ty\n",
    "from pathlib import Path\n",
    "import datalad.api as dl\n",
    "\n",
    "import numpy as np\n",
    "import pandas as pd\n",
    "import nibabel as nib\n",
    "from scipy.stats import norm\n",
    "from nilearn.interfaces.fmriprep import load_confounds_strategy\n",
    "from nilearn.image import load_img, get_data, math_img, threshold_img\n",
    "from nilearn.glm.first_level import make_first_level_design_matrix, FirstLevelModel\n",
    "from nilearn.glm.second_level import SecondLevelModel, non_parametric_inference\n",
    "from nilearn.glm.contrasts import compute_fixed_effects\n",
    "from nilearn.plotting import plot_stat_map, plot_glass_brain"
   ]
  },
  {
   "cell_type": "code",
   "execution_count": 3,
   "id": "3c204e4f",
   "metadata": {},
   "outputs": [],
   "source": [
    "# get current directory\n",
    "pydra_tutorial_dir = os.path.dirname(os.getcwd())\n",
    "\n",
    "# set up output directory\n",
    "workflow_dir = Path(pydra_tutorial_dir) / 'outputs'\n",
    "workflow_out_dir = workflow_dir / '7_glm' /'results'\n",
    "\n",
    "# create folders if not exit\n",
    "os.makedirs(workflow_out_dir, exist_ok=True)"
   ]
  },
  {
   "cell_type": "markdown",
   "id": "8e0acdb9",
   "metadata": {},
   "source": [
    "### Download the data\n",
    "\n",
    "[DataLad](http://handbook.datalad.org/en/latest/index.htmlhttp://handbook.datalad.org/en/latest/index.html) is often used in those cases to download data. Here we use its [Python API](http://docs.datalad.org/en/latest/modref.htmlhttp://docs.datalad.org/en/latest/modref.html).\n",
    "\n",
    "We need the following data: \n",
    "\n",
    "1. event information (raw data)\n",
    "2. preprocessed image data (fmriprep)\n",
    "3. masks (fmriprep)\n",
    "4. confounds (fmriprep)"
   ]
  },
  {
   "cell_type": "code",
   "execution_count": 4,
   "id": "ac73bb1c",
   "metadata": {
    "tags": [
     "remove-output"
    ]
   },
   "outputs": [
    {
     "name": "stderr",
     "output_type": "stream",
     "text": [
      "[INFO] Cloning dataset to Dataset(/tmp/outputs/7_glm/raw_data) \n"
     ]
    },
    {
     "name": "stderr",
     "output_type": "stream",
     "text": [
      "[INFO] Attempting to clone from https://github.com/OpenNeuroDatasets/ds000001.git to /tmp/outputs/7_glm/raw_data \n"
     ]
    },
    {
     "name": "stderr",
     "output_type": "stream",
     "text": [
      "[INFO] Start enumerating objects \n"
     ]
    },
    {
     "name": "stderr",
     "output_type": "stream",
     "text": [
      "[INFO] Start counting objects \n"
     ]
    },
    {
     "name": "stderr",
     "output_type": "stream",
     "text": [
      "[INFO] Start compressing objects \n"
     ]
    },
    {
     "name": "stderr",
     "output_type": "stream",
     "text": [
      "[INFO] Start receiving objects \n"
     ]
    },
    {
     "name": "stderr",
     "output_type": "stream",
     "text": [
      "[INFO] Start resolving deltas \n"
     ]
    },
    {
     "name": "stderr",
     "output_type": "stream",
     "text": [
      "[INFO] Completed clone attempts for Dataset(/tmp/outputs/7_glm/raw_data) \n"
     ]
    },
    {
     "name": "stderr",
     "output_type": "stream",
     "text": [
      "[INFO] Remote origin not usable by git-annex; setting annex-ignore \n"
     ]
    },
    {
     "name": "stderr",
     "output_type": "stream",
     "text": [
      "[INFO] https://github.com/OpenNeuroDatasets/ds000001.git/config download failed: Not Found \n"
     ]
    },
    {
     "name": "stderr",
     "output_type": "stream",
     "text": [
      "[INFO] Author identity unknown\n",
      "| \n",
      "| *** Please tell me who you are.\n",
      "| \n",
      "| Run\n",
      "| \n",
      "|   git config --global user.email \"you@example.com\"\n",
      "|   git config --global user.name \"Your Name\"\n",
      "| \n",
      "| to set your account's default identity.\n",
      "| Omit --global to set the identity only in this repository.\n",
      "| \n",
      "| fatal: empty ident name (for <runner@fv-az238-948.lrtv1j1tcsgurjp4mtmc3vvjre.gx.internal.cloudapp.net>) not allowed \n"
     ]
    },
    {
     "name": "stderr",
     "output_type": "stream",
     "text": [
      "[INFO] git-annex: user error (git [\"--git-dir=.git\",\"--work-tree=.\",\"--literal-pathspecs\",\"-c\",\"annex.dotfiles=true\",\"commit-tree\",\"9b01cbec006dba0062999f4c7972baa3cc4aec1a\",\"--no-gpg-sign\",\"-p\",\"refs/heads/git-annex\"] exited 128) \n"
     ]
    },
    {
     "ename": "CommandError",
     "evalue": "CommandError: 'git -c diff.ignoreSubmodules=none annex init -c annex.dotfiles=true' failed with exitcode 1 under /tmp/outputs/7_glm/raw_data",
     "output_type": "error",
     "traceback": [
      "\u001b[0;31m---------------------------------------------------------------------------\u001b[0m",
      "\u001b[0;31mCommandError\u001b[0m                              Traceback (most recent call last)",
      "Cell \u001b[0;32mIn [4], line 8\u001b[0m\n\u001b[1;32m      6\u001b[0m fmriprep_url \u001b[38;5;241m=\u001b[39m \u001b[38;5;124m'\u001b[39m\u001b[38;5;124mhttps://github.com/OpenNeuroDerivatives/ds000001-fmriprep.git\u001b[39m\u001b[38;5;124m'\u001b[39m\n\u001b[1;32m      7\u001b[0m rawdata_url \u001b[38;5;241m=\u001b[39m \u001b[38;5;124m'\u001b[39m\u001b[38;5;124mhttps://github.com/OpenNeuroDatasets/ds000001.git\u001b[39m\u001b[38;5;124m'\u001b[39m\n\u001b[0;32m----> 8\u001b[0m \u001b[43mdl\u001b[49m\u001b[38;5;241;43m.\u001b[39;49m\u001b[43minstall\u001b[49m\u001b[43m(\u001b[49m\u001b[43msource\u001b[49m\u001b[38;5;241;43m=\u001b[39;49m\u001b[43mrawdata_url\u001b[49m\u001b[43m,\u001b[49m\u001b[43m \u001b[49m\u001b[43mpath\u001b[49m\u001b[38;5;241;43m=\u001b[39;49m\u001b[43mrawdata_path\u001b[49m\u001b[43m)\u001b[49m\n\u001b[1;32m      9\u001b[0m dl\u001b[38;5;241m.\u001b[39minstall(source\u001b[38;5;241m=\u001b[39mfmriprep_url, path\u001b[38;5;241m=\u001b[39mfmriprep_path)\n",
      "File \u001b[0;32m/usr/share/miniconda/envs/pydra-tutorial/lib/python3.10/site-packages/datalad/interface/utils.py:447\u001b[0m, in \u001b[0;36meval_results.<locals>.eval_func\u001b[0;34m(*args, **kwargs)\u001b[0m\n\u001b[1;32m    444\u001b[0m         \u001b[38;5;28;01mreturn\u001b[39;00m results\n\u001b[1;32m    446\u001b[0m lgr\u001b[38;5;241m.\u001b[39mlog(\u001b[38;5;241m2\u001b[39m, \u001b[38;5;124m\"\u001b[39m\u001b[38;5;124mReturning return_func from eval_func for \u001b[39m\u001b[38;5;132;01m%s\u001b[39;00m\u001b[38;5;124m\"\u001b[39m, wrapped_class)\n\u001b[0;32m--> 447\u001b[0m \u001b[38;5;28;01mreturn\u001b[39;00m \u001b[43mreturn_func\u001b[49m\u001b[43m(\u001b[49m\u001b[38;5;241;43m*\u001b[39;49m\u001b[43margs\u001b[49m\u001b[43m,\u001b[49m\u001b[43m \u001b[49m\u001b[38;5;241;43m*\u001b[39;49m\u001b[38;5;241;43m*\u001b[39;49m\u001b[43mkwargs\u001b[49m\u001b[43m)\u001b[49m\n",
      "File \u001b[0;32m/usr/share/miniconda/envs/pydra-tutorial/lib/python3.10/site-packages/datalad/interface/utils.py:439\u001b[0m, in \u001b[0;36meval_results.<locals>.eval_func.<locals>.return_func\u001b[0;34m(*args_, **kwargs_)\u001b[0m\n\u001b[1;32m    435\u001b[0m results \u001b[38;5;241m=\u001b[39m generator_func(\u001b[38;5;241m*\u001b[39margs_, \u001b[38;5;241m*\u001b[39m\u001b[38;5;241m*\u001b[39mkwargs_)\n\u001b[1;32m    436\u001b[0m \u001b[38;5;28;01mif\u001b[39;00m inspect\u001b[38;5;241m.\u001b[39misgenerator(results):\n\u001b[1;32m    437\u001b[0m     \u001b[38;5;66;03m# unwind generator if there is one, this actually runs\u001b[39;00m\n\u001b[1;32m    438\u001b[0m     \u001b[38;5;66;03m# any processing\u001b[39;00m\n\u001b[0;32m--> 439\u001b[0m     results \u001b[38;5;241m=\u001b[39m \u001b[38;5;28;43mlist\u001b[39;49m\u001b[43m(\u001b[49m\u001b[43mresults\u001b[49m\u001b[43m)\u001b[49m\n\u001b[1;32m    440\u001b[0m \u001b[38;5;28;01mif\u001b[39;00m return_type \u001b[38;5;241m==\u001b[39m \u001b[38;5;124m'\u001b[39m\u001b[38;5;124mitem-or-list\u001b[39m\u001b[38;5;124m'\u001b[39m \u001b[38;5;129;01mand\u001b[39;00m \\\n\u001b[1;32m    441\u001b[0m         \u001b[38;5;28mlen\u001b[39m(results) \u001b[38;5;241m<\u001b[39m \u001b[38;5;241m2\u001b[39m:\n\u001b[1;32m    442\u001b[0m     \u001b[38;5;28;01mreturn\u001b[39;00m results[\u001b[38;5;241m0\u001b[39m] \u001b[38;5;28;01mif\u001b[39;00m results \u001b[38;5;28;01melse\u001b[39;00m \u001b[38;5;28;01mNone\u001b[39;00m\n",
      "File \u001b[0;32m/usr/share/miniconda/envs/pydra-tutorial/lib/python3.10/site-packages/datalad/interface/utils.py:357\u001b[0m, in \u001b[0;36meval_results.<locals>.eval_func.<locals>.generator_func\u001b[0;34m(*_args, **_kwargs)\u001b[0m\n\u001b[1;32m    351\u001b[0m pass_summary \u001b[38;5;241m=\u001b[39m do_custom_result_summary \\\n\u001b[1;32m    352\u001b[0m     \u001b[38;5;129;01mand\u001b[39;00m \u001b[38;5;28mgetattr\u001b[39m(wrapped_class,\n\u001b[1;32m    353\u001b[0m                 \u001b[38;5;124m'\u001b[39m\u001b[38;5;124mcustom_result_summary_renderer_pass_summary\u001b[39m\u001b[38;5;124m'\u001b[39m,\n\u001b[1;32m    354\u001b[0m                 \u001b[38;5;28;01mNone\u001b[39;00m)\n\u001b[1;32m    356\u001b[0m \u001b[38;5;66;03m# process main results\u001b[39;00m\n\u001b[0;32m--> 357\u001b[0m \u001b[38;5;28;01mfor\u001b[39;00m r \u001b[38;5;129;01min\u001b[39;00m _process_results(\n\u001b[1;32m    358\u001b[0m         \u001b[38;5;66;03m# execution\u001b[39;00m\n\u001b[1;32m    359\u001b[0m         wrapped(\u001b[38;5;241m*\u001b[39m_args, \u001b[38;5;241m*\u001b[39m\u001b[38;5;241m*\u001b[39m_kwargs),\n\u001b[1;32m    360\u001b[0m         wrapped_class,\n\u001b[1;32m    361\u001b[0m         common_params[\u001b[38;5;124m'\u001b[39m\u001b[38;5;124mon_failure\u001b[39m\u001b[38;5;124m'\u001b[39m],\n\u001b[1;32m    362\u001b[0m         \u001b[38;5;66;03m# bookkeeping\u001b[39;00m\n\u001b[1;32m    363\u001b[0m         action_summary,\n\u001b[1;32m    364\u001b[0m         incomplete_results,\n\u001b[1;32m    365\u001b[0m         \u001b[38;5;66;03m# communication\u001b[39;00m\n\u001b[1;32m    366\u001b[0m         result_renderer,\n\u001b[1;32m    367\u001b[0m         result_log_level,\n\u001b[1;32m    368\u001b[0m         \u001b[38;5;66;03m# let renderers get to see how a command was called\u001b[39;00m\n\u001b[1;32m    369\u001b[0m         allkwargs):\n\u001b[1;32m    370\u001b[0m     \u001b[38;5;28;01mfor\u001b[39;00m hook, spec \u001b[38;5;129;01min\u001b[39;00m hooks\u001b[38;5;241m.\u001b[39mitems():\n\u001b[1;32m    371\u001b[0m         \u001b[38;5;66;03m# run the hooks before we yield the result\u001b[39;00m\n\u001b[1;32m    372\u001b[0m         \u001b[38;5;66;03m# this ensures that they are executed before\u001b[39;00m\n\u001b[1;32m    373\u001b[0m         \u001b[38;5;66;03m# a potentially wrapper command gets to act\u001b[39;00m\n\u001b[1;32m    374\u001b[0m         \u001b[38;5;66;03m# on them\u001b[39;00m\n\u001b[1;32m    375\u001b[0m         \u001b[38;5;28;01mif\u001b[39;00m match_jsonhook2result(hook, r, spec[\u001b[38;5;124m'\u001b[39m\u001b[38;5;124mmatch\u001b[39m\u001b[38;5;124m'\u001b[39m]):\n",
      "File \u001b[0;32m/usr/share/miniconda/envs/pydra-tutorial/lib/python3.10/site-packages/datalad/interface/utils.py:544\u001b[0m, in \u001b[0;36m_process_results\u001b[0;34m(results, cmd_class, on_failure, action_summary, incomplete_results, result_renderer, result_log_level, allkwargs)\u001b[0m\n\u001b[1;32m    537\u001b[0m \u001b[38;5;66;03m# how many repetitions to show, before suppression kicks in\u001b[39;00m\n\u001b[1;32m    538\u001b[0m render_n_repetitions \u001b[38;5;241m=\u001b[39m \\\n\u001b[1;32m    539\u001b[0m     dlcfg\u001b[38;5;241m.\u001b[39mobtain(\u001b[38;5;124m'\u001b[39m\u001b[38;5;124mdatalad.ui.suppress-similar-results-threshold\u001b[39m\u001b[38;5;124m'\u001b[39m) \\\n\u001b[1;32m    540\u001b[0m         \u001b[38;5;28;01mif\u001b[39;00m sys\u001b[38;5;241m.\u001b[39mstdout\u001b[38;5;241m.\u001b[39misatty() \\\n\u001b[1;32m    541\u001b[0m            \u001b[38;5;129;01mand\u001b[39;00m dlcfg\u001b[38;5;241m.\u001b[39mobtain(\u001b[38;5;124m'\u001b[39m\u001b[38;5;124mdatalad.ui.suppress-similar-results\u001b[39m\u001b[38;5;124m'\u001b[39m) \\\n\u001b[1;32m    542\u001b[0m         \u001b[38;5;28;01melse\u001b[39;00m \u001b[38;5;28mfloat\u001b[39m(\u001b[38;5;124m\"\u001b[39m\u001b[38;5;124minf\u001b[39m\u001b[38;5;124m\"\u001b[39m)\n\u001b[0;32m--> 544\u001b[0m \u001b[38;5;28;01mfor\u001b[39;00m res \u001b[38;5;129;01min\u001b[39;00m results:\n\u001b[1;32m    545\u001b[0m     \u001b[38;5;28;01mif\u001b[39;00m \u001b[38;5;129;01mnot\u001b[39;00m res \u001b[38;5;129;01mor\u001b[39;00m \u001b[38;5;124m'\u001b[39m\u001b[38;5;124maction\u001b[39m\u001b[38;5;124m'\u001b[39m \u001b[38;5;129;01mnot\u001b[39;00m \u001b[38;5;129;01min\u001b[39;00m res:\n\u001b[1;32m    546\u001b[0m         \u001b[38;5;66;03m# XXX Yarik has to no clue on how to track the origin of the\u001b[39;00m\n\u001b[1;32m    547\u001b[0m         \u001b[38;5;66;03m# record to figure out WTF, so he just skips it\u001b[39;00m\n\u001b[1;32m    548\u001b[0m         \u001b[38;5;66;03m# but MIH thinks leaving a trace of that would be good\u001b[39;00m\n\u001b[1;32m    549\u001b[0m         lgr\u001b[38;5;241m.\u001b[39mdebug(\u001b[38;5;124m'\u001b[39m\u001b[38;5;124mDrop result record without \u001b[39m\u001b[38;5;124m\"\u001b[39m\u001b[38;5;124maction\u001b[39m\u001b[38;5;124m\"\u001b[39m\u001b[38;5;124m: \u001b[39m\u001b[38;5;132;01m%s\u001b[39;00m\u001b[38;5;124m'\u001b[39m, res)\n",
      "File \u001b[0;32m/usr/share/miniconda/envs/pydra-tutorial/lib/python3.10/site-packages/datalad/distribution/install.py:381\u001b[0m, in \u001b[0;36mInstall.__call__\u001b[0;34m(path, source, dataset, get_data, description, recursive, recursion_limit, reckless, jobs, branch)\u001b[0m\n\u001b[1;32m    379\u001b[0m as_ds \u001b[38;5;241m=\u001b[39m YieldDatasets()\n\u001b[1;32m    380\u001b[0m destination_dataset \u001b[38;5;241m=\u001b[39m \u001b[38;5;28;01mNone\u001b[39;00m\n\u001b[0;32m--> 381\u001b[0m \u001b[38;5;28;01mfor\u001b[39;00m r \u001b[38;5;129;01min\u001b[39;00m res:\n\u001b[1;32m    382\u001b[0m     \u001b[38;5;28;01mif\u001b[39;00m r[\u001b[38;5;124m'\u001b[39m\u001b[38;5;124maction\u001b[39m\u001b[38;5;124m'\u001b[39m] \u001b[38;5;241m==\u001b[39m \u001b[38;5;124m'\u001b[39m\u001b[38;5;124minstall\u001b[39m\u001b[38;5;124m'\u001b[39m \u001b[38;5;129;01mand\u001b[39;00m r[\u001b[38;5;124m'\u001b[39m\u001b[38;5;124mtype\u001b[39m\u001b[38;5;124m'\u001b[39m] \u001b[38;5;241m==\u001b[39m \u001b[38;5;124m'\u001b[39m\u001b[38;5;124mdataset\u001b[39m\u001b[38;5;124m'\u001b[39m:\n\u001b[1;32m    383\u001b[0m         \u001b[38;5;66;03m# make sure logic below is valid, only one dataset result is\u001b[39;00m\n\u001b[1;32m    384\u001b[0m         \u001b[38;5;66;03m# coming back\u001b[39;00m\n\u001b[1;32m    385\u001b[0m         \u001b[38;5;28;01massert\u001b[39;00m(destination_dataset \u001b[38;5;129;01mis\u001b[39;00m \u001b[38;5;28;01mNone\u001b[39;00m)\n",
      "File \u001b[0;32m/usr/share/miniconda/envs/pydra-tutorial/lib/python3.10/site-packages/datalad/interface/utils.py:357\u001b[0m, in \u001b[0;36meval_results.<locals>.eval_func.<locals>.generator_func\u001b[0;34m(*_args, **_kwargs)\u001b[0m\n\u001b[1;32m    351\u001b[0m pass_summary \u001b[38;5;241m=\u001b[39m do_custom_result_summary \\\n\u001b[1;32m    352\u001b[0m     \u001b[38;5;129;01mand\u001b[39;00m \u001b[38;5;28mgetattr\u001b[39m(wrapped_class,\n\u001b[1;32m    353\u001b[0m                 \u001b[38;5;124m'\u001b[39m\u001b[38;5;124mcustom_result_summary_renderer_pass_summary\u001b[39m\u001b[38;5;124m'\u001b[39m,\n\u001b[1;32m    354\u001b[0m                 \u001b[38;5;28;01mNone\u001b[39;00m)\n\u001b[1;32m    356\u001b[0m \u001b[38;5;66;03m# process main results\u001b[39;00m\n\u001b[0;32m--> 357\u001b[0m \u001b[38;5;28;01mfor\u001b[39;00m r \u001b[38;5;129;01min\u001b[39;00m _process_results(\n\u001b[1;32m    358\u001b[0m         \u001b[38;5;66;03m# execution\u001b[39;00m\n\u001b[1;32m    359\u001b[0m         wrapped(\u001b[38;5;241m*\u001b[39m_args, \u001b[38;5;241m*\u001b[39m\u001b[38;5;241m*\u001b[39m_kwargs),\n\u001b[1;32m    360\u001b[0m         wrapped_class,\n\u001b[1;32m    361\u001b[0m         common_params[\u001b[38;5;124m'\u001b[39m\u001b[38;5;124mon_failure\u001b[39m\u001b[38;5;124m'\u001b[39m],\n\u001b[1;32m    362\u001b[0m         \u001b[38;5;66;03m# bookkeeping\u001b[39;00m\n\u001b[1;32m    363\u001b[0m         action_summary,\n\u001b[1;32m    364\u001b[0m         incomplete_results,\n\u001b[1;32m    365\u001b[0m         \u001b[38;5;66;03m# communication\u001b[39;00m\n\u001b[1;32m    366\u001b[0m         result_renderer,\n\u001b[1;32m    367\u001b[0m         result_log_level,\n\u001b[1;32m    368\u001b[0m         \u001b[38;5;66;03m# let renderers get to see how a command was called\u001b[39;00m\n\u001b[1;32m    369\u001b[0m         allkwargs):\n\u001b[1;32m    370\u001b[0m     \u001b[38;5;28;01mfor\u001b[39;00m hook, spec \u001b[38;5;129;01min\u001b[39;00m hooks\u001b[38;5;241m.\u001b[39mitems():\n\u001b[1;32m    371\u001b[0m         \u001b[38;5;66;03m# run the hooks before we yield the result\u001b[39;00m\n\u001b[1;32m    372\u001b[0m         \u001b[38;5;66;03m# this ensures that they are executed before\u001b[39;00m\n\u001b[1;32m    373\u001b[0m         \u001b[38;5;66;03m# a potentially wrapper command gets to act\u001b[39;00m\n\u001b[1;32m    374\u001b[0m         \u001b[38;5;66;03m# on them\u001b[39;00m\n\u001b[1;32m    375\u001b[0m         \u001b[38;5;28;01mif\u001b[39;00m match_jsonhook2result(hook, r, spec[\u001b[38;5;124m'\u001b[39m\u001b[38;5;124mmatch\u001b[39m\u001b[38;5;124m'\u001b[39m]):\n",
      "File \u001b[0;32m/usr/share/miniconda/envs/pydra-tutorial/lib/python3.10/site-packages/datalad/interface/utils.py:544\u001b[0m, in \u001b[0;36m_process_results\u001b[0;34m(results, cmd_class, on_failure, action_summary, incomplete_results, result_renderer, result_log_level, allkwargs)\u001b[0m\n\u001b[1;32m    537\u001b[0m \u001b[38;5;66;03m# how many repetitions to show, before suppression kicks in\u001b[39;00m\n\u001b[1;32m    538\u001b[0m render_n_repetitions \u001b[38;5;241m=\u001b[39m \\\n\u001b[1;32m    539\u001b[0m     dlcfg\u001b[38;5;241m.\u001b[39mobtain(\u001b[38;5;124m'\u001b[39m\u001b[38;5;124mdatalad.ui.suppress-similar-results-threshold\u001b[39m\u001b[38;5;124m'\u001b[39m) \\\n\u001b[1;32m    540\u001b[0m         \u001b[38;5;28;01mif\u001b[39;00m sys\u001b[38;5;241m.\u001b[39mstdout\u001b[38;5;241m.\u001b[39misatty() \\\n\u001b[1;32m    541\u001b[0m            \u001b[38;5;129;01mand\u001b[39;00m dlcfg\u001b[38;5;241m.\u001b[39mobtain(\u001b[38;5;124m'\u001b[39m\u001b[38;5;124mdatalad.ui.suppress-similar-results\u001b[39m\u001b[38;5;124m'\u001b[39m) \\\n\u001b[1;32m    542\u001b[0m         \u001b[38;5;28;01melse\u001b[39;00m \u001b[38;5;28mfloat\u001b[39m(\u001b[38;5;124m\"\u001b[39m\u001b[38;5;124minf\u001b[39m\u001b[38;5;124m\"\u001b[39m)\n\u001b[0;32m--> 544\u001b[0m \u001b[38;5;28;01mfor\u001b[39;00m res \u001b[38;5;129;01min\u001b[39;00m results:\n\u001b[1;32m    545\u001b[0m     \u001b[38;5;28;01mif\u001b[39;00m \u001b[38;5;129;01mnot\u001b[39;00m res \u001b[38;5;129;01mor\u001b[39;00m \u001b[38;5;124m'\u001b[39m\u001b[38;5;124maction\u001b[39m\u001b[38;5;124m'\u001b[39m \u001b[38;5;129;01mnot\u001b[39;00m \u001b[38;5;129;01min\u001b[39;00m res:\n\u001b[1;32m    546\u001b[0m         \u001b[38;5;66;03m# XXX Yarik has to no clue on how to track the origin of the\u001b[39;00m\n\u001b[1;32m    547\u001b[0m         \u001b[38;5;66;03m# record to figure out WTF, so he just skips it\u001b[39;00m\n\u001b[1;32m    548\u001b[0m         \u001b[38;5;66;03m# but MIH thinks leaving a trace of that would be good\u001b[39;00m\n\u001b[1;32m    549\u001b[0m         lgr\u001b[38;5;241m.\u001b[39mdebug(\u001b[38;5;124m'\u001b[39m\u001b[38;5;124mDrop result record without \u001b[39m\u001b[38;5;124m\"\u001b[39m\u001b[38;5;124maction\u001b[39m\u001b[38;5;124m\"\u001b[39m\u001b[38;5;124m: \u001b[39m\u001b[38;5;132;01m%s\u001b[39;00m\u001b[38;5;124m'\u001b[39m, res)\n",
      "File \u001b[0;32m/usr/share/miniconda/envs/pydra-tutorial/lib/python3.10/site-packages/datalad/core/distributed/clone.py:337\u001b[0m, in \u001b[0;36mClone.__call__\u001b[0;34m(source, path, git_clone_opts, dataset, description, reckless)\u001b[0m\n\u001b[1;32m    335\u001b[0m \u001b[38;5;66;03m# perform the actual cloning operation\u001b[39;00m\n\u001b[1;32m    336\u001b[0m clone_failure \u001b[38;5;241m=\u001b[39m \u001b[38;5;28;01mFalse\u001b[39;00m\n\u001b[0;32m--> 337\u001b[0m \u001b[38;5;28;01mfor\u001b[39;00m r \u001b[38;5;129;01min\u001b[39;00m clone_dataset(\n\u001b[1;32m    338\u001b[0m         [source],\n\u001b[1;32m    339\u001b[0m         destination_dataset,\n\u001b[1;32m    340\u001b[0m         reckless,\n\u001b[1;32m    341\u001b[0m         description,\n\u001b[1;32m    342\u001b[0m         result_props,\n\u001b[1;32m    343\u001b[0m         cfg\u001b[38;5;241m=\u001b[39m\u001b[38;5;28;01mNone\u001b[39;00m \u001b[38;5;28;01mif\u001b[39;00m ds \u001b[38;5;129;01mis\u001b[39;00m \u001b[38;5;28;01mNone\u001b[39;00m \u001b[38;5;28;01melse\u001b[39;00m ds\u001b[38;5;241m.\u001b[39mconfig,\n\u001b[1;32m    344\u001b[0m         clone_opts\u001b[38;5;241m=\u001b[39mgit_clone_opts,\n\u001b[1;32m    345\u001b[0m         ):\n\u001b[1;32m    346\u001b[0m     \u001b[38;5;28;01mif\u001b[39;00m r[\u001b[38;5;124m'\u001b[39m\u001b[38;5;124mstatus\u001b[39m\u001b[38;5;124m'\u001b[39m] \u001b[38;5;129;01min\u001b[39;00m [\u001b[38;5;124m'\u001b[39m\u001b[38;5;124merror\u001b[39m\u001b[38;5;124m'\u001b[39m, \u001b[38;5;124m'\u001b[39m\u001b[38;5;124mimpossible\u001b[39m\u001b[38;5;124m'\u001b[39m]:\n\u001b[1;32m    347\u001b[0m         clone_failure \u001b[38;5;241m=\u001b[39m \u001b[38;5;28;01mTrue\u001b[39;00m\n",
      "File \u001b[0;32m/usr/share/miniconda/envs/pydra-tutorial/lib/python3.10/site-packages/datalad/core/distributed/clone.py:733\u001b[0m, in \u001b[0;36mclone_dataset\u001b[0;34m(srcs, destds, reckless, description, result_props, cfg, checkout_gitsha, clone_opts)\u001b[0m\n\u001b[1;32m    730\u001b[0m \u001b[38;5;28;01mif\u001b[39;00m result_props[\u001b[38;5;124m'\u001b[39m\u001b[38;5;124msource\u001b[39m\u001b[38;5;124m'\u001b[39m][\u001b[38;5;124m'\u001b[39m\u001b[38;5;124mtype\u001b[39m\u001b[38;5;124m'\u001b[39m] \u001b[38;5;241m==\u001b[39m \u001b[38;5;124m'\u001b[39m\u001b[38;5;124mria\u001b[39m\u001b[38;5;124m'\u001b[39m:\n\u001b[1;32m    731\u001b[0m     postclone_preannex_cfg_ria(destds, remote\u001b[38;5;241m=\u001b[39mremote)\n\u001b[0;32m--> 733\u001b[0m \u001b[38;5;28;01myield from\u001b[39;00m postclonecfg_annexdataset(\n\u001b[1;32m    734\u001b[0m     destds,\n\u001b[1;32m    735\u001b[0m     reckless,\n\u001b[1;32m    736\u001b[0m     description,\n\u001b[1;32m    737\u001b[0m     remote\u001b[38;5;241m=\u001b[39mremote)\n\u001b[1;32m    739\u001b[0m \u001b[38;5;28;01mif\u001b[39;00m checkout_gitsha \u001b[38;5;129;01mand\u001b[39;00m \\\n\u001b[1;32m    740\u001b[0m    dest_repo\u001b[38;5;241m.\u001b[39mget_hexsha(dest_repo\u001b[38;5;241m.\u001b[39mget_corresponding_branch()) \u001b[38;5;241m!=\u001b[39m checkout_gitsha:\n\u001b[1;32m    741\u001b[0m     \u001b[38;5;28;01mtry\u001b[39;00m:\n",
      "File \u001b[0;32m/usr/share/miniconda/envs/pydra-tutorial/lib/python3.10/site-packages/datalad/core/distributed/clone.py:1161\u001b[0m, in \u001b[0;36mpostclonecfg_annexdataset\u001b[0;34m(ds, reckless, description, remote)\u001b[0m\n\u001b[1;32m   1159\u001b[0m repo \u001b[38;5;241m=\u001b[39m AnnexRepo(ds\u001b[38;5;241m.\u001b[39mpath, init\u001b[38;5;241m=\u001b[39m\u001b[38;5;28;01mTrue\u001b[39;00m)\n\u001b[1;32m   1160\u001b[0m \u001b[38;5;28;01mif\u001b[39;00m \u001b[38;5;129;01mnot\u001b[39;00m repo\u001b[38;5;241m.\u001b[39mis_initialized() \u001b[38;5;129;01mor\u001b[39;00m description:\n\u001b[0;32m-> 1161\u001b[0m     \u001b[43mrepo\u001b[49m\u001b[38;5;241;43m.\u001b[39;49m\u001b[43m_init\u001b[49m\u001b[43m(\u001b[49m\u001b[43mdescription\u001b[49m\u001b[38;5;241;43m=\u001b[39;49m\u001b[43mdescription\u001b[49m\u001b[43m)\u001b[49m\n\u001b[1;32m   1162\u001b[0m \u001b[38;5;28;01mif\u001b[39;00m reckless \u001b[38;5;241m==\u001b[39m \u001b[38;5;124m'\u001b[39m\u001b[38;5;124mauto\u001b[39m\u001b[38;5;124m'\u001b[39m \u001b[38;5;129;01mor\u001b[39;00m (reckless \u001b[38;5;129;01mand\u001b[39;00m reckless\u001b[38;5;241m.\u001b[39mstartswith(\u001b[38;5;124m'\u001b[39m\u001b[38;5;124mshared-\u001b[39m\u001b[38;5;124m'\u001b[39m)):\n\u001b[1;32m   1163\u001b[0m     repo\u001b[38;5;241m.\u001b[39mcall_annex([\u001b[38;5;124m'\u001b[39m\u001b[38;5;124muntrust\u001b[39m\u001b[38;5;124m'\u001b[39m, \u001b[38;5;124m'\u001b[39m\u001b[38;5;124mhere\u001b[39m\u001b[38;5;124m'\u001b[39m])\n",
      "File \u001b[0;32m/usr/share/miniconda/envs/pydra-tutorial/lib/python3.10/site-packages/datalad/support/annexrepo.py:1472\u001b[0m, in \u001b[0;36mAnnexRepo._init\u001b[0;34m(self, version, description)\u001b[0m\n\u001b[1;32m   1467\u001b[0m         new_value \u001b[38;5;241m=\u001b[39m orig_value\u001b[38;5;241m.\u001b[39mreplace(orig_branch, new_branch)\n\u001b[1;32m   1468\u001b[0m         \u001b[38;5;28mself\u001b[39m\u001b[38;5;241m.\u001b[39mconfig\u001b[38;5;241m.\u001b[39madd(var\u001b[38;5;241m=\u001b[39mnew_section \u001b[38;5;241m+\u001b[39m \u001b[38;5;124m\"\u001b[39m\u001b[38;5;124m.\u001b[39m\u001b[38;5;124m\"\u001b[39m \u001b[38;5;241m+\u001b[39m opt,\n\u001b[1;32m   1469\u001b[0m                         value\u001b[38;5;241m=\u001b[39mnew_value,\n\u001b[1;32m   1470\u001b[0m                         scope\u001b[38;5;241m=\u001b[39m\u001b[38;5;124m'\u001b[39m\u001b[38;5;124mlocal\u001b[39m\u001b[38;5;124m'\u001b[39m,\n\u001b[1;32m   1471\u001b[0m                         reload\u001b[38;5;241m=\u001b[39m\u001b[38;5;28;01mFalse\u001b[39;00m)\n\u001b[0;32m-> 1472\u001b[0m \u001b[38;5;28;43mself\u001b[39;49m\u001b[38;5;241;43m.\u001b[39;49m\u001b[43m_call_annex\u001b[49m\u001b[43m(\u001b[49m\u001b[43m[\u001b[49m\u001b[38;5;124;43m'\u001b[39;49m\u001b[38;5;124;43minit\u001b[39;49m\u001b[38;5;124;43m'\u001b[39;49m\u001b[43m]\u001b[49m\u001b[43m \u001b[49m\u001b[38;5;241;43m+\u001b[39;49m\u001b[43m \u001b[49m\u001b[43mopts\u001b[49m\u001b[43m,\u001b[49m\u001b[43m \u001b[49m\u001b[43mprotocol\u001b[49m\u001b[38;5;241;43m=\u001b[39;49m\u001b[43mAnnexInitOutput\u001b[49m\u001b[43m)\u001b[49m\n\u001b[1;32m   1473\u001b[0m \u001b[38;5;66;03m# TODO: When to expect stderr?\u001b[39;00m\n\u001b[1;32m   1474\u001b[0m \u001b[38;5;66;03m# on crippled filesystem for example (think so)?\u001b[39;00m\n\u001b[1;32m   1475\u001b[0m \u001b[38;5;28mself\u001b[39m\u001b[38;5;241m.\u001b[39mconfig\u001b[38;5;241m.\u001b[39mreload()\n",
      "File \u001b[0;32m/usr/share/miniconda/envs/pydra-tutorial/lib/python3.10/site-packages/datalad/support/annexrepo.py:942\u001b[0m, in \u001b[0;36mAnnexRepo._call_annex\u001b[0;34m(self, args, files, jobs, protocol, git_options, stdin, merge_annex_branches, **kwargs)\u001b[0m\n\u001b[1;32m    935\u001b[0m             \u001b[38;5;28;01mreturn\u001b[39;00m runner\u001b[38;5;241m.\u001b[39mrun_on_filelist_chunks(\n\u001b[1;32m    936\u001b[0m                 cmd,\n\u001b[1;32m    937\u001b[0m                 files,\n\u001b[1;32m    938\u001b[0m                 protocol\u001b[38;5;241m=\u001b[39mprotocol,\n\u001b[1;32m    939\u001b[0m                 env\u001b[38;5;241m=\u001b[39menv,\n\u001b[1;32m    940\u001b[0m                 \u001b[38;5;241m*\u001b[39m\u001b[38;5;241m*\u001b[39mkwargs)\n\u001b[1;32m    941\u001b[0m     \u001b[38;5;28;01melse\u001b[39;00m:\n\u001b[0;32m--> 942\u001b[0m         \u001b[38;5;28;01mreturn\u001b[39;00m \u001b[43mrunner\u001b[49m\u001b[38;5;241;43m.\u001b[39;49m\u001b[43mrun\u001b[49m\u001b[43m(\u001b[49m\n\u001b[1;32m    943\u001b[0m \u001b[43m            \u001b[49m\u001b[43mcmd\u001b[49m\u001b[43m,\u001b[49m\n\u001b[1;32m    944\u001b[0m \u001b[43m            \u001b[49m\u001b[43mstdin\u001b[49m\u001b[38;5;241;43m=\u001b[39;49m\u001b[43mstdin\u001b[49m\u001b[43m,\u001b[49m\n\u001b[1;32m    945\u001b[0m \u001b[43m            \u001b[49m\u001b[43mprotocol\u001b[49m\u001b[38;5;241;43m=\u001b[39;49m\u001b[43mprotocol\u001b[49m\u001b[43m,\u001b[49m\n\u001b[1;32m    946\u001b[0m \u001b[43m            \u001b[49m\u001b[43menv\u001b[49m\u001b[38;5;241;43m=\u001b[39;49m\u001b[43menv\u001b[49m\u001b[43m,\u001b[49m\n\u001b[1;32m    947\u001b[0m \u001b[43m            \u001b[49m\u001b[38;5;241;43m*\u001b[39;49m\u001b[38;5;241;43m*\u001b[39;49m\u001b[43mkwargs\u001b[49m\u001b[43m)\u001b[49m\n\u001b[1;32m    948\u001b[0m \u001b[38;5;28;01mexcept\u001b[39;00m CommandError \u001b[38;5;28;01mas\u001b[39;00m e:\n\u001b[1;32m    949\u001b[0m     \u001b[38;5;66;03m# Note: A call might result in several 'failures', that can be or\u001b[39;00m\n\u001b[1;32m    950\u001b[0m     \u001b[38;5;66;03m# cannot be handled here. Detection of something, we can deal with,\u001b[39;00m\n\u001b[0;32m   (...)\u001b[0m\n\u001b[1;32m    955\u001b[0m     \u001b[38;5;66;03m# doesn't depend on anything in stdout. Therefore check this before\u001b[39;00m\n\u001b[1;32m    956\u001b[0m     \u001b[38;5;66;03m# dealing with stdout\u001b[39;00m\n\u001b[1;32m    957\u001b[0m     out_of_space_re \u001b[38;5;241m=\u001b[39m re\u001b[38;5;241m.\u001b[39msearch(\n\u001b[1;32m    958\u001b[0m         \u001b[38;5;124m\"\u001b[39m\u001b[38;5;124mnot enough free space, need (.*) more\u001b[39m\u001b[38;5;124m\"\u001b[39m, e\u001b[38;5;241m.\u001b[39mstderr\n\u001b[1;32m    959\u001b[0m     )\n",
      "File \u001b[0;32m/usr/share/miniconda/envs/pydra-tutorial/lib/python3.10/site-packages/datalad/runner/runner.py:211\u001b[0m, in \u001b[0;36mWitlessRunner.run\u001b[0;34m(self, cmd, protocol, stdin, cwd, env, timeout, exception_on_error, **kwargs)\u001b[0m\n\u001b[1;32m    209\u001b[0m     results\u001b[38;5;241m.\u001b[39mpop(\u001b[38;5;124m'\u001b[39m\u001b[38;5;124mcmd\u001b[39m\u001b[38;5;124m'\u001b[39m, \u001b[38;5;28;01mNone\u001b[39;00m)\n\u001b[1;32m    210\u001b[0m     results\u001b[38;5;241m.\u001b[39mpop(\u001b[38;5;124m'\u001b[39m\u001b[38;5;124mcwd\u001b[39m\u001b[38;5;124m'\u001b[39m, \u001b[38;5;28;01mNone\u001b[39;00m)\n\u001b[0;32m--> 211\u001b[0m     \u001b[38;5;28;01mraise\u001b[39;00m CommandError(\n\u001b[1;32m    212\u001b[0m         \u001b[38;5;66;03m# whatever the results were, we carry them forward\u001b[39;00m\n\u001b[1;32m    213\u001b[0m         cmd\u001b[38;5;241m=\u001b[39mcmd,\n\u001b[1;32m    214\u001b[0m         cwd\u001b[38;5;241m=\u001b[39m\u001b[38;5;28mself\u001b[39m\u001b[38;5;241m.\u001b[39mcwd,\n\u001b[1;32m    215\u001b[0m         \u001b[38;5;241m*\u001b[39m\u001b[38;5;241m*\u001b[39mresults,\n\u001b[1;32m    216\u001b[0m     )\n\u001b[1;32m    217\u001b[0m \u001b[38;5;66;03m# denoise, must be zero at this point\u001b[39;00m\n\u001b[1;32m    218\u001b[0m results\u001b[38;5;241m.\u001b[39mpop(\u001b[38;5;124m'\u001b[39m\u001b[38;5;124mcode\u001b[39m\u001b[38;5;124m'\u001b[39m, \u001b[38;5;28;01mNone\u001b[39;00m)\n",
      "\u001b[0;31mCommandError\u001b[0m: CommandError: 'git -c diff.ignoreSubmodules=none annex init -c annex.dotfiles=true' failed with exitcode 1 under /tmp/outputs/7_glm/raw_data"
     ]
    }
   ],
   "source": [
    "fmriprep_path = workflow_dir / '7_glm'/ 'data'\n",
    "rawdata_path = workflow_dir / '7_glm' / 'raw_data'\n",
    "os.makedirs(fmriprep_path, exist_ok=True)\n",
    "os.makedirs(rawdata_path, exist_ok=True)\n",
    "# Install datasets to specific datapaths\n",
    "fmriprep_url = 'https://github.com/OpenNeuroDerivatives/ds000001-fmriprep.git'\n",
    "rawdata_url = 'https://github.com/OpenNeuroDatasets/ds000001.git'\n",
    "dl.install(source=rawdata_url, path=rawdata_path)\n",
    "dl.install(source=fmriprep_url, path=fmriprep_path)"
   ]
  },
  {
   "cell_type": "markdown",
   "id": "0f215220",
   "metadata": {},
   "source": [
    "### Get data for each subject\n",
    "\n",
    "By `datalad.api.install`, datalad downloads all symlinks without storing the actual data locally. We can then use `datalad.api.get` to get the data we need for our analysis. \n",
    "We need to get four types of data from two folders:\n",
    "\n",
    "1. event_info: `*events.tsv` from `rawdata_path`\n",
    "2. bold: `*space-MNI152NLin2009cAsym_res-2_desc-preproc_bold.nii.gz` from `fmriprep_path`\n",
    "3. mask: `*space-MNI152NLin2009cAsym_res-2_desc-brain_mask.nii.gz` from `fmriprep_path`\n",
    "4. confounds: `*desc-confounds_timeseries.tsv` from `fmriprep_path` (this is implicitly needed by `load_confounds_strategy`)"
   ]
  },
  {
   "cell_type": "code",
   "execution_count": 5,
   "id": "bffed543",
   "metadata": {
    "tags": []
   },
   "outputs": [],
   "source": [
    "@pydra.mark.task\n",
    "@pydra.mark.annotate(\n",
    "    {\n",
    "        'subj_id': int,\n",
    "        'return': {'subj_id': int, 'subj_events': list, 'subj_imgs':list, 'subj_masks':list},\n",
    "    }\n",
    ")\n",
    "def get_subjdata(subj_id):\n",
    "    print(f\"\\nDownload data for subject-{subj_id}\")\n",
    "    # get events.tsv \n",
    "    subj_events = glob.glob(os.path.join(rawdata_path, 'sub-%02d' % subj_id, 'func', '*events.tsv'))\n",
    "    subj_events.sort()\n",
    "    for i in subj_events:\n",
    "        dl.get(i, dataset=rawdata_path)\n",
    "    # get bold\n",
    "    subj_imgs = glob.glob(os.path.join(fmriprep_path, 'sub-%02d' % subj_id, 'func', '*space-MNI152NLin2009cAsym_res-2_desc-preproc_bold.nii.gz'))\n",
    "    subj_imgs.sort()\n",
    "    for i in subj_imgs:\n",
    "        dl.get(i, dataset=fmriprep_path)\n",
    "    # get mask\n",
    "    subj_masks = glob.glob(os.path.join(fmriprep_path, 'sub-%02d' % subj_id, 'func', '*space-MNI152NLin2009cAsym_res-2_desc-brain_mask.nii.gz'))\n",
    "    subj_masks.sort()\n",
    "    for i in subj_masks:\n",
    "        dl.get(i, dataset=fmriprep_path)\n",
    "    # get confounds list\n",
    "    subj_confounds = glob.glob(os.path.join(fmriprep_path, 'sub-%02d' % subj_id, 'func', '*desc-confounds_timeseries.tsv'))\n",
    "    subj_confounds.sort()\n",
    "    for i in subj_confounds:\n",
    "        dl.get(i, dataset=fmriprep_path)\n",
    "    return subj_id, subj_events, subj_imgs, subj_masks"
   ]
  },
  {
   "cell_type": "markdown",
   "id": "b65b9fe3",
   "metadata": {},
   "source": [
    "## First-Level GLM\n",
    "\n",
    "The first level GLM has two parts:\n",
    "- conduct GLM for each run on every subject\n",
    "- average across runs for each subject with a fixed-effect model"
   ]
  },
  {
   "cell_type": "markdown",
   "id": "fdbf4dbc",
   "metadata": {},
   "source": [
    "### Get the first-level design matrix\n",
    "\n",
    "The design matrix is a _M(row)_ x _N(columns)_ matrix. _M_ corresponds to the number of _tr_, while _N_ corresponds to event conditions + confounds."
   ]
  },
  {
   "cell_type": "code",
   "execution_count": 6,
   "id": "60247205",
   "metadata": {},
   "outputs": [],
   "source": [
    "@pydra.mark.task\n",
    "@pydra.mark.annotate(\n",
    "    {\n",
    "        'tr': float,\n",
    "        'n_scans': int,\n",
    "        'hrf_model': str,\n",
    "        'subj_id': int,\n",
    "        'run_id': int,\n",
    "        'subj_imgs': list,\n",
    "        'subj_events':list,\n",
    "        'return': {'dm_path': str, 'run_id': int},\n",
    "    }\n",
    ")\n",
    "def get_firstlevel_dm(tr, n_scans, hrf_model, subj_id, run_id, subj_imgs, subj_events):\n",
    "    print(f\"\\nGet subject-{subj_id}, run-{run_id} firstlevel GLM design matrix...\\n\")\n",
    "    # read event file\n",
    "    run_img = subj_imgs[run_id-1]\n",
    "    run_event = subj_events[run_id-1]\n",
    "    event = pd.read_csv(run_event, sep='\\t').fillna(0)\n",
    "    event = event[['onset', 'duration', 'trial_type']]\n",
    "    # get list of confounds directly from fmriprepped bold\n",
    "    confounds = load_confounds_strategy(run_img, denoise_strategy='simple')[0]\n",
    "    frame_times = np.arange(n_scans) * tr\n",
    "    design_matrix = make_first_level_design_matrix(frame_times, event, \n",
    "                                                   hrf_model=hrf_model,\n",
    "                                                   add_regs=confounds)          \n",
    "\n",
    "    # make sure all design matrices have the same length of column\n",
    "    # if you have a block design, this is not needed.\n",
    "    # 39 = 4(events) + 34(confounds) + 13(drift) + 1(constant)\n",
    "    assert design_matrix.shape[1] == 52, \"This design matrix has the wrong column number\"\n",
    "    # sort the column order alphabetical for contrasts\n",
    "    design_matrix = design_matrix.reindex(sorted(design_matrix.columns), axis=1)\n",
    "    dm_path = os.path.join(workflow_out_dir, 'sub-%s_run-%s_designmatrix.csv' % (subj_id, run_id))\n",
    "    design_matrix.to_csv(dm_path, index=None)\n",
    "    return dm_path, run_id"
   ]
  },
  {
   "cell_type": "markdown",
   "id": "3ba1e420",
   "metadata": {},
   "source": [
    "### Set up the first level contrasts"
   ]
  },
  {
   "cell_type": "code",
   "execution_count": 7,
   "id": "294a308a",
   "metadata": {},
   "outputs": [],
   "source": [
    "@pydra.mark.task\n",
    "@pydra.mark.annotate(\n",
    "    {\n",
    "        'subj_id': int,\n",
    "        'run_id': int,\n",
    "        'dm_path': str,\n",
    "        'return': {'contrasts': dict},\n",
    "    }\n",
    ")\n",
    "def set_contrast(subj_id, run_id, dm_path):\n",
    "    print(f\"\\nSet firstlevel contrast for subject-{subj_id}, run-{run_id} ...\\n\") \n",
    "    design_matrix = pd.read_csv(dm_path)\n",
    "    contrast_matrix = np.eye(design_matrix.shape[1])\n",
    "    basic_contrasts = dict([(column, contrast_matrix[i])\n",
    "                      for i, column in enumerate(design_matrix.columns)])\n",
    "    contrasts = {\n",
    "        'pumps-control': basic_contrasts['pumps_demean'] - basic_contrasts['control_pumps_demean'],\n",
    "        'control-pumps': -basic_contrasts['control_pumps_demean'] + basic_contrasts['pumps_demean'],\n",
    "        'pumps-baseline': basic_contrasts['pumps_demean'],\n",
    "        'cash-baseline': basic_contrasts['cash_demean'],\n",
    "        'explode-baseline': basic_contrasts['explode_demean']\n",
    "        }\n",
    "    return contrasts"
   ]
  },
  {
   "cell_type": "markdown",
   "id": "a5aadc11",
   "metadata": {},
   "source": [
    "### Fit the first level GLM"
   ]
  },
  {
   "cell_type": "code",
   "execution_count": 8,
   "id": "a73dba4e",
   "metadata": {},
   "outputs": [],
   "source": [
    "@pydra.mark.task\n",
    "@pydra.mark.annotate(\n",
    "    {\n",
    "        'subj_id': int,\n",
    "        'run_id': int,\n",
    "        'subj_imgs': list,\n",
    "        'subj_masks': list,\n",
    "        'smoothing_fwhm': float,\n",
    "        'dm_path': str,\n",
    "        'contrasts':dict,\n",
    "        'return': {'effect_size_path_dict': dict, 'effect_variance_path_dict': dict},\n",
    "    }\n",
    ")\n",
    "def firstlevel_estimation(subj_id, run_id, subj_imgs, subj_masks, smoothing_fwhm, dm_path, contrasts):\n",
    "    print(f\"\\nStart firstlevel estimation for subject-{subj_id}, run-{run_id} ...\\n\")\n",
    "    \n",
    "    # subsample img to reduce memory\n",
    "    run_img = subj_imgs[run_id-1]\n",
    "    img = load_img(run_img)\n",
    "    img_data = get_data(run_img)[::2,::2,::2]\n",
    "    new_img = nib.Nifti1Image(img_data, img.affine)\n",
    "    run_mask = subj_masks[run_id-1]\n",
    "    print('Fit the firstlevel model...')\n",
    "    first_level_model = FirstLevelModel(mask_img=run_mask, smoothing_fwhm=smoothing_fwhm)\n",
    "    dm= pd.read_csv(dm_path)\n",
    "    first_level_model = first_level_model.fit(new_img, design_matrices=dm)\n",
    "    print('Computing contrasts...')\n",
    "    effect_size_path_dict = dict.fromkeys(contrasts.keys())\n",
    "    effect_variance_path_dict = dict.fromkeys(contrasts.keys())\n",
    "    for index, (contrast_id, contrast_val) in enumerate(contrasts.items()):\n",
    "        print('  Contrast % 2i out of %i: %s' % (\n",
    "            index + 1, len(contrasts), contrast_id))\n",
    "        # Estimate the contasts. Note that the model implicitly computes a fixed\n",
    "        # effect across the two sessions\n",
    "        res = first_level_model.compute_contrast(contrast_val, output_type='all')\n",
    "        # write the resulting stat images to file\n",
    "        effect_size_path = os.path.join(workflow_out_dir, 'sub-%s_run-%s_contrast-%s_effect_size.nii.gz' % (subj_id, run_id, contrast_id))\n",
    "        effect_variance_path = os.path.join(workflow_out_dir, 'sub-%s_run-%s_contrast-%s_effect_varaince.nii.gz' % (subj_id, run_id, contrast_id))\n",
    "        effect_size_path_dict[contrast_id] = effect_size_path\n",
    "        effect_variance_path_dict[contrast_id] = effect_variance_path\n",
    "        res['effect_size'].to_filename(effect_size_path)\n",
    "        res['effect_variance'].to_filename(effect_variance_path)\n",
    "        \n",
    "    return effect_size_path_dict, effect_variance_path_dict"
   ]
  },
  {
   "cell_type": "markdown",
   "id": "c0a2fc6d",
   "metadata": {},
   "source": [
    "### Create the first level GLM workflow\n",
    "\n",
    "This workflow include GLM for each run."
   ]
  },
  {
   "cell_type": "code",
   "execution_count": 9,
   "id": "bcd578f9",
   "metadata": {
    "tags": []
   },
   "outputs": [],
   "source": [
    "# initiate the first-level GLM workflow\n",
    "wf_firstlevel = Workflow(\n",
    "    name='wf_firstlevel',\n",
    "    input_spec=[\n",
    "        'subj_id',\n",
    "        'run_id',\n",
    "        'subj_imgs',\n",
    "        'subj_events',\n",
    "        'subj_masks',\n",
    "        'tr',\n",
    "        'n_scans',\n",
    "        'hrf_model',\n",
    "        'smoothing_fwhm'\n",
    "    ],\n",
    ")\n",
    "\n",
    "wf_firstlevel.split('run_id')\n",
    "# add task - get_firstlevel_dm\n",
    "wf_firstlevel.add(\n",
    "    get_firstlevel_dm(\n",
    "        name = \"get_firstlevel_dm\",\n",
    "        tr = wf_firstlevel.lzin.tr, \n",
    "        n_scans = wf_firstlevel.lzin.n_scans, \n",
    "        hrf_model = wf_firstlevel.lzin.hrf_model, \n",
    "        subj_id = wf_firstlevel.lzin.subj_id, \n",
    "        run_id = wf_firstlevel.lzin.run_id, \n",
    "        subj_imgs = wf_firstlevel.lzin.subj_imgs, \n",
    "        subj_events = wf_firstlevel.lzin.subj_events,\n",
    "    )\n",
    ")\n",
    "\n",
    "# add task - set_contrast\n",
    "wf_firstlevel.add(\n",
    "    set_contrast(\n",
    "        name = \"set_contrast\",\n",
    "        subj_id = wf_firstlevel.lzin.subj_id,\n",
    "        run_id = wf_firstlevel.get_firstlevel_dm.lzout.run_id,\n",
    "        dm_path = wf_firstlevel.get_firstlevel_dm.lzout.dm_path\n",
    "    )\n",
    ")\n",
    "\n",
    "# add task - firstlevel_estimation\n",
    "wf_firstlevel.add(\n",
    "    firstlevel_estimation(\n",
    "        name = \"firstlevel_estimation\",\n",
    "        subj_id = wf_firstlevel.lzin.subj_id, \n",
    "        run_id = wf_firstlevel.get_firstlevel_dm.lzout.run_id, \n",
    "        subj_imgs = wf_firstlevel.lzin.subj_imgs, \n",
    "        subj_masks = wf_firstlevel.lzin.subj_masks,\n",
    "        smoothing_fwhm = wf_firstlevel.lzin.smoothing_fwhm, \n",
    "        dm_path = wf_firstlevel.get_firstlevel_dm.lzout.dm_path, \n",
    "        contrasts = wf_firstlevel.set_contrast.lzout.contrasts\n",
    "    )\n",
    ")\n",
    "\n",
    "\n",
    "wf_firstlevel.combine('run_id')\n",
    "# specify output\n",
    "wf_firstlevel.set_output(\n",
    "    [\n",
    "        ('first_level_contrast', wf_firstlevel.set_contrast.lzout.contrasts),\n",
    "        ('first_level_effect_size_list', wf_firstlevel.firstlevel_estimation.lzout.effect_size_path_dict),\n",
    "        ('first_level_effect_variance_list', wf_firstlevel.firstlevel_estimation.lzout.effect_variance_path_dict),\n",
    "    ]\n",
    ")"
   ]
  },
  {
   "cell_type": "markdown",
   "id": "765e3ca3",
   "metadata": {},
   "source": [
    "### Compute fixed effects\n",
    "\n",
    "Before we move to the second(group) level, we need to average results from all three runs from a fixed effect model"
   ]
  },
  {
   "cell_type": "code",
   "execution_count": 10,
   "id": "4673ea32",
   "metadata": {},
   "outputs": [],
   "source": [
    "@pydra.mark.task\n",
    "@pydra.mark.annotate(\n",
    "    {'subj_id': int, \n",
    "     'subj_masks': list,\n",
    "     'contrasts': list,\n",
    "     'effect_size_path_dict_list': list,\n",
    "     'effect_variance_path_dict_list': list,\n",
    "     'return': {'fixed_fx_contrast_path_dict': dict, 'fixed_fx_variance_path_dict': dict, 'fixed_fx_ttest_path_dict': dict},\n",
    "    }\n",
    ")\n",
    "def get_fixed_effcts(subj_id, subj_masks, contrasts, effect_size_path_dict_list, effect_variance_path_dict_list):\n",
    "    \n",
    "    print(f'Compute fixed effects for subject-{subj_id}...')\n",
    "    # average mask across three runs\n",
    "    mean_mask = math_img('np.mean(img, axis=-1)', img=subj_masks)\n",
    "    # binarize the mean mask\n",
    "    mask = math_img('img > 0', img=mean_mask)\n",
    "    fixed_fx_contrast_path_dict =dict.fromkeys(contrasts[0].keys())\n",
    "    fixed_fx_variance_path_dict = dict.fromkeys(contrasts[0].keys())\n",
    "    fixed_fx_ttest_path_dict = dict.fromkeys(contrasts[0].keys())\n",
    "    for index, (contrast_id, contrast_val) in enumerate(contrasts[0].items()):\n",
    "        print(' Contrast % 2i out of %i: %s' % (index + 1, len(contrasts[0]), contrast_id))\n",
    "        contrast_imgs = [nib.load(img_dict[contrast_id]) for img_dict in effect_size_path_dict_list]\n",
    "        variance_imgs = [nib.load(img_dict[contrast_id]) for img_dict in effect_variance_path_dict_list]\n",
    "        fixed_fx_contrast, fixed_fx_variance, fixed_fx_ttest = compute_fixed_effects(contrast_imgs, variance_imgs, mask)\n",
    "        \n",
    "        effect_size_path = os.path.join(workflow_out_dir, 'sub-%s_contrast-%s_fx_effect_size.nii.gz' % (subj_id, contrast_id))\n",
    "        variance_path = os.path.join(workflow_out_dir, 'sub-%s_contrast-%s_fx_effect_varaince.nii.gz' % (subj_id, contrast_id))\n",
    "        ttest_path = os.path.join(workflow_out_dir, 'sub-%s_contrast-%s_ttest_map.nii.gz' % (subj_id, contrast_id))\n",
    "        fixed_fx_contrast_path_dict[contrast_id] = effect_size_path\n",
    "        fixed_fx_variance_path_dict[contrast_id] = variance_path\n",
    "        fixed_fx_ttest_path_dict[contrast_id]  = ttest_path\n",
    "        \n",
    "        fixed_fx_contrast.to_filename(effect_size_path)\n",
    "        fixed_fx_variance.to_filename(variance_path)\n",
    "        fixed_fx_ttest.to_filename(ttest_path)\n",
    "    return fixed_fx_contrast_path_dict, fixed_fx_variance_path_dict, fixed_fx_ttest_path_dict"
   ]
  },
  {
   "cell_type": "markdown",
   "id": "378f1a0b",
   "metadata": {},
   "source": [
    "### Create the fixed effect workflow"
   ]
  },
  {
   "cell_type": "code",
   "execution_count": 11,
   "id": "40fa1776",
   "metadata": {},
   "outputs": [],
   "source": [
    "# initiate the fixed effect GLM workflow\n",
    "wf_fixed_effect = Workflow(\n",
    "    name='wf_fixed_effect',\n",
    "    input_spec=[\n",
    "        'subj_id',\n",
    "        'run_id',\n",
    "        'tr',\n",
    "        'n_scans',\n",
    "        'hrf_model',\n",
    "        'smoothing_fwhm'\n",
    "    ],\n",
    ")\n",
    "\n",
    "wf_fixed_effect.split('subj_id')\n",
    "# add task - get_subj_file\n",
    "wf_fixed_effect.add(\n",
    "    get_subjdata(\n",
    "        name = \"get_subjdata\",\n",
    "        subj_id = wf_fixed_effect.lzin.subj_id, \n",
    "    )\n",
    ")\n",
    "wf_firstlevel.inputs.subj_id = wf_fixed_effect.get_subjdata.lzout.subj_id\n",
    "wf_firstlevel.inputs.run_id = wf_fixed_effect.lzin.run_id\n",
    "wf_firstlevel.inputs.tr = wf_fixed_effect.lzin.tr\n",
    "wf_firstlevel.inputs.n_scans = wf_fixed_effect.lzin.n_scans\n",
    "wf_firstlevel.inputs.hrf_model = wf_fixed_effect.lzin.hrf_model\n",
    "wf_firstlevel.inputs.smoothing_fwhm = wf_fixed_effect.lzin.smoothing_fwhm\n",
    "wf_firstlevel.inputs.subj_imgs = wf_fixed_effect.get_subjdata.lzout.subj_imgs\n",
    "wf_firstlevel.inputs.subj_events = wf_fixed_effect.get_subjdata.lzout.subj_events\n",
    "wf_firstlevel.inputs.subj_masks = wf_fixed_effect.get_subjdata.lzout.subj_masks\n",
    "wf_fixed_effect.add(wf_firstlevel)\n",
    "\n",
    "wf_fixed_effect.add(\n",
    "    get_fixed_effcts(\n",
    "        name = \"get_fixed_effcts\",\n",
    "        subj_id = wf_fixed_effect.get_subjdata.lzout.subj_id, \n",
    "        subj_masks = wf_fixed_effect.get_subjdata.lzout.subj_masks,\n",
    "        contrasts = wf_fixed_effect.wf_firstlevel.lzout.first_level_contrast, \n",
    "        effect_size_path_dict_list = wf_fixed_effect.wf_firstlevel.lzout.first_level_effect_size_list, \n",
    "        effect_variance_path_dict_list = wf_fixed_effect.wf_firstlevel.lzout.first_level_effect_variance_list\n",
    "    )\n",
    ")\n",
    "\n",
    "wf_fixed_effect.combine('subj_id')\n",
    "# specify output\n",
    "wf_fixed_effect.set_output(\n",
    "    [\n",
    "        ('first_level_contrast', wf_fixed_effect.wf_firstlevel.lzout.first_level_contrast),\n",
    "        ('fx_effect_size_list', wf_fixed_effect.get_fixed_effcts.lzout.fixed_fx_contrast_path_dict),\n",
    "        ('fx_effect_variance_list', wf_fixed_effect.get_fixed_effcts.lzout.fixed_fx_variance_path_dict),\n",
    "        ('fx_t_test_list', wf_fixed_effect.get_fixed_effcts.lzout.fixed_fx_ttest_path_dict),\n",
    "    ]\n",
    ")"
   ]
  },
  {
   "cell_type": "markdown",
   "id": "53b8a27a",
   "metadata": {},
   "source": [
    "## Second-Level GLM\n",
    "\n",
    "The second level GLM, as known as the group level, averages results across subjects, containing the following steps:\n",
    "- construct design matrix\n",
    "- fit the second-level GLM\n",
    "- statistical testing"
   ]
  },
  {
   "cell_type": "markdown",
   "id": "7a6042c9",
   "metadata": {
    "tags": []
   },
   "source": [
    "### Get the second level design matrix\n",
    "\n",
    "This is a one-group design. So we need a design matrix for a one-sample test.\n",
    "\n",
    "The design matrix is a single column of ones, corresponding to the model intercept."
   ]
  },
  {
   "cell_type": "code",
   "execution_count": 12,
   "id": "6eb60251",
   "metadata": {},
   "outputs": [],
   "source": [
    "@pydra.mark.task\n",
    "@pydra.mark.annotate(\n",
    "    {'n_subj': int, 'return': {'design_matrix': ty.Any}}\n",
    ")\n",
    "def get_secondlevel_dm(n_subj):\n",
    "    t1 = datetime.datetime.now()\n",
    "    print(f\"\\nGet secondlevel design matrix ...\\n\")\n",
    "    design_matrix = pd.DataFrame([1] * n_subj,columns=['intercept'])\n",
    "    return design_matrix"
   ]
  },
  {
   "cell_type": "markdown",
   "id": "8a9b4199",
   "metadata": {},
   "source": [
    "### Fit the second level GLM\n",
    "\n",
    "Here, we use the list of FirstLevel z-maps as the input for the SecondLevelModel."
   ]
  },
  {
   "cell_type": "code",
   "execution_count": 13,
   "id": "b94845e4",
   "metadata": {},
   "outputs": [],
   "source": [
    "@pydra.mark.task\n",
    "@pydra.mark.annotate(\n",
    "    {'firstlevel_stats_list': list, 'design_matrix': ty.Any, 'firstlevel_contrast':list, \n",
    "     'return': {'secondlevel_mask': ty.Any, 'stat_maps_dict': dict}}\n",
    ")\n",
    "def secondlevel_estimation(firstlevel_stats_list, design_matrix, firstlevel_contrast):   \n",
    "    print(f\"\\nStart secondlevel estimation ...\\n\")\n",
    "    stat_maps_dict = dict.fromkeys(firstlevel_contrast[0][0].keys())\n",
    "    for index, (contrast_id, contrast_val) in enumerate(firstlevel_contrast[0][0].items()):\n",
    "        print(' Contrast % 2i out of %i: %s' % (\n",
    "            index + 1, len(firstlevel_contrast[0][0]), contrast_id))\n",
    "        second_level_input = [nib.load(stats_dict[contrast_id]) for stats_dict in firstlevel_stats_list]\n",
    "        second_level_model = SecondLevelModel()\n",
    "        second_level_model = second_level_model.fit(second_level_input, design_matrix=design_matrix)\n",
    "        secondlevel_mask = second_level_model.masker_.mask_img_\n",
    "    \n",
    "        stats = second_level_model.compute_contrast(output_type='all')\n",
    "        # write the resulting stat images to file\n",
    "        z_image_path = os.path.join(workflow_out_dir, 'secondlevel_contrast-%s_z_map.nii.gz' % contrast_id)\n",
    "        stat_maps_dict[contrast_id] = stats\n",
    "        stats['z_score'].to_filename(z_image_path)\n",
    "        plot_path = os.path.join(workflow_out_dir, 'secondlevel_unthresholded_contrast-%s_zmap.jpg' % contrast_id)\n",
    "        plot_glass_brain(stats['z_score'],\n",
    "                         colorbar=True,\n",
    "                         threshold=norm.isf(0.001),\n",
    "                         title='Unthresholded z map',\n",
    "                         output_file=plot_path)\n",
    "    return secondlevel_mask, stat_maps_dict"
   ]
  },
  {
   "cell_type": "markdown",
   "id": "e6544401",
   "metadata": {},
   "source": [
    "### Create the second level GLM workflow"
   ]
  },
  {
   "cell_type": "code",
   "execution_count": 14,
   "id": "b9e29ecc",
   "metadata": {},
   "outputs": [],
   "source": [
    "# initiate the first-level GLM workflow\n",
    "wf_secondlevel = Workflow(\n",
    "    name='wf_secondlevel',\n",
    "    input_spec=[\n",
    "        'n_subj',\n",
    "        'firstlevel_stats_list', \n",
    "        'firstlevel_contrast',\n",
    "        'n_perm',\n",
    "    ],\n",
    ")\n",
    "\n",
    "# add task - get_secondlevel_dm\n",
    "wf_secondlevel.add(\n",
    "    get_secondlevel_dm(\n",
    "        name = \"get_secondlevel_dm\",\n",
    "        n_subj = wf_secondlevel.lzin.n_subj, \n",
    "    )\n",
    ")\n",
    "\n",
    "# add task - secondlevel_estimation\n",
    "wf_secondlevel.add(\n",
    "    secondlevel_estimation(\n",
    "        name = \"secondlevel_estimation\",\n",
    "        firstlevel_stats_list = wf_secondlevel.lzin.firstlevel_stats_list,  \n",
    "        design_matrix = wf_secondlevel.get_secondlevel_dm.lzout.design_matrix, \n",
    "        firstlevel_contrast = wf_secondlevel.lzin.firstlevel_contrast\n",
    "    )\n",
    ")\n",
    "\n",
    "# specify output\n",
    "wf_secondlevel.set_output(\n",
    "    [\n",
    "        ('second_level_designmatrix', wf_secondlevel.get_secondlevel_dm.lzout.design_matrix),\n",
    "        ('second_level_mask', wf_secondlevel.secondlevel_estimation.lzout.secondlevel_mask),\n",
    "        ('second_level_stats_map', wf_secondlevel.secondlevel_estimation.lzout.stat_maps_dict)\n",
    "    ]\n",
    ")"
   ]
  },
  {
   "cell_type": "markdown",
   "id": "7224463e",
   "metadata": {},
   "source": [
    "## Statistical Testing\n",
    "\n",
    "In this section, we present different ways of doing statistical testing\n",
    "\n",
    "1. Cluster-thresholding without multiple comparison\n",
    "2. Multiple comparison using FDR\n",
    "3. Paramatric testing\n",
    "4. Nonparamatric testing"
   ]
  },
  {
   "cell_type": "markdown",
   "id": "7ccff52d",
   "metadata": {},
   "source": [
    "### Cluster-thresholding and Plot without multiple comparison\n",
    "\n",
    "Threshold the resulting map without multiple comparisons correction, abs(z) > 3.29 (equivalent to p < 0.001), cluster size > 10 voxels."
   ]
  },
  {
   "cell_type": "code",
   "execution_count": 15,
   "id": "4e864e17",
   "metadata": {},
   "outputs": [],
   "source": [
    "@pydra.mark.task\n",
    "@pydra.mark.annotate(\n",
    "    {'stat_maps_dict': dict, 'threshold': float, 'cluster_threshold': int, \n",
    "     'return': {'thresholded_map_dict': dict, 'plot_contrast_dict': dict}}\n",
    ")\n",
    "def cluster_thresholding(stat_maps_dict, threshold, cluster_threshold):\n",
    "    t1 = datetime.datetime.now()\n",
    "    print(\"\\nStart cluster thresholding ...\\n\")\n",
    "    thresholded_map_dict = dict.fromkeys(stat_maps_dict.keys())\n",
    "    plot_contrast_dict = dict.fromkeys(stat_maps_dict.keys())\n",
    "    for index, (stats_id, stats_val) in enumerate(stat_maps_dict.items()):\n",
    "        print('Contrast % 2i out of %i: %s' % (\n",
    "            index + 1, len(stat_maps_dict), stats_id))\n",
    "        thresholded_map = threshold_img(\n",
    "            img = stats_val['z_score'],\n",
    "            threshold=threshold,\n",
    "            cluster_threshold=cluster_threshold,\n",
    "            two_sided=True,\n",
    "        )\n",
    "        thresholded_map_path = os.path.join(workflow_out_dir, 'secondlevel_cluster_thresholded_contrast-%s_z_map.nii.gz' % stats_id)\n",
    "        thresholded_map_dict[stats_id] = thresholded_map_path\n",
    "        thresholded_map.to_filename(thresholded_map_path)\n",
    "        plot_path = os.path.join(workflow_out_dir, \n",
    "                                   'secondlevel_cluster_thresholded_contrast-%s_zmap.jpg' % stats_id)\n",
    "        plot_contrast_dict[stats_id] = plot_path\n",
    "        plot_stat_map(thresholded_map,\n",
    "                               title='Cluster Thresholded z map',\n",
    "                               output_file=plot_path)\n",
    "    print(\"\\nCluster thresholding is done\")\n",
    "    return thresholded_map_dict, plot_contrast_dict"
   ]
  },
  {
   "cell_type": "markdown",
   "id": "e23a973b",
   "metadata": {},
   "source": [
    "### Multiple comparison and Plot\n",
    "\n",
    "We have the following choices:\n",
    "- `fdr`: False Discovery Rate (FDR <.05) and no cluster-level threshold\n",
    "- `fpr`: False Positive Rate\n",
    "- `bonferroni`\n",
    "\n",
    "More details see [here](https://nilearn.github.io/stable/modules/generated/nilearn.glm.threshold_stats_img.html#nilearn.glm.threshold_stats_img)"
   ]
  },
  {
   "cell_type": "code",
   "execution_count": 16,
   "id": "a53d6632",
   "metadata": {},
   "outputs": [],
   "source": [
    "@pydra.mark.task\n",
    "@pydra.mark.annotate(\n",
    "    {'stat_maps_dict': dict, 'alpha': float, 'height_control': str, \n",
    "     'return': {'thresholded_map_dict': dict, 'plot_contrast_dict': dict}}\n",
    ")\n",
    "def multiple_comparison(stat_maps_dict, alpha, height_control):\n",
    "    print(\"\\nStart multiple comparison ...\\n\")\n",
    "    from nilearn.glm import threshold_stats_img\n",
    "    from nilearn.plotting import plot_stat_map\n",
    "    thresholded_map_dict = dict.fromkeys(stat_maps_dict.keys())\n",
    "    plot_contrast_dict = dict.fromkeys(stat_maps_dict.keys())\n",
    "    for index, (stats_id, stats_val) in enumerate(stat_maps_dict.items()):\n",
    "        print('Contrast % 2i out of %i: %s' % (\n",
    "            index + 1, len(stat_maps_dict), stats_id))\n",
    "        thresholded_map, threshold = threshold_stats_img(\n",
    "            stat_img=stats_val['z_score'], \n",
    "            alpha=alpha, \n",
    "            height_control=height_control)\n",
    "        thresholded_map_path = os.path.join(workflow_out_dir, \n",
    "                                         'secondlevel_multiple_comp_corrected_contrast-%s_z_map.nii.gz' % stats_id)\n",
    "        thresholded_map_dict[stats_id] = thresholded_map_path\n",
    "        thresholded_map.to_filename(thresholded_map_path)\n",
    "        plot_path = os.path.join(workflow_out_dir, \n",
    "                                   'secondlevel_multiple_comp_corrected_contrast-%s_zmap.jpg' % stats_id)\n",
    "        plot_contrast_dict[stats_id] = plot_path\n",
    "        plot_stat_map(thresholded_map,\n",
    "                      title='Thresholded z map, expected fdr = .05',\n",
    "                      threshold=threshold, \n",
    "                      output_file=plot_path)\n",
    "    print(\"\\nMultiple comparison is done\")\n",
    "    return thresholded_map_dict, plot_contrast_dict"
   ]
  },
  {
   "cell_type": "markdown",
   "id": "03b2c58b",
   "metadata": {},
   "source": [
    "### Paramatric test & Plot\n",
    "\n",
    "We threshold the second level contrast at uncorrected p < 0.001.\n",
    "\n",
    "A nilearn example see [here](https://nilearn.github.io/dev/auto_examples/05_glm_second_level/plot_second_level_one_sample_test.html)"
   ]
  },
  {
   "cell_type": "code",
   "execution_count": 17,
   "id": "2234ea45",
   "metadata": {},
   "outputs": [],
   "source": [
    "@pydra.mark.task\n",
    "@pydra.mark.annotate(\n",
    "    {'stat_maps_dict': dict, \n",
    "     'secondlevel_mask': ty.Any,\n",
    "     'return': {'thresholded_map_dict': dict, 'plot_contrast_dict': dict}}\n",
    ")\n",
    "def parametric_test(stat_maps_dict, secondlevel_mask):\n",
    "    print(\"\\nStart parametric test ...\\n\")\n",
    "    thresholded_map_dict = dict.fromkeys(stat_maps_dict.keys())\n",
    "    plot_contrast_dict = dict.fromkeys(stat_maps_dict.keys())\n",
    "    for index, (stats_id, stats_val) in enumerate(stat_maps_dict.items()):\n",
    "        print('Contrast % 2i out of %i: %s' % (\n",
    "            index + 1, len(stat_maps_dict), stats_id))\n",
    "        p_val = stats_val['p_value']\n",
    "        n_voxels = np.sum(get_data(img=secondlevel_mask))\n",
    "        # Correcting the p-values for multiple testing and taking negative logarithm\n",
    "        neg_log_pval = math_img(\"-np.log10(np.minimum(1, img * {}))\"\n",
    "                                .format(str(n_voxels)),\n",
    "                                img=p_val)\n",
    "        \n",
    "        thresholded_map_path = os.path.join(workflow_out_dir, 'secondlevel_paramatric_thresholded_contrast-%s_z_map.nii.gz' % stats_id)\n",
    "        thresholded_map_dict[stats_id] = thresholded_map_path\n",
    "        neg_log_pval.to_filename(thresholded_map_path)\n",
    "    \n",
    "        # Since we are plotting negative log p-values and using a threshold equal to 1,\n",
    "        # it corresponds to corrected p-values lower than 10%, meaning that there is\n",
    "        # less than 10% probability to make a single false discovery (90% chance that\n",
    "        # we make no false discovery at all).  This threshold is much more conservative\n",
    "        # than the previous one.\n",
    "        title = ('parametric test (FWER < 10%)')\n",
    "        plot_path = os.path.join(workflow_out_dir, \n",
    "                                   'secondlevel_paramatric_thresholded_contrast-%s_zmap.jpg' % stats_id)\n",
    "        plot_contrast_dict[stats_id] = plot_path\n",
    "        plot_stat_map(\n",
    "            neg_log_pval, colorbar=True,\n",
    "            title=title, output_file=plot_path)\n",
    "    print(\"\\nParametric test is done\")\n",
    "    return thresholded_map_dict, plot_contrast_dict"
   ]
  },
  {
   "cell_type": "markdown",
   "id": "338c0038",
   "metadata": {},
   "source": [
    "### Non-paramatric test & Plot\n",
    "\n",
    "Here we compute the (corrected) negative log p-values with permutation test."
   ]
  },
  {
   "cell_type": "code",
   "execution_count": 18,
   "id": "0331ddc1",
   "metadata": {},
   "outputs": [],
   "source": [
    "@pydra.mark.task\n",
    "@pydra.mark.annotate(\n",
    "    {'firstlevel_stats_list': list, 'smoothing_fwhm':float,'design_matrix': ty.Any, 'firstlevel_contrast': list, 'n_perm': int, \n",
    "     'return': {'thresholded_map_dict': dict, 'plot_contrast_dict': dict}}\n",
    ")\n",
    "def nonparametric_test(firstlevel_stats_list, smoothing_fwhm, design_matrix, firstlevel_contrast, n_perm):\n",
    "    print(f\"\\nStart nonparametric test ...\\n\")\n",
    "    thresholded_map_dict = dict.fromkeys(firstlevel_contrast[0][0].keys())\n",
    "    plot_contrast_dict = dict.fromkeys(firstlevel_contrast[0][0].keys())\n",
    "    for index, (contrast_id, contrast_val) in enumerate(firstlevel_contrast[0][0].items()):\n",
    "        print('  Contrast % 2i out of %i: %s' % (\n",
    "            index + 1, len(firstlevel_contrast[0][0]), contrast_id))\n",
    "        # here we set threshold as none to do voxel-level FWER-correction.\n",
    "        second_level_input = [nib.load(stats_dict[contrast_id]) for stats_dict in firstlevel_stats_list]\n",
    "        neg_log_pvals_permuted_ols_unmasked = \\\n",
    "            non_parametric_inference(second_level_input=second_level_input, design_matrix=design_matrix,\n",
    "                                     model_intercept=True, n_perm=n_perm,\n",
    "                                     two_sided_test=False, smoothing_fwhm=smoothing_fwhm, n_jobs=1)\n",
    "        thresholded_map_path = os.path.join(workflow_out_dir, 'secondlevel_permutation_contrast-%s_z_map.nii.gz' % contrast_id)\n",
    "        thresholded_map_dict[contrast_id] = thresholded_map_path\n",
    "        neg_log_pvals_permuted_ols_unmasked.to_filename(thresholded_map_path)\n",
    "        # here I actually have more than one contrast\n",
    "        title = ('permutation test (FWER < 10%)')\n",
    "        plot_path = os.path.join(workflow_out_dir, 'secondlevel_permutation_contrast-%s_zmap.jpg' % contrast_id)\n",
    "        plot_contrast_dict[contrast_id] = plot_path\n",
    "        plot_stat_map(\n",
    "            neg_log_pvals_permuted_ols_unmasked, colorbar=True, \n",
    "            title=title, output_file=plot_path)\n",
    "    print(\"\\nPermutation is done\")\n",
    "    return thresholded_map_dict, plot_contrast_dict"
   ]
  },
  {
   "cell_type": "markdown",
   "id": "bcba510b",
   "metadata": {},
   "source": [
    "## The Ultimate Workflow\n",
    "\n",
    "Now, let's connect all tasks and workflows together.\n",
    "\n",
    "Here we randomly choose **5** subjects to perform the analysis. \n",
    "\n",
    "For computational time, we set `n_perm=100`."
   ]
  },
  {
   "cell_type": "code",
   "execution_count": 19,
   "id": "9398e7a8",
   "metadata": {},
   "outputs": [],
   "source": [
    "wf = Workflow(\n",
    "    name='twolevel_glm',\n",
    "    input_spec=['n_subj'],\n",
    ")\n",
    "\n",
    "wf.inputs.n_subj = 5\n",
    "\n",
    "# randomly choose subjects\n",
    "wf_fixed_effect.inputs.subj_id = random.sample(range(1,17), wf.inputs.n_subj)\n",
    "wf_fixed_effect.inputs.run_id =[1,2,3]\n",
    "wf_fixed_effect.inputs.tr = 2.3\n",
    "wf_fixed_effect.inputs.n_scans = 300\n",
    "wf_fixed_effect.inputs.hrf_model = 'glover'\n",
    "wf_fixed_effect.inputs.smoothing_fwhm = 5.0\n",
    "wf.add(wf_fixed_effect)\n",
    "\n",
    "wf_secondlevel.inputs.n_subj = wf.inputs.n_subj\n",
    "wf_secondlevel.inputs.firstlevel_stats_list = wf.wf_fixed_effect.lzout.fx_t_test_list \n",
    "wf_secondlevel.inputs.firstlevel_contrast = wf.wf_fixed_effect.lzout.first_level_contrast\n",
    "wf.add(wf_secondlevel)\n",
    "\n",
    "# add task - cluster_thresholding\n",
    "wf.add(\n",
    "    cluster_thresholding(\n",
    "        name = \"cluster_thresholding\",\n",
    "        stat_maps_dict = wf.wf_secondlevel.lzout.second_level_stats_map, \n",
    "        threshold = 3.29, \n",
    "        cluster_threshold = 10\n",
    "    )\n",
    ")\n",
    "\n",
    "\n",
    "# add task - multiple_comparison\n",
    "wf.add(\n",
    "    multiple_comparison(\n",
    "        name = \"multiple_comparison\",\n",
    "        stat_maps_dict = wf.wf_secondlevel.lzout.second_level_stats_map, \n",
    "        alpha = 0.05,\n",
    "        height_control = 'fdr'\n",
    "    )\n",
    ")\n",
    "\n",
    "# add task - parametric_test\n",
    "wf.add(\n",
    "    parametric_test(\n",
    "        name = \"parametric_test\",\n",
    "        stat_maps_dict =  wf.wf_secondlevel.lzout.second_level_stats_map, \n",
    "        secondlevel_mask = wf.wf_secondlevel.lzout.second_level_mask\n",
    "    )\n",
    "    \n",
    ")\n",
    "\n",
    "# add task - nonparametric_test\n",
    "wf.add(\n",
    "    nonparametric_test(\n",
    "        name = \"nonparametric_test\",\n",
    "        firstlevel_stats_list = wf.wf_fixed_effect.lzout.fx_t_test_list,\n",
    "        smoothing_fwhm = 5.0,\n",
    "        design_matrix = wf.wf_secondlevel.lzout.second_level_designmatrix,\n",
    "        firstlevel_contrast = wf.wf_fixed_effect.lzout.first_level_contrast,\n",
    "        n_perm = 100,\n",
    "    )\n",
    ")\n",
    "\n",
    "wf.set_output(\n",
    "    [\n",
    "        ('second_level_stats_map', wf.wf_secondlevel.lzout.second_level_stats_map)   \n",
    "    ]\n",
    ")"
   ]
  },
  {
   "cell_type": "markdown",
   "id": "a41806ef",
   "metadata": {},
   "source": [
    "### Run Workflow Run"
   ]
  },
  {
   "cell_type": "code",
   "execution_count": 20,
   "id": "88b4c644",
   "metadata": {
    "tags": [
     "hide-output"
    ]
   },
   "outputs": [
    {
     "name": "stdout",
     "output_type": "stream",
     "text": [
      "\n",
      "Download data for subject-8"
     ]
    },
    {
     "name": "stdout",
     "output_type": "stream",
     "text": [
      "\n"
     ]
    },
    {
     "name": "stdout",
     "output_type": "stream",
     "text": [
      "\n",
      "Download data for subject-6"
     ]
    },
    {
     "name": "stdout",
     "output_type": "stream",
     "text": [
      "\n"
     ]
    },
    {
     "name": "stdout",
     "output_type": "stream",
     "text": [
      "\n",
      "Download data for subject-4"
     ]
    },
    {
     "name": "stdout",
     "output_type": "stream",
     "text": [
      "\n"
     ]
    },
    {
     "name": "stdout",
     "output_type": "stream",
     "text": [
      "\n",
      "Download data for subject-15"
     ]
    },
    {
     "name": "stdout",
     "output_type": "stream",
     "text": [
      "\n"
     ]
    },
    {
     "name": "stdout",
     "output_type": "stream",
     "text": [
      "\n",
      "Download data for subject-5"
     ]
    },
    {
     "name": "stdout",
     "output_type": "stream",
     "text": [
      "\n"
     ]
    },
    {
     "name": "stdout",
     "output_type": "stream",
     "text": [
      "\n",
      "Get subject-8, run-1 firstlevel GLM design matrix...\n"
     ]
    },
    {
     "name": "stdout",
     "output_type": "stream",
     "text": [
      "\n"
     ]
    },
    {
     "name": "stdout",
     "output_type": "stream",
     "text": [
      "\n",
      "Get subject-8, run-2 firstlevel GLM design matrix...\n"
     ]
    },
    {
     "name": "stdout",
     "output_type": "stream",
     "text": [
      "\n"
     ]
    },
    {
     "name": "stdout",
     "output_type": "stream",
     "text": [
      "\n",
      "Get subject-8, run-3 firstlevel GLM design matrix...\n"
     ]
    },
    {
     "name": "stdout",
     "output_type": "stream",
     "text": [
      "\n"
     ]
    },
    {
     "name": "stdout",
     "output_type": "stream",
     "text": [
      "\n",
      "Get subject-6, run-1 firstlevel GLM design matrix...\n"
     ]
    },
    {
     "name": "stdout",
     "output_type": "stream",
     "text": [
      "\n"
     ]
    },
    {
     "name": "stdout",
     "output_type": "stream",
     "text": [
      "\n",
      "Get subject-6, run-2 firstlevel GLM design matrix...\n"
     ]
    },
    {
     "name": "stdout",
     "output_type": "stream",
     "text": [
      "\n"
     ]
    },
    {
     "name": "stdout",
     "output_type": "stream",
     "text": [
      "\n",
      "Get subject-6, run-3 firstlevel GLM design matrix...\n"
     ]
    },
    {
     "name": "stdout",
     "output_type": "stream",
     "text": [
      "\n"
     ]
    },
    {
     "name": "stdout",
     "output_type": "stream",
     "text": [
      "\n",
      "Get subject-4, run-1 firstlevel GLM design matrix...\n"
     ]
    },
    {
     "name": "stdout",
     "output_type": "stream",
     "text": [
      "\n"
     ]
    },
    {
     "name": "stdout",
     "output_type": "stream",
     "text": [
      "\n",
      "Get subject-4, run-2 firstlevel GLM design matrix...\n"
     ]
    },
    {
     "name": "stdout",
     "output_type": "stream",
     "text": [
      "\n"
     ]
    },
    {
     "name": "stdout",
     "output_type": "stream",
     "text": [
      "\n",
      "Get subject-4, run-3 firstlevel GLM design matrix...\n"
     ]
    },
    {
     "name": "stdout",
     "output_type": "stream",
     "text": [
      "\n"
     ]
    },
    {
     "name": "stdout",
     "output_type": "stream",
     "text": [
      "\n",
      "Get subject-15, run-1 firstlevel GLM design matrix...\n"
     ]
    },
    {
     "name": "stdout",
     "output_type": "stream",
     "text": [
      "\n"
     ]
    },
    {
     "name": "stdout",
     "output_type": "stream",
     "text": [
      "\n",
      "Get subject-15, run-2 firstlevel GLM design matrix...\n"
     ]
    },
    {
     "name": "stdout",
     "output_type": "stream",
     "text": [
      "\n"
     ]
    },
    {
     "name": "stdout",
     "output_type": "stream",
     "text": [
      "\n",
      "Get subject-15, run-3 firstlevel GLM design matrix...\n"
     ]
    },
    {
     "name": "stdout",
     "output_type": "stream",
     "text": [
      "\n"
     ]
    },
    {
     "name": "stdout",
     "output_type": "stream",
     "text": [
      "\n",
      "Get subject-5, run-1 firstlevel GLM design matrix...\n"
     ]
    },
    {
     "name": "stdout",
     "output_type": "stream",
     "text": [
      "\n"
     ]
    },
    {
     "name": "stdout",
     "output_type": "stream",
     "text": [
      "\n",
      "Get subject-5, run-2 firstlevel GLM design matrix...\n"
     ]
    },
    {
     "name": "stdout",
     "output_type": "stream",
     "text": [
      "\n"
     ]
    },
    {
     "name": "stdout",
     "output_type": "stream",
     "text": [
      "\n",
      "Get subject-5, run-3 firstlevel GLM design matrix...\n"
     ]
    },
    {
     "name": "stdout",
     "output_type": "stream",
     "text": [
      "\n"
     ]
    },
    {
     "name": "stderr",
     "output_type": "stream",
     "text": [
      "Task exception was never retrieved\n",
      "future: <Task finished name='Task-37' coro=<ConcurrentFuturesWorker.exec_as_coro() done, defined at /usr/share/miniconda/envs/pydra-tutorial/lib/python3.10/site-packages/pydra/engine/workers.py:161> exception=IndexError('list index out of range')>\n",
      "concurrent.futures.process._RemoteTraceback: \n",
      "\"\"\"\n",
      "Traceback (most recent call last):\n",
      "  File \"/usr/share/miniconda/envs/pydra-tutorial/lib/python3.10/concurrent/futures/process.py\", line 246, in _process_worker\n",
      "    r = call_item.fn(*call_item.args, **call_item.kwargs)\n",
      "  File \"/usr/share/miniconda/envs/pydra-tutorial/lib/python3.10/site-packages/pydra/engine/core.py\", line 506, in _run\n",
      "    self._run_task()\n",
      "  File \"/usr/share/miniconda/envs/pydra-tutorial/lib/python3.10/site-packages/pydra/engine/task.py\", line 192, in _run_task\n",
      "    output = cp.loads(self.inputs._func)(**inputs)\n",
      "  File \"/tmp/ipykernel_7808/2321826732.py\", line 17, in get_firstlevel_dm\n",
      "    run_img = subj_imgs[run_id-1]\n",
      "IndexError: list index out of range\n",
      "\"\"\"\n",
      "\n",
      "The above exception was the direct cause of the following exception:\n",
      "\n",
      "Traceback (most recent call last):\n",
      "  File \"/usr/share/miniconda/envs/pydra-tutorial/lib/python3.10/asyncio/tasks.py\", line 234, in __step\n",
      "    result = coro.throw(exc)\n",
      "  File \"/usr/share/miniconda/envs/pydra-tutorial/lib/python3.10/site-packages/pydra/engine/workers.py\", line 164, in exec_as_coro\n",
      "    res = await self.loop.run_in_executor(self.pool, runnable._run, rerun)\n",
      "  File \"/usr/share/miniconda/envs/pydra-tutorial/lib/python3.10/asyncio/futures.py\", line 285, in __await__\n",
      "    yield self  # This tells Task to wait for completion.\n",
      "  File \"/usr/share/miniconda/envs/pydra-tutorial/lib/python3.10/asyncio/tasks.py\", line 304, in __wakeup\n",
      "    future.result()\n",
      "  File \"/usr/share/miniconda/envs/pydra-tutorial/lib/python3.10/asyncio/futures.py\", line 201, in result\n",
      "    raise self._exception.with_traceback(self._exception_tb)\n",
      "IndexError: list index out of range\n"
     ]
    },
    {
     "name": "stderr",
     "output_type": "stream",
     "text": [
      "Task exception was never retrieved\n",
      "future: <Task finished name='Task-38' coro=<ConcurrentFuturesWorker.exec_as_coro() done, defined at /usr/share/miniconda/envs/pydra-tutorial/lib/python3.10/site-packages/pydra/engine/workers.py:161> exception=IndexError('list index out of range')>\n",
      "concurrent.futures.process._RemoteTraceback: \n",
      "\"\"\"\n",
      "Traceback (most recent call last):\n",
      "  File \"/usr/share/miniconda/envs/pydra-tutorial/lib/python3.10/concurrent/futures/process.py\", line 246, in _process_worker\n",
      "    r = call_item.fn(*call_item.args, **call_item.kwargs)\n",
      "  File \"/usr/share/miniconda/envs/pydra-tutorial/lib/python3.10/site-packages/pydra/engine/core.py\", line 506, in _run\n",
      "    self._run_task()\n",
      "  File \"/usr/share/miniconda/envs/pydra-tutorial/lib/python3.10/site-packages/pydra/engine/task.py\", line 192, in _run_task\n",
      "    output = cp.loads(self.inputs._func)(**inputs)\n",
      "  File \"/tmp/ipykernel_7808/2321826732.py\", line 17, in get_firstlevel_dm\n",
      "    run_img = subj_imgs[run_id-1]\n",
      "IndexError: list index out of range\n",
      "\"\"\"\n",
      "\n",
      "The above exception was the direct cause of the following exception:\n",
      "\n",
      "Traceback (most recent call last):\n",
      "  File \"/usr/share/miniconda/envs/pydra-tutorial/lib/python3.10/asyncio/tasks.py\", line 234, in __step\n",
      "    result = coro.throw(exc)\n",
      "  File \"/usr/share/miniconda/envs/pydra-tutorial/lib/python3.10/site-packages/pydra/engine/workers.py\", line 164, in exec_as_coro\n",
      "    res = await self.loop.run_in_executor(self.pool, runnable._run, rerun)\n",
      "  File \"/usr/share/miniconda/envs/pydra-tutorial/lib/python3.10/asyncio/futures.py\", line 285, in __await__\n",
      "    yield self  # This tells Task to wait for completion.\n",
      "  File \"/usr/share/miniconda/envs/pydra-tutorial/lib/python3.10/asyncio/tasks.py\", line 304, in __wakeup\n",
      "    future.result()\n",
      "  File \"/usr/share/miniconda/envs/pydra-tutorial/lib/python3.10/asyncio/futures.py\", line 201, in result\n",
      "    raise self._exception.with_traceback(self._exception_tb)\n",
      "IndexError: list index out of range\n"
     ]
    },
    {
     "name": "stderr",
     "output_type": "stream",
     "text": [
      "Task exception was never retrieved\n",
      "future: <Task finished name='Task-39' coro=<ConcurrentFuturesWorker.exec_as_coro() done, defined at /usr/share/miniconda/envs/pydra-tutorial/lib/python3.10/site-packages/pydra/engine/workers.py:161> exception=IndexError('list index out of range')>\n",
      "concurrent.futures.process._RemoteTraceback: \n",
      "\"\"\"\n",
      "Traceback (most recent call last):\n",
      "  File \"/usr/share/miniconda/envs/pydra-tutorial/lib/python3.10/concurrent/futures/process.py\", line 246, in _process_worker\n",
      "    r = call_item.fn(*call_item.args, **call_item.kwargs)\n",
      "  File \"/usr/share/miniconda/envs/pydra-tutorial/lib/python3.10/site-packages/pydra/engine/core.py\", line 506, in _run\n",
      "    self._run_task()\n",
      "  File \"/usr/share/miniconda/envs/pydra-tutorial/lib/python3.10/site-packages/pydra/engine/task.py\", line 192, in _run_task\n",
      "    output = cp.loads(self.inputs._func)(**inputs)\n",
      "  File \"/tmp/ipykernel_7808/2321826732.py\", line 17, in get_firstlevel_dm\n",
      "    run_img = subj_imgs[run_id-1]\n",
      "IndexError: list index out of range\n",
      "\"\"\"\n",
      "\n",
      "The above exception was the direct cause of the following exception:\n",
      "\n",
      "Traceback (most recent call last):\n",
      "  File \"/usr/share/miniconda/envs/pydra-tutorial/lib/python3.10/asyncio/tasks.py\", line 234, in __step\n",
      "    result = coro.throw(exc)\n",
      "  File \"/usr/share/miniconda/envs/pydra-tutorial/lib/python3.10/site-packages/pydra/engine/workers.py\", line 164, in exec_as_coro\n",
      "    res = await self.loop.run_in_executor(self.pool, runnable._run, rerun)\n",
      "  File \"/usr/share/miniconda/envs/pydra-tutorial/lib/python3.10/asyncio/futures.py\", line 285, in __await__\n",
      "    yield self  # This tells Task to wait for completion.\n",
      "  File \"/usr/share/miniconda/envs/pydra-tutorial/lib/python3.10/asyncio/tasks.py\", line 304, in __wakeup\n",
      "    future.result()\n",
      "  File \"/usr/share/miniconda/envs/pydra-tutorial/lib/python3.10/asyncio/futures.py\", line 201, in result\n",
      "    raise self._exception.with_traceback(self._exception_tb)\n",
      "IndexError: list index out of range\n"
     ]
    },
    {
     "name": "stderr",
     "output_type": "stream",
     "text": [
      "Task exception was never retrieved\n",
      "future: <Task finished name='Task-40' coro=<ConcurrentFuturesWorker.exec_as_coro() done, defined at /usr/share/miniconda/envs/pydra-tutorial/lib/python3.10/site-packages/pydra/engine/workers.py:161> exception=IndexError('list index out of range')>\n",
      "concurrent.futures.process._RemoteTraceback: \n",
      "\"\"\"\n",
      "Traceback (most recent call last):\n",
      "  File \"/usr/share/miniconda/envs/pydra-tutorial/lib/python3.10/concurrent/futures/process.py\", line 246, in _process_worker\n",
      "    r = call_item.fn(*call_item.args, **call_item.kwargs)\n",
      "  File \"/usr/share/miniconda/envs/pydra-tutorial/lib/python3.10/site-packages/pydra/engine/core.py\", line 506, in _run\n",
      "    self._run_task()\n",
      "  File \"/usr/share/miniconda/envs/pydra-tutorial/lib/python3.10/site-packages/pydra/engine/task.py\", line 192, in _run_task\n",
      "    output = cp.loads(self.inputs._func)(**inputs)\n",
      "  File \"/tmp/ipykernel_7808/2321826732.py\", line 17, in get_firstlevel_dm\n",
      "    run_img = subj_imgs[run_id-1]\n",
      "IndexError: list index out of range\n",
      "\"\"\"\n",
      "\n",
      "The above exception was the direct cause of the following exception:\n",
      "\n",
      "Traceback (most recent call last):\n",
      "  File \"/usr/share/miniconda/envs/pydra-tutorial/lib/python3.10/asyncio/tasks.py\", line 234, in __step\n",
      "    result = coro.throw(exc)\n",
      "  File \"/usr/share/miniconda/envs/pydra-tutorial/lib/python3.10/site-packages/pydra/engine/workers.py\", line 164, in exec_as_coro\n",
      "    res = await self.loop.run_in_executor(self.pool, runnable._run, rerun)\n",
      "  File \"/usr/share/miniconda/envs/pydra-tutorial/lib/python3.10/asyncio/futures.py\", line 285, in __await__\n",
      "    yield self  # This tells Task to wait for completion.\n",
      "  File \"/usr/share/miniconda/envs/pydra-tutorial/lib/python3.10/asyncio/tasks.py\", line 304, in __wakeup\n",
      "    future.result()\n",
      "  File \"/usr/share/miniconda/envs/pydra-tutorial/lib/python3.10/asyncio/futures.py\", line 201, in result\n",
      "    raise self._exception.with_traceback(self._exception_tb)\n",
      "IndexError: list index out of range\n"
     ]
    },
    {
     "name": "stderr",
     "output_type": "stream",
     "text": [
      "Task exception was never retrieved\n",
      "future: <Task finished name='Task-41' coro=<ConcurrentFuturesWorker.exec_as_coro() done, defined at /usr/share/miniconda/envs/pydra-tutorial/lib/python3.10/site-packages/pydra/engine/workers.py:161> exception=IndexError('list index out of range')>\n",
      "concurrent.futures.process._RemoteTraceback: \n",
      "\"\"\"\n",
      "Traceback (most recent call last):\n",
      "  File \"/usr/share/miniconda/envs/pydra-tutorial/lib/python3.10/concurrent/futures/process.py\", line 246, in _process_worker\n",
      "    r = call_item.fn(*call_item.args, **call_item.kwargs)\n",
      "  File \"/usr/share/miniconda/envs/pydra-tutorial/lib/python3.10/site-packages/pydra/engine/core.py\", line 506, in _run\n",
      "    self._run_task()\n",
      "  File \"/usr/share/miniconda/envs/pydra-tutorial/lib/python3.10/site-packages/pydra/engine/task.py\", line 192, in _run_task\n",
      "    output = cp.loads(self.inputs._func)(**inputs)\n",
      "  File \"/tmp/ipykernel_7808/2321826732.py\", line 17, in get_firstlevel_dm\n",
      "    run_img = subj_imgs[run_id-1]\n",
      "IndexError: list index out of range\n",
      "\"\"\"\n",
      "\n",
      "The above exception was the direct cause of the following exception:\n",
      "\n",
      "Traceback (most recent call last):\n",
      "  File \"/usr/share/miniconda/envs/pydra-tutorial/lib/python3.10/asyncio/tasks.py\", line 234, in __step\n",
      "    result = coro.throw(exc)\n",
      "  File \"/usr/share/miniconda/envs/pydra-tutorial/lib/python3.10/site-packages/pydra/engine/workers.py\", line 164, in exec_as_coro\n",
      "    res = await self.loop.run_in_executor(self.pool, runnable._run, rerun)\n",
      "  File \"/usr/share/miniconda/envs/pydra-tutorial/lib/python3.10/asyncio/futures.py\", line 285, in __await__\n",
      "    yield self  # This tells Task to wait for completion.\n",
      "  File \"/usr/share/miniconda/envs/pydra-tutorial/lib/python3.10/asyncio/tasks.py\", line 304, in __wakeup\n",
      "    future.result()\n",
      "  File \"/usr/share/miniconda/envs/pydra-tutorial/lib/python3.10/asyncio/futures.py\", line 201, in result\n",
      "    raise self._exception.with_traceback(self._exception_tb)\n",
      "IndexError: list index out of range\n"
     ]
    },
    {
     "name": "stderr",
     "output_type": "stream",
     "text": [
      "Task exception was never retrieved\n",
      "future: <Task finished name='Task-2' coro=<load_and_run_async() done, defined at /usr/share/miniconda/envs/pydra-tutorial/lib/python3.10/site-packages/pydra/engine/helpers.py:809> exception=ValueError(\"Task wf_firstlevel raised an error, full crash report is here: [PosixPath('/tmp/tmprgx_3ov9/Workflow_937c1d0db104e76c4b78010c5789e2dfe385adfc1a08d83b880ab6245778adb0/_error.pklz'), PosixPath('/tmp/tmprgx_3ov9/Workflow_96f974c2c3d66d9406473789028abc243fbe25cb664a7991f05577779afe67a7/_error.pklz'), PosixPath('/tmp/tmprgx_3ov9/Workflow_18c898182bc675129b7a5130a1fa8dd136f79433ab594855af7f699f38ee65a2/_error.pklz')]\")>\n",
      "Traceback (most recent call last):\n",
      "  File \"/usr/share/miniconda/envs/pydra-tutorial/lib/python3.10/site-packages/pydra/engine/core.py\", line 1175, in _collect_outputs\n",
      "    val_out = val.get_value(self)\n",
      "  File \"/usr/share/miniconda/envs/pydra-tutorial/lib/python3.10/site-packages/pydra/engine/specs.py\", line 766, in get_value\n",
      "    raise ValueError(\"Error from get_value\")\n",
      "ValueError: Error from get_value\n",
      "\n",
      "During handling of the above exception, another exception occurred:\n",
      "\n",
      "Traceback (most recent call last):\n",
      "  File \"/usr/share/miniconda/envs/pydra-tutorial/lib/python3.10/asyncio/tasks.py\", line 232, in __step\n",
      "    result = coro.send(None)\n",
      "  File \"/usr/share/miniconda/envs/pydra-tutorial/lib/python3.10/site-packages/pydra/engine/helpers.py\", line 815, in load_and_run_async\n",
      "    await task._run(submitter=submitter, rerun=rerun, **kwargs)\n",
      "  File \"/usr/share/miniconda/envs/pydra-tutorial/lib/python3.10/site-packages/pydra/engine/core.py\", line 1085, in _run\n",
      "    result.output = self._collect_outputs()\n",
      "  File \"/usr/share/miniconda/envs/pydra-tutorial/lib/python3.10/site-packages/pydra/engine/core.py\", line 1192, in _collect_outputs\n",
      "    raise ValueError(\n",
      "ValueError: Task wf_firstlevel raised an error, full crash report is here: [PosixPath('/tmp/tmprgx_3ov9/Workflow_937c1d0db104e76c4b78010c5789e2dfe385adfc1a08d83b880ab6245778adb0/_error.pklz'), PosixPath('/tmp/tmprgx_3ov9/Workflow_96f974c2c3d66d9406473789028abc243fbe25cb664a7991f05577779afe67a7/_error.pklz'), PosixPath('/tmp/tmprgx_3ov9/Workflow_18c898182bc675129b7a5130a1fa8dd136f79433ab594855af7f699f38ee65a2/_error.pklz')]\n"
     ]
    },
    {
     "name": "stderr",
     "output_type": "stream",
     "text": [
      "Task exception was never retrieved\n",
      "future: <Task finished name='Task-3' coro=<load_and_run_async() done, defined at /usr/share/miniconda/envs/pydra-tutorial/lib/python3.10/site-packages/pydra/engine/helpers.py:809> exception=ValueError(\"Task wf_firstlevel raised an error, full crash report is here: [PosixPath('/tmp/tmprgx_3ov9/Workflow_b572705c3f80dcedc9a448eba979bca81a8c0686e6dc9c93e3d179cb63fb2e1b/_error.pklz'), PosixPath('/tmp/tmprgx_3ov9/Workflow_602407007c46c7a8bec27902289c8ab6cafe1c66b15bf692a8cc16f0040b6189/_error.pklz'), PosixPath('/tmp/tmprgx_3ov9/Workflow_04e7fc72fd25a22eb8874b8833e045f901281ab61a83230d7200b3ff1d6f42a5/_error.pklz')]\")>\n",
      "Traceback (most recent call last):\n",
      "  File \"/usr/share/miniconda/envs/pydra-tutorial/lib/python3.10/site-packages/pydra/engine/core.py\", line 1175, in _collect_outputs\n",
      "    val_out = val.get_value(self)\n",
      "  File \"/usr/share/miniconda/envs/pydra-tutorial/lib/python3.10/site-packages/pydra/engine/specs.py\", line 766, in get_value\n",
      "    raise ValueError(\"Error from get_value\")\n",
      "ValueError: Error from get_value\n",
      "\n",
      "During handling of the above exception, another exception occurred:\n",
      "\n",
      "Traceback (most recent call last):\n",
      "  File \"/usr/share/miniconda/envs/pydra-tutorial/lib/python3.10/asyncio/tasks.py\", line 232, in __step\n",
      "    result = coro.send(None)\n",
      "  File \"/usr/share/miniconda/envs/pydra-tutorial/lib/python3.10/site-packages/pydra/engine/helpers.py\", line 815, in load_and_run_async\n",
      "    await task._run(submitter=submitter, rerun=rerun, **kwargs)\n",
      "  File \"/usr/share/miniconda/envs/pydra-tutorial/lib/python3.10/site-packages/pydra/engine/core.py\", line 1085, in _run\n",
      "    result.output = self._collect_outputs()\n",
      "  File \"/usr/share/miniconda/envs/pydra-tutorial/lib/python3.10/site-packages/pydra/engine/core.py\", line 1192, in _collect_outputs\n",
      "    raise ValueError(\n",
      "ValueError: Task wf_firstlevel raised an error, full crash report is here: [PosixPath('/tmp/tmprgx_3ov9/Workflow_b572705c3f80dcedc9a448eba979bca81a8c0686e6dc9c93e3d179cb63fb2e1b/_error.pklz'), PosixPath('/tmp/tmprgx_3ov9/Workflow_602407007c46c7a8bec27902289c8ab6cafe1c66b15bf692a8cc16f0040b6189/_error.pklz'), PosixPath('/tmp/tmprgx_3ov9/Workflow_04e7fc72fd25a22eb8874b8833e045f901281ab61a83230d7200b3ff1d6f42a5/_error.pklz')]\n"
     ]
    },
    {
     "name": "stderr",
     "output_type": "stream",
     "text": [
      "Task exception was never retrieved\n",
      "future: <Task finished name='Task-4' coro=<load_and_run_async() done, defined at /usr/share/miniconda/envs/pydra-tutorial/lib/python3.10/site-packages/pydra/engine/helpers.py:809> exception=ValueError(\"Task wf_firstlevel raised an error, full crash report is here: [PosixPath('/tmp/tmprgx_3ov9/Workflow_2692f5684fa2a6a78375283ad3ede6cf3d8386b0ac864ec362b92d6f55ce6bfd/_error.pklz'), PosixPath('/tmp/tmprgx_3ov9/Workflow_34df7f160835405b1b300b2847d25b89b8cb66ee4843829ea47ce86f491819bd/_error.pklz'), PosixPath('/tmp/tmprgx_3ov9/Workflow_e4eb11cda98de83b28ca04de8a82600c082f2a81a26e507c3254430c7227fe71/_error.pklz')]\")>\n",
      "Traceback (most recent call last):\n",
      "  File \"/usr/share/miniconda/envs/pydra-tutorial/lib/python3.10/site-packages/pydra/engine/core.py\", line 1175, in _collect_outputs\n",
      "    val_out = val.get_value(self)\n",
      "  File \"/usr/share/miniconda/envs/pydra-tutorial/lib/python3.10/site-packages/pydra/engine/specs.py\", line 766, in get_value\n",
      "    raise ValueError(\"Error from get_value\")\n",
      "ValueError: Error from get_value\n",
      "\n",
      "During handling of the above exception, another exception occurred:\n",
      "\n",
      "Traceback (most recent call last):\n",
      "  File \"/usr/share/miniconda/envs/pydra-tutorial/lib/python3.10/asyncio/tasks.py\", line 232, in __step\n",
      "    result = coro.send(None)\n",
      "  File \"/usr/share/miniconda/envs/pydra-tutorial/lib/python3.10/site-packages/pydra/engine/helpers.py\", line 815, in load_and_run_async\n",
      "    await task._run(submitter=submitter, rerun=rerun, **kwargs)\n",
      "  File \"/usr/share/miniconda/envs/pydra-tutorial/lib/python3.10/site-packages/pydra/engine/core.py\", line 1085, in _run\n",
      "    result.output = self._collect_outputs()\n",
      "  File \"/usr/share/miniconda/envs/pydra-tutorial/lib/python3.10/site-packages/pydra/engine/core.py\", line 1192, in _collect_outputs\n",
      "    raise ValueError(\n",
      "ValueError: Task wf_firstlevel raised an error, full crash report is here: [PosixPath('/tmp/tmprgx_3ov9/Workflow_2692f5684fa2a6a78375283ad3ede6cf3d8386b0ac864ec362b92d6f55ce6bfd/_error.pklz'), PosixPath('/tmp/tmprgx_3ov9/Workflow_34df7f160835405b1b300b2847d25b89b8cb66ee4843829ea47ce86f491819bd/_error.pklz'), PosixPath('/tmp/tmprgx_3ov9/Workflow_e4eb11cda98de83b28ca04de8a82600c082f2a81a26e507c3254430c7227fe71/_error.pklz')]\n"
     ]
    },
    {
     "name": "stderr",
     "output_type": "stream",
     "text": [
      "Task exception was never retrieved\n",
      "future: <Task finished name='Task-5' coro=<load_and_run_async() done, defined at /usr/share/miniconda/envs/pydra-tutorial/lib/python3.10/site-packages/pydra/engine/helpers.py:809> exception=ValueError(\"Task wf_firstlevel raised an error, full crash report is here: [PosixPath('/tmp/tmprgx_3ov9/Workflow_97d34d146dbde0e52c422bce4010d2be9f42d2e77915c47485d1269046e21e88/_error.pklz'), PosixPath('/tmp/tmprgx_3ov9/Workflow_eca5ffffd15629bf4e33c7d8ef12a86a794c2ef3af71a4c34e9f597acaf52bad/_error.pklz'), PosixPath('/tmp/tmprgx_3ov9/Workflow_6430c2e94a804c1a8e9292553aa60310578761bee1ffb41176be60f6ef3a7488/_error.pklz')]\")>\n",
      "Traceback (most recent call last):\n",
      "  File \"/usr/share/miniconda/envs/pydra-tutorial/lib/python3.10/site-packages/pydra/engine/core.py\", line 1175, in _collect_outputs\n",
      "    val_out = val.get_value(self)\n",
      "  File \"/usr/share/miniconda/envs/pydra-tutorial/lib/python3.10/site-packages/pydra/engine/specs.py\", line 766, in get_value\n",
      "    raise ValueError(\"Error from get_value\")\n",
      "ValueError: Error from get_value\n",
      "\n",
      "During handling of the above exception, another exception occurred:\n",
      "\n",
      "Traceback (most recent call last):\n",
      "  File \"/usr/share/miniconda/envs/pydra-tutorial/lib/python3.10/asyncio/tasks.py\", line 232, in __step\n",
      "    result = coro.send(None)\n",
      "  File \"/usr/share/miniconda/envs/pydra-tutorial/lib/python3.10/site-packages/pydra/engine/helpers.py\", line 815, in load_and_run_async\n",
      "    await task._run(submitter=submitter, rerun=rerun, **kwargs)\n",
      "  File \"/usr/share/miniconda/envs/pydra-tutorial/lib/python3.10/site-packages/pydra/engine/core.py\", line 1085, in _run\n",
      "    result.output = self._collect_outputs()\n",
      "  File \"/usr/share/miniconda/envs/pydra-tutorial/lib/python3.10/site-packages/pydra/engine/core.py\", line 1192, in _collect_outputs\n",
      "    raise ValueError(\n",
      "ValueError: Task wf_firstlevel raised an error, full crash report is here: [PosixPath('/tmp/tmprgx_3ov9/Workflow_97d34d146dbde0e52c422bce4010d2be9f42d2e77915c47485d1269046e21e88/_error.pklz'), PosixPath('/tmp/tmprgx_3ov9/Workflow_eca5ffffd15629bf4e33c7d8ef12a86a794c2ef3af71a4c34e9f597acaf52bad/_error.pklz'), PosixPath('/tmp/tmprgx_3ov9/Workflow_6430c2e94a804c1a8e9292553aa60310578761bee1ffb41176be60f6ef3a7488/_error.pklz')]\n"
     ]
    },
    {
     "name": "stderr",
     "output_type": "stream",
     "text": [
      "Task exception was never retrieved\n",
      "future: <Task finished name='Task-6' coro=<load_and_run_async() done, defined at /usr/share/miniconda/envs/pydra-tutorial/lib/python3.10/site-packages/pydra/engine/helpers.py:809> exception=ValueError(\"Task wf_firstlevel raised an error, full crash report is here: [PosixPath('/tmp/tmprgx_3ov9/Workflow_51e23250d0a109c097172dbc4a27f2e1f9582655c7db1bff45e2823786ba8ace/_error.pklz'), PosixPath('/tmp/tmprgx_3ov9/Workflow_f1549c765a95f2d4730a11739721efc2ca0bf3c9243b9382d044d7e86adf00c4/_error.pklz'), PosixPath('/tmp/tmprgx_3ov9/Workflow_76e3634f3cf456bb3fa0f8128062629c8138e188c41d4806ec0a310dfc6d077b/_error.pklz')]\")>\n",
      "Traceback (most recent call last):\n",
      "  File \"/usr/share/miniconda/envs/pydra-tutorial/lib/python3.10/site-packages/pydra/engine/core.py\", line 1175, in _collect_outputs\n",
      "    val_out = val.get_value(self)\n",
      "  File \"/usr/share/miniconda/envs/pydra-tutorial/lib/python3.10/site-packages/pydra/engine/specs.py\", line 766, in get_value\n",
      "    raise ValueError(\"Error from get_value\")\n",
      "ValueError: Error from get_value\n",
      "\n",
      "During handling of the above exception, another exception occurred:\n",
      "\n",
      "Traceback (most recent call last):\n",
      "  File \"/usr/share/miniconda/envs/pydra-tutorial/lib/python3.10/asyncio/tasks.py\", line 232, in __step\n",
      "    result = coro.send(None)\n",
      "  File \"/usr/share/miniconda/envs/pydra-tutorial/lib/python3.10/site-packages/pydra/engine/helpers.py\", line 815, in load_and_run_async\n",
      "    await task._run(submitter=submitter, rerun=rerun, **kwargs)\n",
      "  File \"/usr/share/miniconda/envs/pydra-tutorial/lib/python3.10/site-packages/pydra/engine/core.py\", line 1085, in _run\n",
      "    result.output = self._collect_outputs()\n",
      "  File \"/usr/share/miniconda/envs/pydra-tutorial/lib/python3.10/site-packages/pydra/engine/core.py\", line 1192, in _collect_outputs\n",
      "    raise ValueError(\n",
      "ValueError: Task wf_firstlevel raised an error, full crash report is here: [PosixPath('/tmp/tmprgx_3ov9/Workflow_51e23250d0a109c097172dbc4a27f2e1f9582655c7db1bff45e2823786ba8ace/_error.pklz'), PosixPath('/tmp/tmprgx_3ov9/Workflow_f1549c765a95f2d4730a11739721efc2ca0bf3c9243b9382d044d7e86adf00c4/_error.pklz'), PosixPath('/tmp/tmprgx_3ov9/Workflow_76e3634f3cf456bb3fa0f8128062629c8138e188c41d4806ec0a310dfc6d077b/_error.pklz')]\n"
     ]
    },
    {
     "name": "stderr",
     "output_type": "stream",
     "text": [
      "Task exception was never retrieved\n",
      "future: <Task finished name='Task-13' coro=<load_and_run_async() done, defined at /usr/share/miniconda/envs/pydra-tutorial/lib/python3.10/site-packages/pydra/engine/helpers.py:809> exception=ValueError(\"Tasks ['get_firstlevel_dm'] raised an error\")>\n",
      "Traceback (most recent call last):\n",
      "  File \"/usr/share/miniconda/envs/pydra-tutorial/lib/python3.10/site-packages/pydra/engine/core.py\", line 1175, in _collect_outputs\n",
      "    val_out = val.get_value(self)\n",
      "  File \"/usr/share/miniconda/envs/pydra-tutorial/lib/python3.10/site-packages/pydra/engine/specs.py\", line 772, in get_value\n",
      "    raise ValueError(\"Error from get_value\")\n",
      "ValueError: Error from get_value\n",
      "\n",
      "During handling of the above exception, another exception occurred:\n",
      "\n",
      "Traceback (most recent call last):\n",
      "  File \"/usr/share/miniconda/envs/pydra-tutorial/lib/python3.10/asyncio/tasks.py\", line 232, in __step\n",
      "    result = coro.send(None)\n",
      "  File \"/usr/share/miniconda/envs/pydra-tutorial/lib/python3.10/site-packages/pydra/engine/helpers.py\", line 815, in load_and_run_async\n",
      "    await task._run(submitter=submitter, rerun=rerun, **kwargs)\n",
      "  File \"/usr/share/miniconda/envs/pydra-tutorial/lib/python3.10/site-packages/pydra/engine/core.py\", line 1085, in _run\n",
      "    result.output = self._collect_outputs()\n",
      "  File \"/usr/share/miniconda/envs/pydra-tutorial/lib/python3.10/site-packages/pydra/engine/core.py\", line 1181, in _collect_outputs\n",
      "    raise ValueError(\n",
      "ValueError: Tasks ['get_firstlevel_dm'] raised an error\n"
     ]
    },
    {
     "name": "stderr",
     "output_type": "stream",
     "text": [
      "Task exception was never retrieved\n",
      "future: <Task finished name='Task-14' coro=<load_and_run_async() done, defined at /usr/share/miniconda/envs/pydra-tutorial/lib/python3.10/site-packages/pydra/engine/helpers.py:809> exception=ValueError(\"Tasks ['get_firstlevel_dm'] raised an error\")>\n",
      "Traceback (most recent call last):\n",
      "  File \"/usr/share/miniconda/envs/pydra-tutorial/lib/python3.10/site-packages/pydra/engine/core.py\", line 1175, in _collect_outputs\n",
      "    val_out = val.get_value(self)\n",
      "  File \"/usr/share/miniconda/envs/pydra-tutorial/lib/python3.10/site-packages/pydra/engine/specs.py\", line 772, in get_value\n",
      "    raise ValueError(\"Error from get_value\")\n",
      "ValueError: Error from get_value\n",
      "\n",
      "During handling of the above exception, another exception occurred:\n",
      "\n",
      "Traceback (most recent call last):\n",
      "  File \"/usr/share/miniconda/envs/pydra-tutorial/lib/python3.10/asyncio/tasks.py\", line 232, in __step\n",
      "    result = coro.send(None)\n",
      "  File \"/usr/share/miniconda/envs/pydra-tutorial/lib/python3.10/site-packages/pydra/engine/helpers.py\", line 815, in load_and_run_async\n",
      "    await task._run(submitter=submitter, rerun=rerun, **kwargs)\n",
      "  File \"/usr/share/miniconda/envs/pydra-tutorial/lib/python3.10/site-packages/pydra/engine/core.py\", line 1085, in _run\n",
      "    result.output = self._collect_outputs()\n",
      "  File \"/usr/share/miniconda/envs/pydra-tutorial/lib/python3.10/site-packages/pydra/engine/core.py\", line 1181, in _collect_outputs\n",
      "    raise ValueError(\n",
      "ValueError: Tasks ['get_firstlevel_dm'] raised an error\n"
     ]
    },
    {
     "name": "stderr",
     "output_type": "stream",
     "text": [
      "Task exception was never retrieved\n",
      "future: <Task finished name='Task-15' coro=<ConcurrentFuturesWorker.exec_as_coro() done, defined at /usr/share/miniconda/envs/pydra-tutorial/lib/python3.10/site-packages/pydra/engine/workers.py:161> exception=IndexError('list index out of range')>\n",
      "concurrent.futures.process._RemoteTraceback: \n",
      "\"\"\"\n",
      "Traceback (most recent call last):\n",
      "  File \"/usr/share/miniconda/envs/pydra-tutorial/lib/python3.10/concurrent/futures/process.py\", line 246, in _process_worker\n",
      "    r = call_item.fn(*call_item.args, **call_item.kwargs)\n",
      "  File \"/usr/share/miniconda/envs/pydra-tutorial/lib/python3.10/site-packages/pydra/engine/core.py\", line 506, in _run\n",
      "    self._run_task()\n",
      "  File \"/usr/share/miniconda/envs/pydra-tutorial/lib/python3.10/site-packages/pydra/engine/task.py\", line 192, in _run_task\n",
      "    output = cp.loads(self.inputs._func)(**inputs)\n",
      "  File \"/tmp/ipykernel_7808/2321826732.py\", line 17, in get_firstlevel_dm\n",
      "    run_img = subj_imgs[run_id-1]\n",
      "IndexError: list index out of range\n",
      "\"\"\"\n",
      "\n",
      "The above exception was the direct cause of the following exception:\n",
      "\n",
      "Traceback (most recent call last):\n",
      "  File \"/usr/share/miniconda/envs/pydra-tutorial/lib/python3.10/asyncio/tasks.py\", line 234, in __step\n",
      "    result = coro.throw(exc)\n",
      "  File \"/usr/share/miniconda/envs/pydra-tutorial/lib/python3.10/site-packages/pydra/engine/workers.py\", line 164, in exec_as_coro\n",
      "    res = await self.loop.run_in_executor(self.pool, runnable._run, rerun)\n",
      "  File \"/usr/share/miniconda/envs/pydra-tutorial/lib/python3.10/asyncio/futures.py\", line 285, in __await__\n",
      "    yield self  # This tells Task to wait for completion.\n",
      "  File \"/usr/share/miniconda/envs/pydra-tutorial/lib/python3.10/asyncio/tasks.py\", line 304, in __wakeup\n",
      "    future.result()\n",
      "  File \"/usr/share/miniconda/envs/pydra-tutorial/lib/python3.10/asyncio/futures.py\", line 201, in result\n",
      "    raise self._exception.with_traceback(self._exception_tb)\n",
      "IndexError: list index out of range\n"
     ]
    },
    {
     "name": "stderr",
     "output_type": "stream",
     "text": [
      "Task exception was never retrieved\n",
      "future: <Task finished name='Task-12' coro=<load_and_run_async() done, defined at /usr/share/miniconda/envs/pydra-tutorial/lib/python3.10/site-packages/pydra/engine/helpers.py:809> exception=ValueError(\"Tasks ['get_firstlevel_dm'] raised an error\")>\n",
      "Traceback (most recent call last):\n",
      "  File \"/usr/share/miniconda/envs/pydra-tutorial/lib/python3.10/site-packages/pydra/engine/core.py\", line 1175, in _collect_outputs\n",
      "    val_out = val.get_value(self)\n",
      "  File \"/usr/share/miniconda/envs/pydra-tutorial/lib/python3.10/site-packages/pydra/engine/specs.py\", line 772, in get_value\n",
      "    raise ValueError(\"Error from get_value\")\n",
      "ValueError: Error from get_value\n",
      "\n",
      "During handling of the above exception, another exception occurred:\n",
      "\n",
      "Traceback (most recent call last):\n",
      "  File \"/usr/share/miniconda/envs/pydra-tutorial/lib/python3.10/asyncio/tasks.py\", line 232, in __step\n",
      "    result = coro.send(None)\n",
      "  File \"/usr/share/miniconda/envs/pydra-tutorial/lib/python3.10/site-packages/pydra/engine/helpers.py\", line 815, in load_and_run_async\n",
      "    await task._run(submitter=submitter, rerun=rerun, **kwargs)\n",
      "  File \"/usr/share/miniconda/envs/pydra-tutorial/lib/python3.10/site-packages/pydra/engine/core.py\", line 1085, in _run\n",
      "    result.output = self._collect_outputs()\n",
      "  File \"/usr/share/miniconda/envs/pydra-tutorial/lib/python3.10/site-packages/pydra/engine/core.py\", line 1181, in _collect_outputs\n",
      "    raise ValueError(\n",
      "ValueError: Tasks ['get_firstlevel_dm'] raised an error\n"
     ]
    },
    {
     "name": "stderr",
     "output_type": "stream",
     "text": [
      "Task exception was never retrieved\n",
      "future: <Task finished name='Task-16' coro=<ConcurrentFuturesWorker.exec_as_coro() done, defined at /usr/share/miniconda/envs/pydra-tutorial/lib/python3.10/site-packages/pydra/engine/workers.py:161> exception=IndexError('list index out of range')>\n",
      "concurrent.futures.process._RemoteTraceback: \n",
      "\"\"\"\n",
      "Traceback (most recent call last):\n",
      "  File \"/usr/share/miniconda/envs/pydra-tutorial/lib/python3.10/concurrent/futures/process.py\", line 246, in _process_worker\n",
      "    r = call_item.fn(*call_item.args, **call_item.kwargs)\n",
      "  File \"/usr/share/miniconda/envs/pydra-tutorial/lib/python3.10/site-packages/pydra/engine/core.py\", line 506, in _run\n",
      "    self._run_task()\n",
      "  File \"/usr/share/miniconda/envs/pydra-tutorial/lib/python3.10/site-packages/pydra/engine/task.py\", line 192, in _run_task\n",
      "    output = cp.loads(self.inputs._func)(**inputs)\n",
      "  File \"/tmp/ipykernel_7808/2321826732.py\", line 17, in get_firstlevel_dm\n",
      "    run_img = subj_imgs[run_id-1]\n",
      "IndexError: list index out of range\n",
      "\"\"\"\n",
      "\n",
      "The above exception was the direct cause of the following exception:\n",
      "\n",
      "Traceback (most recent call last):\n",
      "  File \"/usr/share/miniconda/envs/pydra-tutorial/lib/python3.10/asyncio/tasks.py\", line 234, in __step\n",
      "    result = coro.throw(exc)\n",
      "  File \"/usr/share/miniconda/envs/pydra-tutorial/lib/python3.10/site-packages/pydra/engine/workers.py\", line 164, in exec_as_coro\n",
      "    res = await self.loop.run_in_executor(self.pool, runnable._run, rerun)\n",
      "  File \"/usr/share/miniconda/envs/pydra-tutorial/lib/python3.10/asyncio/futures.py\", line 285, in __await__\n",
      "    yield self  # This tells Task to wait for completion.\n",
      "  File \"/usr/share/miniconda/envs/pydra-tutorial/lib/python3.10/asyncio/tasks.py\", line 304, in __wakeup\n",
      "    future.result()\n",
      "  File \"/usr/share/miniconda/envs/pydra-tutorial/lib/python3.10/asyncio/futures.py\", line 201, in result\n",
      "    raise self._exception.with_traceback(self._exception_tb)\n",
      "IndexError: list index out of range\n"
     ]
    },
    {
     "name": "stderr",
     "output_type": "stream",
     "text": [
      "Task exception was never retrieved\n",
      "future: <Task finished name='Task-17' coro=<ConcurrentFuturesWorker.exec_as_coro() done, defined at /usr/share/miniconda/envs/pydra-tutorial/lib/python3.10/site-packages/pydra/engine/workers.py:161> exception=IndexError('list index out of range')>\n",
      "concurrent.futures.process._RemoteTraceback: \n",
      "\"\"\"\n",
      "Traceback (most recent call last):\n",
      "  File \"/usr/share/miniconda/envs/pydra-tutorial/lib/python3.10/concurrent/futures/process.py\", line 246, in _process_worker\n",
      "    r = call_item.fn(*call_item.args, **call_item.kwargs)\n",
      "  File \"/usr/share/miniconda/envs/pydra-tutorial/lib/python3.10/site-packages/pydra/engine/core.py\", line 506, in _run\n",
      "    self._run_task()\n",
      "  File \"/usr/share/miniconda/envs/pydra-tutorial/lib/python3.10/site-packages/pydra/engine/task.py\", line 192, in _run_task\n",
      "    output = cp.loads(self.inputs._func)(**inputs)\n",
      "  File \"/tmp/ipykernel_7808/2321826732.py\", line 17, in get_firstlevel_dm\n",
      "    run_img = subj_imgs[run_id-1]\n",
      "IndexError: list index out of range\n",
      "\"\"\"\n",
      "\n",
      "The above exception was the direct cause of the following exception:\n",
      "\n",
      "Traceback (most recent call last):\n",
      "  File \"/usr/share/miniconda/envs/pydra-tutorial/lib/python3.10/asyncio/tasks.py\", line 234, in __step\n",
      "    result = coro.throw(exc)\n",
      "  File \"/usr/share/miniconda/envs/pydra-tutorial/lib/python3.10/site-packages/pydra/engine/workers.py\", line 164, in exec_as_coro\n",
      "    res = await self.loop.run_in_executor(self.pool, runnable._run, rerun)\n",
      "  File \"/usr/share/miniconda/envs/pydra-tutorial/lib/python3.10/asyncio/futures.py\", line 285, in __await__\n",
      "    yield self  # This tells Task to wait for completion.\n",
      "  File \"/usr/share/miniconda/envs/pydra-tutorial/lib/python3.10/asyncio/tasks.py\", line 304, in __wakeup\n",
      "    future.result()\n",
      "  File \"/usr/share/miniconda/envs/pydra-tutorial/lib/python3.10/asyncio/futures.py\", line 201, in result\n",
      "    raise self._exception.with_traceback(self._exception_tb)\n",
      "IndexError: list index out of range\n"
     ]
    },
    {
     "name": "stderr",
     "output_type": "stream",
     "text": [
      "Task exception was never retrieved\n",
      "future: <Task finished name='Task-18' coro=<load_and_run_async() done, defined at /usr/share/miniconda/envs/pydra-tutorial/lib/python3.10/site-packages/pydra/engine/helpers.py:809> exception=ValueError(\"Tasks ['get_firstlevel_dm'] raised an error\")>\n",
      "Traceback (most recent call last):\n",
      "  File \"/usr/share/miniconda/envs/pydra-tutorial/lib/python3.10/site-packages/pydra/engine/core.py\", line 1175, in _collect_outputs\n",
      "    val_out = val.get_value(self)\n",
      "  File \"/usr/share/miniconda/envs/pydra-tutorial/lib/python3.10/site-packages/pydra/engine/specs.py\", line 772, in get_value\n",
      "    raise ValueError(\"Error from get_value\")\n",
      "ValueError: Error from get_value\n",
      "\n",
      "During handling of the above exception, another exception occurred:\n",
      "\n",
      "Traceback (most recent call last):\n",
      "  File \"/usr/share/miniconda/envs/pydra-tutorial/lib/python3.10/asyncio/tasks.py\", line 232, in __step\n",
      "    result = coro.send(None)\n",
      "  File \"/usr/share/miniconda/envs/pydra-tutorial/lib/python3.10/site-packages/pydra/engine/helpers.py\", line 815, in load_and_run_async\n",
      "    await task._run(submitter=submitter, rerun=rerun, **kwargs)\n",
      "  File \"/usr/share/miniconda/envs/pydra-tutorial/lib/python3.10/site-packages/pydra/engine/core.py\", line 1085, in _run\n",
      "    result.output = self._collect_outputs()\n",
      "  File \"/usr/share/miniconda/envs/pydra-tutorial/lib/python3.10/site-packages/pydra/engine/core.py\", line 1181, in _collect_outputs\n",
      "    raise ValueError(\n",
      "ValueError: Tasks ['get_firstlevel_dm'] raised an error\n"
     ]
    },
    {
     "name": "stderr",
     "output_type": "stream",
     "text": [
      "Task exception was never retrieved\n",
      "future: <Task finished name='Task-19' coro=<load_and_run_async() done, defined at /usr/share/miniconda/envs/pydra-tutorial/lib/python3.10/site-packages/pydra/engine/helpers.py:809> exception=ValueError(\"Tasks ['get_firstlevel_dm'] raised an error\")>\n",
      "Traceback (most recent call last):\n",
      "  File \"/usr/share/miniconda/envs/pydra-tutorial/lib/python3.10/site-packages/pydra/engine/core.py\", line 1175, in _collect_outputs\n",
      "    val_out = val.get_value(self)\n",
      "  File \"/usr/share/miniconda/envs/pydra-tutorial/lib/python3.10/site-packages/pydra/engine/specs.py\", line 772, in get_value\n",
      "    raise ValueError(\"Error from get_value\")\n",
      "ValueError: Error from get_value\n",
      "\n",
      "During handling of the above exception, another exception occurred:\n",
      "\n",
      "Traceback (most recent call last):\n",
      "  File \"/usr/share/miniconda/envs/pydra-tutorial/lib/python3.10/asyncio/tasks.py\", line 232, in __step\n",
      "    result = coro.send(None)\n",
      "  File \"/usr/share/miniconda/envs/pydra-tutorial/lib/python3.10/site-packages/pydra/engine/helpers.py\", line 815, in load_and_run_async\n",
      "    await task._run(submitter=submitter, rerun=rerun, **kwargs)\n",
      "  File \"/usr/share/miniconda/envs/pydra-tutorial/lib/python3.10/site-packages/pydra/engine/core.py\", line 1085, in _run\n",
      "    result.output = self._collect_outputs()\n",
      "  File \"/usr/share/miniconda/envs/pydra-tutorial/lib/python3.10/site-packages/pydra/engine/core.py\", line 1181, in _collect_outputs\n",
      "    raise ValueError(\n",
      "ValueError: Tasks ['get_firstlevel_dm'] raised an error\n"
     ]
    },
    {
     "name": "stderr",
     "output_type": "stream",
     "text": [
      "Task exception was never retrieved\n",
      "future: <Task finished name='Task-20' coro=<load_and_run_async() done, defined at /usr/share/miniconda/envs/pydra-tutorial/lib/python3.10/site-packages/pydra/engine/helpers.py:809> exception=ValueError(\"Tasks ['get_firstlevel_dm'] raised an error\")>\n",
      "Traceback (most recent call last):\n",
      "  File \"/usr/share/miniconda/envs/pydra-tutorial/lib/python3.10/site-packages/pydra/engine/core.py\", line 1175, in _collect_outputs\n",
      "    val_out = val.get_value(self)\n",
      "  File \"/usr/share/miniconda/envs/pydra-tutorial/lib/python3.10/site-packages/pydra/engine/specs.py\", line 772, in get_value\n",
      "    raise ValueError(\"Error from get_value\")\n",
      "ValueError: Error from get_value\n",
      "\n",
      "During handling of the above exception, another exception occurred:\n",
      "\n",
      "Traceback (most recent call last):\n",
      "  File \"/usr/share/miniconda/envs/pydra-tutorial/lib/python3.10/asyncio/tasks.py\", line 232, in __step\n",
      "    result = coro.send(None)\n",
      "  File \"/usr/share/miniconda/envs/pydra-tutorial/lib/python3.10/site-packages/pydra/engine/helpers.py\", line 815, in load_and_run_async\n",
      "    await task._run(submitter=submitter, rerun=rerun, **kwargs)\n",
      "  File \"/usr/share/miniconda/envs/pydra-tutorial/lib/python3.10/site-packages/pydra/engine/core.py\", line 1085, in _run\n",
      "    result.output = self._collect_outputs()\n",
      "  File \"/usr/share/miniconda/envs/pydra-tutorial/lib/python3.10/site-packages/pydra/engine/core.py\", line 1181, in _collect_outputs\n",
      "    raise ValueError(\n",
      "ValueError: Tasks ['get_firstlevel_dm'] raised an error\n"
     ]
    },
    {
     "name": "stderr",
     "output_type": "stream",
     "text": [
      "Task exception was never retrieved\n",
      "future: <Task finished name='Task-21' coro=<load_and_run_async() done, defined at /usr/share/miniconda/envs/pydra-tutorial/lib/python3.10/site-packages/pydra/engine/helpers.py:809> exception=ValueError(\"Tasks ['get_firstlevel_dm'] raised an error\")>\n",
      "Traceback (most recent call last):\n",
      "  File \"/usr/share/miniconda/envs/pydra-tutorial/lib/python3.10/site-packages/pydra/engine/core.py\", line 1175, in _collect_outputs\n",
      "    val_out = val.get_value(self)\n",
      "  File \"/usr/share/miniconda/envs/pydra-tutorial/lib/python3.10/site-packages/pydra/engine/specs.py\", line 772, in get_value\n",
      "    raise ValueError(\"Error from get_value\")\n",
      "ValueError: Error from get_value\n",
      "\n",
      "During handling of the above exception, another exception occurred:\n",
      "\n",
      "Traceback (most recent call last):\n",
      "  File \"/usr/share/miniconda/envs/pydra-tutorial/lib/python3.10/asyncio/tasks.py\", line 232, in __step\n",
      "    result = coro.send(None)\n",
      "  File \"/usr/share/miniconda/envs/pydra-tutorial/lib/python3.10/site-packages/pydra/engine/helpers.py\", line 815, in load_and_run_async\n",
      "    await task._run(submitter=submitter, rerun=rerun, **kwargs)\n",
      "  File \"/usr/share/miniconda/envs/pydra-tutorial/lib/python3.10/site-packages/pydra/engine/core.py\", line 1085, in _run\n",
      "    result.output = self._collect_outputs()\n",
      "  File \"/usr/share/miniconda/envs/pydra-tutorial/lib/python3.10/site-packages/pydra/engine/core.py\", line 1181, in _collect_outputs\n",
      "    raise ValueError(\n",
      "ValueError: Tasks ['get_firstlevel_dm'] raised an error\n"
     ]
    },
    {
     "name": "stderr",
     "output_type": "stream",
     "text": [
      "Task exception was never retrieved\n",
      "future: <Task finished name='Task-22' coro=<load_and_run_async() done, defined at /usr/share/miniconda/envs/pydra-tutorial/lib/python3.10/site-packages/pydra/engine/helpers.py:809> exception=ValueError(\"Tasks ['get_firstlevel_dm'] raised an error\")>\n",
      "Traceback (most recent call last):\n",
      "  File \"/usr/share/miniconda/envs/pydra-tutorial/lib/python3.10/site-packages/pydra/engine/core.py\", line 1175, in _collect_outputs\n",
      "    val_out = val.get_value(self)\n",
      "  File \"/usr/share/miniconda/envs/pydra-tutorial/lib/python3.10/site-packages/pydra/engine/specs.py\", line 772, in get_value\n",
      "    raise ValueError(\"Error from get_value\")\n",
      "ValueError: Error from get_value\n",
      "\n",
      "During handling of the above exception, another exception occurred:\n",
      "\n",
      "Traceback (most recent call last):\n",
      "  File \"/usr/share/miniconda/envs/pydra-tutorial/lib/python3.10/asyncio/tasks.py\", line 232, in __step\n",
      "    result = coro.send(None)\n",
      "  File \"/usr/share/miniconda/envs/pydra-tutorial/lib/python3.10/site-packages/pydra/engine/helpers.py\", line 815, in load_and_run_async\n",
      "    await task._run(submitter=submitter, rerun=rerun, **kwargs)\n",
      "  File \"/usr/share/miniconda/envs/pydra-tutorial/lib/python3.10/site-packages/pydra/engine/core.py\", line 1085, in _run\n",
      "    result.output = self._collect_outputs()\n",
      "  File \"/usr/share/miniconda/envs/pydra-tutorial/lib/python3.10/site-packages/pydra/engine/core.py\", line 1181, in _collect_outputs\n",
      "    raise ValueError(\n",
      "ValueError: Tasks ['get_firstlevel_dm'] raised an error\n"
     ]
    },
    {
     "name": "stderr",
     "output_type": "stream",
     "text": [
      "Task exception was never retrieved\n",
      "future: <Task finished name='Task-23' coro=<load_and_run_async() done, defined at /usr/share/miniconda/envs/pydra-tutorial/lib/python3.10/site-packages/pydra/engine/helpers.py:809> exception=ValueError(\"Tasks ['get_firstlevel_dm'] raised an error\")>\n",
      "Traceback (most recent call last):\n",
      "  File \"/usr/share/miniconda/envs/pydra-tutorial/lib/python3.10/site-packages/pydra/engine/core.py\", line 1175, in _collect_outputs\n",
      "    val_out = val.get_value(self)\n",
      "  File \"/usr/share/miniconda/envs/pydra-tutorial/lib/python3.10/site-packages/pydra/engine/specs.py\", line 772, in get_value\n",
      "    raise ValueError(\"Error from get_value\")\n",
      "ValueError: Error from get_value\n",
      "\n",
      "During handling of the above exception, another exception occurred:\n",
      "\n",
      "Traceback (most recent call last):\n",
      "  File \"/usr/share/miniconda/envs/pydra-tutorial/lib/python3.10/asyncio/tasks.py\", line 232, in __step\n",
      "    result = coro.send(None)\n",
      "  File \"/usr/share/miniconda/envs/pydra-tutorial/lib/python3.10/site-packages/pydra/engine/helpers.py\", line 815, in load_and_run_async\n",
      "    await task._run(submitter=submitter, rerun=rerun, **kwargs)\n",
      "  File \"/usr/share/miniconda/envs/pydra-tutorial/lib/python3.10/site-packages/pydra/engine/core.py\", line 1085, in _run\n",
      "    result.output = self._collect_outputs()\n",
      "  File \"/usr/share/miniconda/envs/pydra-tutorial/lib/python3.10/site-packages/pydra/engine/core.py\", line 1181, in _collect_outputs\n",
      "    raise ValueError(\n",
      "ValueError: Tasks ['get_firstlevel_dm'] raised an error\n"
     ]
    },
    {
     "name": "stderr",
     "output_type": "stream",
     "text": [
      "Task exception was never retrieved\n",
      "future: <Task finished name='Task-24' coro=<load_and_run_async() done, defined at /usr/share/miniconda/envs/pydra-tutorial/lib/python3.10/site-packages/pydra/engine/helpers.py:809> exception=ValueError(\"Tasks ['get_firstlevel_dm'] raised an error\")>\n",
      "Traceback (most recent call last):\n",
      "  File \"/usr/share/miniconda/envs/pydra-tutorial/lib/python3.10/site-packages/pydra/engine/core.py\", line 1175, in _collect_outputs\n",
      "    val_out = val.get_value(self)\n",
      "  File \"/usr/share/miniconda/envs/pydra-tutorial/lib/python3.10/site-packages/pydra/engine/specs.py\", line 772, in get_value\n",
      "    raise ValueError(\"Error from get_value\")\n",
      "ValueError: Error from get_value\n",
      "\n",
      "During handling of the above exception, another exception occurred:\n",
      "\n",
      "Traceback (most recent call last):\n",
      "  File \"/usr/share/miniconda/envs/pydra-tutorial/lib/python3.10/asyncio/tasks.py\", line 232, in __step\n",
      "    result = coro.send(None)\n",
      "  File \"/usr/share/miniconda/envs/pydra-tutorial/lib/python3.10/site-packages/pydra/engine/helpers.py\", line 815, in load_and_run_async\n",
      "    await task._run(submitter=submitter, rerun=rerun, **kwargs)\n",
      "  File \"/usr/share/miniconda/envs/pydra-tutorial/lib/python3.10/site-packages/pydra/engine/core.py\", line 1085, in _run\n",
      "    result.output = self._collect_outputs()\n",
      "  File \"/usr/share/miniconda/envs/pydra-tutorial/lib/python3.10/site-packages/pydra/engine/core.py\", line 1181, in _collect_outputs\n",
      "    raise ValueError(\n",
      "ValueError: Tasks ['get_firstlevel_dm'] raised an error\n"
     ]
    },
    {
     "name": "stderr",
     "output_type": "stream",
     "text": [
      "Task exception was never retrieved\n",
      "future: <Task finished name='Task-25' coro=<load_and_run_async() done, defined at /usr/share/miniconda/envs/pydra-tutorial/lib/python3.10/site-packages/pydra/engine/helpers.py:809> exception=ValueError(\"Tasks ['get_firstlevel_dm'] raised an error\")>\n",
      "Traceback (most recent call last):\n",
      "  File \"/usr/share/miniconda/envs/pydra-tutorial/lib/python3.10/site-packages/pydra/engine/core.py\", line 1175, in _collect_outputs\n",
      "    val_out = val.get_value(self)\n",
      "  File \"/usr/share/miniconda/envs/pydra-tutorial/lib/python3.10/site-packages/pydra/engine/specs.py\", line 772, in get_value\n",
      "    raise ValueError(\"Error from get_value\")\n",
      "ValueError: Error from get_value\n",
      "\n",
      "During handling of the above exception, another exception occurred:\n",
      "\n",
      "Traceback (most recent call last):\n",
      "  File \"/usr/share/miniconda/envs/pydra-tutorial/lib/python3.10/asyncio/tasks.py\", line 232, in __step\n",
      "    result = coro.send(None)\n",
      "  File \"/usr/share/miniconda/envs/pydra-tutorial/lib/python3.10/site-packages/pydra/engine/helpers.py\", line 815, in load_and_run_async\n",
      "    await task._run(submitter=submitter, rerun=rerun, **kwargs)\n",
      "  File \"/usr/share/miniconda/envs/pydra-tutorial/lib/python3.10/site-packages/pydra/engine/core.py\", line 1085, in _run\n",
      "    result.output = self._collect_outputs()\n",
      "  File \"/usr/share/miniconda/envs/pydra-tutorial/lib/python3.10/site-packages/pydra/engine/core.py\", line 1181, in _collect_outputs\n",
      "    raise ValueError(\n",
      "ValueError: Tasks ['get_firstlevel_dm'] raised an error\n"
     ]
    },
    {
     "name": "stderr",
     "output_type": "stream",
     "text": [
      "Task exception was never retrieved\n",
      "future: <Task finished name='Task-26' coro=<load_and_run_async() done, defined at /usr/share/miniconda/envs/pydra-tutorial/lib/python3.10/site-packages/pydra/engine/helpers.py:809> exception=ValueError(\"Tasks ['get_firstlevel_dm'] raised an error\")>\n",
      "Traceback (most recent call last):\n",
      "  File \"/usr/share/miniconda/envs/pydra-tutorial/lib/python3.10/site-packages/pydra/engine/core.py\", line 1175, in _collect_outputs\n",
      "    val_out = val.get_value(self)\n",
      "  File \"/usr/share/miniconda/envs/pydra-tutorial/lib/python3.10/site-packages/pydra/engine/specs.py\", line 772, in get_value\n",
      "    raise ValueError(\"Error from get_value\")\n",
      "ValueError: Error from get_value\n",
      "\n",
      "During handling of the above exception, another exception occurred:\n",
      "\n",
      "Traceback (most recent call last):\n",
      "  File \"/usr/share/miniconda/envs/pydra-tutorial/lib/python3.10/asyncio/tasks.py\", line 232, in __step\n",
      "    result = coro.send(None)\n",
      "  File \"/usr/share/miniconda/envs/pydra-tutorial/lib/python3.10/site-packages/pydra/engine/helpers.py\", line 815, in load_and_run_async\n",
      "    await task._run(submitter=submitter, rerun=rerun, **kwargs)\n",
      "  File \"/usr/share/miniconda/envs/pydra-tutorial/lib/python3.10/site-packages/pydra/engine/core.py\", line 1085, in _run\n",
      "    result.output = self._collect_outputs()\n",
      "  File \"/usr/share/miniconda/envs/pydra-tutorial/lib/python3.10/site-packages/pydra/engine/core.py\", line 1181, in _collect_outputs\n",
      "    raise ValueError(\n",
      "ValueError: Tasks ['get_firstlevel_dm'] raised an error\n"
     ]
    },
    {
     "name": "stderr",
     "output_type": "stream",
     "text": [
      "Task exception was never retrieved\n",
      "future: <Task finished name='Task-27' coro=<load_and_run_async() done, defined at /usr/share/miniconda/envs/pydra-tutorial/lib/python3.10/site-packages/pydra/engine/helpers.py:809> exception=ValueError(\"Tasks ['get_firstlevel_dm'] raised an error\")>\n",
      "Traceback (most recent call last):\n",
      "  File \"/usr/share/miniconda/envs/pydra-tutorial/lib/python3.10/site-packages/pydra/engine/core.py\", line 1175, in _collect_outputs\n",
      "    val_out = val.get_value(self)\n",
      "  File \"/usr/share/miniconda/envs/pydra-tutorial/lib/python3.10/site-packages/pydra/engine/specs.py\", line 772, in get_value\n",
      "    raise ValueError(\"Error from get_value\")\n",
      "ValueError: Error from get_value\n",
      "\n",
      "During handling of the above exception, another exception occurred:\n",
      "\n",
      "Traceback (most recent call last):\n",
      "  File \"/usr/share/miniconda/envs/pydra-tutorial/lib/python3.10/asyncio/tasks.py\", line 232, in __step\n",
      "    result = coro.send(None)\n",
      "  File \"/usr/share/miniconda/envs/pydra-tutorial/lib/python3.10/site-packages/pydra/engine/helpers.py\", line 815, in load_and_run_async\n",
      "    await task._run(submitter=submitter, rerun=rerun, **kwargs)\n",
      "  File \"/usr/share/miniconda/envs/pydra-tutorial/lib/python3.10/site-packages/pydra/engine/core.py\", line 1085, in _run\n",
      "    result.output = self._collect_outputs()\n",
      "  File \"/usr/share/miniconda/envs/pydra-tutorial/lib/python3.10/site-packages/pydra/engine/core.py\", line 1181, in _collect_outputs\n",
      "    raise ValueError(\n",
      "ValueError: Tasks ['get_firstlevel_dm'] raised an error\n"
     ]
    },
    {
     "name": "stderr",
     "output_type": "stream",
     "text": [
      "Task exception was never retrieved\n",
      "future: <Task finished name='Task-28' coro=<load_and_run_async() done, defined at /usr/share/miniconda/envs/pydra-tutorial/lib/python3.10/site-packages/pydra/engine/helpers.py:809> exception=ValueError(\"Tasks ['get_firstlevel_dm'] raised an error\")>\n",
      "Traceback (most recent call last):\n",
      "  File \"/usr/share/miniconda/envs/pydra-tutorial/lib/python3.10/site-packages/pydra/engine/core.py\", line 1175, in _collect_outputs\n",
      "    val_out = val.get_value(self)\n",
      "  File \"/usr/share/miniconda/envs/pydra-tutorial/lib/python3.10/site-packages/pydra/engine/specs.py\", line 772, in get_value\n",
      "    raise ValueError(\"Error from get_value\")\n",
      "ValueError: Error from get_value\n",
      "\n",
      "During handling of the above exception, another exception occurred:\n",
      "\n",
      "Traceback (most recent call last):\n",
      "  File \"/usr/share/miniconda/envs/pydra-tutorial/lib/python3.10/asyncio/tasks.py\", line 232, in __step\n",
      "    result = coro.send(None)\n",
      "  File \"/usr/share/miniconda/envs/pydra-tutorial/lib/python3.10/site-packages/pydra/engine/helpers.py\", line 815, in load_and_run_async\n",
      "    await task._run(submitter=submitter, rerun=rerun, **kwargs)\n",
      "  File \"/usr/share/miniconda/envs/pydra-tutorial/lib/python3.10/site-packages/pydra/engine/core.py\", line 1085, in _run\n",
      "    result.output = self._collect_outputs()\n",
      "  File \"/usr/share/miniconda/envs/pydra-tutorial/lib/python3.10/site-packages/pydra/engine/core.py\", line 1181, in _collect_outputs\n",
      "    raise ValueError(\n",
      "ValueError: Tasks ['get_firstlevel_dm'] raised an error\n"
     ]
    },
    {
     "name": "stderr",
     "output_type": "stream",
     "text": [
      "Task exception was never retrieved\n",
      "future: <Task finished name='Task-29' coro=<load_and_run_async() done, defined at /usr/share/miniconda/envs/pydra-tutorial/lib/python3.10/site-packages/pydra/engine/helpers.py:809> exception=ValueError(\"Tasks ['get_firstlevel_dm'] raised an error\")>\n",
      "Traceback (most recent call last):\n",
      "  File \"/usr/share/miniconda/envs/pydra-tutorial/lib/python3.10/site-packages/pydra/engine/core.py\", line 1175, in _collect_outputs\n",
      "    val_out = val.get_value(self)\n",
      "  File \"/usr/share/miniconda/envs/pydra-tutorial/lib/python3.10/site-packages/pydra/engine/specs.py\", line 772, in get_value\n",
      "    raise ValueError(\"Error from get_value\")\n",
      "ValueError: Error from get_value\n",
      "\n",
      "During handling of the above exception, another exception occurred:\n",
      "\n",
      "Traceback (most recent call last):\n",
      "  File \"/usr/share/miniconda/envs/pydra-tutorial/lib/python3.10/asyncio/tasks.py\", line 232, in __step\n",
      "    result = coro.send(None)\n",
      "  File \"/usr/share/miniconda/envs/pydra-tutorial/lib/python3.10/site-packages/pydra/engine/helpers.py\", line 815, in load_and_run_async\n",
      "    await task._run(submitter=submitter, rerun=rerun, **kwargs)\n",
      "  File \"/usr/share/miniconda/envs/pydra-tutorial/lib/python3.10/site-packages/pydra/engine/core.py\", line 1085, in _run\n",
      "    result.output = self._collect_outputs()\n",
      "  File \"/usr/share/miniconda/envs/pydra-tutorial/lib/python3.10/site-packages/pydra/engine/core.py\", line 1181, in _collect_outputs\n",
      "    raise ValueError(\n",
      "ValueError: Tasks ['get_firstlevel_dm'] raised an error\n"
     ]
    },
    {
     "name": "stderr",
     "output_type": "stream",
     "text": [
      "Task exception was never retrieved\n",
      "future: <Task finished name='Task-30' coro=<ConcurrentFuturesWorker.exec_as_coro() done, defined at /usr/share/miniconda/envs/pydra-tutorial/lib/python3.10/site-packages/pydra/engine/workers.py:161> exception=IndexError('list index out of range')>\n",
      "concurrent.futures.process._RemoteTraceback: \n",
      "\"\"\"\n",
      "Traceback (most recent call last):\n",
      "  File \"/usr/share/miniconda/envs/pydra-tutorial/lib/python3.10/concurrent/futures/process.py\", line 246, in _process_worker\n",
      "    r = call_item.fn(*call_item.args, **call_item.kwargs)\n",
      "  File \"/usr/share/miniconda/envs/pydra-tutorial/lib/python3.10/site-packages/pydra/engine/core.py\", line 506, in _run\n",
      "    self._run_task()\n",
      "  File \"/usr/share/miniconda/envs/pydra-tutorial/lib/python3.10/site-packages/pydra/engine/task.py\", line 192, in _run_task\n",
      "    output = cp.loads(self.inputs._func)(**inputs)\n",
      "  File \"/tmp/ipykernel_7808/2321826732.py\", line 17, in get_firstlevel_dm\n",
      "    run_img = subj_imgs[run_id-1]\n",
      "IndexError: list index out of range\n",
      "\"\"\"\n",
      "\n",
      "The above exception was the direct cause of the following exception:\n",
      "\n",
      "Traceback (most recent call last):\n",
      "  File \"/usr/share/miniconda/envs/pydra-tutorial/lib/python3.10/asyncio/tasks.py\", line 234, in __step\n",
      "    result = coro.throw(exc)\n",
      "  File \"/usr/share/miniconda/envs/pydra-tutorial/lib/python3.10/site-packages/pydra/engine/workers.py\", line 164, in exec_as_coro\n",
      "    res = await self.loop.run_in_executor(self.pool, runnable._run, rerun)\n",
      "  File \"/usr/share/miniconda/envs/pydra-tutorial/lib/python3.10/asyncio/futures.py\", line 285, in __await__\n",
      "    yield self  # This tells Task to wait for completion.\n",
      "  File \"/usr/share/miniconda/envs/pydra-tutorial/lib/python3.10/asyncio/tasks.py\", line 304, in __wakeup\n",
      "    future.result()\n",
      "  File \"/usr/share/miniconda/envs/pydra-tutorial/lib/python3.10/asyncio/futures.py\", line 201, in result\n",
      "    raise self._exception.with_traceback(self._exception_tb)\n",
      "IndexError: list index out of range\n"
     ]
    },
    {
     "name": "stderr",
     "output_type": "stream",
     "text": [
      "Task exception was never retrieved\n",
      "future: <Task finished name='Task-31' coro=<ConcurrentFuturesWorker.exec_as_coro() done, defined at /usr/share/miniconda/envs/pydra-tutorial/lib/python3.10/site-packages/pydra/engine/workers.py:161> exception=IndexError('list index out of range')>\n",
      "concurrent.futures.process._RemoteTraceback: \n",
      "\"\"\"\n",
      "Traceback (most recent call last):\n",
      "  File \"/usr/share/miniconda/envs/pydra-tutorial/lib/python3.10/concurrent/futures/process.py\", line 246, in _process_worker\n",
      "    r = call_item.fn(*call_item.args, **call_item.kwargs)\n",
      "  File \"/usr/share/miniconda/envs/pydra-tutorial/lib/python3.10/site-packages/pydra/engine/core.py\", line 506, in _run\n",
      "    self._run_task()\n",
      "  File \"/usr/share/miniconda/envs/pydra-tutorial/lib/python3.10/site-packages/pydra/engine/task.py\", line 192, in _run_task\n",
      "    output = cp.loads(self.inputs._func)(**inputs)\n",
      "  File \"/tmp/ipykernel_7808/2321826732.py\", line 17, in get_firstlevel_dm\n",
      "    run_img = subj_imgs[run_id-1]\n",
      "IndexError: list index out of range\n",
      "\"\"\"\n",
      "\n",
      "The above exception was the direct cause of the following exception:\n",
      "\n",
      "Traceback (most recent call last):\n",
      "  File \"/usr/share/miniconda/envs/pydra-tutorial/lib/python3.10/asyncio/tasks.py\", line 234, in __step\n",
      "    result = coro.throw(exc)\n",
      "  File \"/usr/share/miniconda/envs/pydra-tutorial/lib/python3.10/site-packages/pydra/engine/workers.py\", line 164, in exec_as_coro\n",
      "    res = await self.loop.run_in_executor(self.pool, runnable._run, rerun)\n",
      "  File \"/usr/share/miniconda/envs/pydra-tutorial/lib/python3.10/asyncio/futures.py\", line 285, in __await__\n",
      "    yield self  # This tells Task to wait for completion.\n",
      "  File \"/usr/share/miniconda/envs/pydra-tutorial/lib/python3.10/asyncio/tasks.py\", line 304, in __wakeup\n",
      "    future.result()\n",
      "  File \"/usr/share/miniconda/envs/pydra-tutorial/lib/python3.10/asyncio/futures.py\", line 201, in result\n",
      "    raise self._exception.with_traceback(self._exception_tb)\n",
      "IndexError: list index out of range\n"
     ]
    },
    {
     "name": "stderr",
     "output_type": "stream",
     "text": [
      "Task exception was never retrieved\n",
      "future: <Task finished name='Task-32' coro=<ConcurrentFuturesWorker.exec_as_coro() done, defined at /usr/share/miniconda/envs/pydra-tutorial/lib/python3.10/site-packages/pydra/engine/workers.py:161> exception=IndexError('list index out of range')>\n",
      "concurrent.futures.process._RemoteTraceback: \n",
      "\"\"\"\n",
      "Traceback (most recent call last):\n",
      "  File \"/usr/share/miniconda/envs/pydra-tutorial/lib/python3.10/concurrent/futures/process.py\", line 246, in _process_worker\n",
      "    r = call_item.fn(*call_item.args, **call_item.kwargs)\n",
      "  File \"/usr/share/miniconda/envs/pydra-tutorial/lib/python3.10/site-packages/pydra/engine/core.py\", line 506, in _run\n",
      "    self._run_task()\n",
      "  File \"/usr/share/miniconda/envs/pydra-tutorial/lib/python3.10/site-packages/pydra/engine/task.py\", line 192, in _run_task\n",
      "    output = cp.loads(self.inputs._func)(**inputs)\n",
      "  File \"/tmp/ipykernel_7808/2321826732.py\", line 17, in get_firstlevel_dm\n",
      "    run_img = subj_imgs[run_id-1]\n",
      "IndexError: list index out of range\n",
      "\"\"\"\n",
      "\n",
      "The above exception was the direct cause of the following exception:\n",
      "\n",
      "Traceback (most recent call last):\n",
      "  File \"/usr/share/miniconda/envs/pydra-tutorial/lib/python3.10/asyncio/tasks.py\", line 234, in __step\n",
      "    result = coro.throw(exc)\n",
      "  File \"/usr/share/miniconda/envs/pydra-tutorial/lib/python3.10/site-packages/pydra/engine/workers.py\", line 164, in exec_as_coro\n",
      "    res = await self.loop.run_in_executor(self.pool, runnable._run, rerun)\n",
      "  File \"/usr/share/miniconda/envs/pydra-tutorial/lib/python3.10/asyncio/futures.py\", line 285, in __await__\n",
      "    yield self  # This tells Task to wait for completion.\n",
      "  File \"/usr/share/miniconda/envs/pydra-tutorial/lib/python3.10/asyncio/tasks.py\", line 304, in __wakeup\n",
      "    future.result()\n",
      "  File \"/usr/share/miniconda/envs/pydra-tutorial/lib/python3.10/asyncio/futures.py\", line 201, in result\n",
      "    raise self._exception.with_traceback(self._exception_tb)\n",
      "IndexError: list index out of range\n"
     ]
    },
    {
     "name": "stderr",
     "output_type": "stream",
     "text": [
      "Task exception was never retrieved\n",
      "future: <Task finished name='Task-33' coro=<ConcurrentFuturesWorker.exec_as_coro() done, defined at /usr/share/miniconda/envs/pydra-tutorial/lib/python3.10/site-packages/pydra/engine/workers.py:161> exception=IndexError('list index out of range')>\n",
      "concurrent.futures.process._RemoteTraceback: \n",
      "\"\"\"\n",
      "Traceback (most recent call last):\n",
      "  File \"/usr/share/miniconda/envs/pydra-tutorial/lib/python3.10/concurrent/futures/process.py\", line 246, in _process_worker\n",
      "    r = call_item.fn(*call_item.args, **call_item.kwargs)\n",
      "  File \"/usr/share/miniconda/envs/pydra-tutorial/lib/python3.10/site-packages/pydra/engine/core.py\", line 506, in _run\n",
      "    self._run_task()\n",
      "  File \"/usr/share/miniconda/envs/pydra-tutorial/lib/python3.10/site-packages/pydra/engine/task.py\", line 192, in _run_task\n",
      "    output = cp.loads(self.inputs._func)(**inputs)\n",
      "  File \"/tmp/ipykernel_7808/2321826732.py\", line 17, in get_firstlevel_dm\n",
      "    run_img = subj_imgs[run_id-1]\n",
      "IndexError: list index out of range\n",
      "\"\"\"\n",
      "\n",
      "The above exception was the direct cause of the following exception:\n",
      "\n",
      "Traceback (most recent call last):\n",
      "  File \"/usr/share/miniconda/envs/pydra-tutorial/lib/python3.10/asyncio/tasks.py\", line 234, in __step\n",
      "    result = coro.throw(exc)\n",
      "  File \"/usr/share/miniconda/envs/pydra-tutorial/lib/python3.10/site-packages/pydra/engine/workers.py\", line 164, in exec_as_coro\n",
      "    res = await self.loop.run_in_executor(self.pool, runnable._run, rerun)\n",
      "  File \"/usr/share/miniconda/envs/pydra-tutorial/lib/python3.10/asyncio/futures.py\", line 285, in __await__\n",
      "    yield self  # This tells Task to wait for completion.\n",
      "  File \"/usr/share/miniconda/envs/pydra-tutorial/lib/python3.10/asyncio/tasks.py\", line 304, in __wakeup\n",
      "    future.result()\n",
      "  File \"/usr/share/miniconda/envs/pydra-tutorial/lib/python3.10/asyncio/futures.py\", line 201, in result\n",
      "    raise self._exception.with_traceback(self._exception_tb)\n",
      "IndexError: list index out of range\n"
     ]
    },
    {
     "name": "stderr",
     "output_type": "stream",
     "text": [
      "Task exception was never retrieved\n",
      "future: <Task finished name='Task-34' coro=<ConcurrentFuturesWorker.exec_as_coro() done, defined at /usr/share/miniconda/envs/pydra-tutorial/lib/python3.10/site-packages/pydra/engine/workers.py:161> exception=IndexError('list index out of range')>\n",
      "concurrent.futures.process._RemoteTraceback: \n",
      "\"\"\"\n",
      "Traceback (most recent call last):\n",
      "  File \"/usr/share/miniconda/envs/pydra-tutorial/lib/python3.10/concurrent/futures/process.py\", line 246, in _process_worker\n",
      "    r = call_item.fn(*call_item.args, **call_item.kwargs)\n",
      "  File \"/usr/share/miniconda/envs/pydra-tutorial/lib/python3.10/site-packages/pydra/engine/core.py\", line 506, in _run\n",
      "    self._run_task()\n",
      "  File \"/usr/share/miniconda/envs/pydra-tutorial/lib/python3.10/site-packages/pydra/engine/task.py\", line 192, in _run_task\n",
      "    output = cp.loads(self.inputs._func)(**inputs)\n",
      "  File \"/tmp/ipykernel_7808/2321826732.py\", line 17, in get_firstlevel_dm\n",
      "    run_img = subj_imgs[run_id-1]\n",
      "IndexError: list index out of range\n",
      "\"\"\"\n",
      "\n",
      "The above exception was the direct cause of the following exception:\n",
      "\n",
      "Traceback (most recent call last):\n",
      "  File \"/usr/share/miniconda/envs/pydra-tutorial/lib/python3.10/asyncio/tasks.py\", line 234, in __step\n",
      "    result = coro.throw(exc)\n",
      "  File \"/usr/share/miniconda/envs/pydra-tutorial/lib/python3.10/site-packages/pydra/engine/workers.py\", line 164, in exec_as_coro\n",
      "    res = await self.loop.run_in_executor(self.pool, runnable._run, rerun)\n",
      "  File \"/usr/share/miniconda/envs/pydra-tutorial/lib/python3.10/asyncio/futures.py\", line 285, in __await__\n",
      "    yield self  # This tells Task to wait for completion.\n",
      "  File \"/usr/share/miniconda/envs/pydra-tutorial/lib/python3.10/asyncio/tasks.py\", line 304, in __wakeup\n",
      "    future.result()\n",
      "  File \"/usr/share/miniconda/envs/pydra-tutorial/lib/python3.10/asyncio/futures.py\", line 201, in result\n",
      "    raise self._exception.with_traceback(self._exception_tb)\n",
      "IndexError: list index out of range\n"
     ]
    },
    {
     "name": "stderr",
     "output_type": "stream",
     "text": [
      "Task exception was never retrieved\n",
      "future: <Task finished name='Task-35' coro=<ConcurrentFuturesWorker.exec_as_coro() done, defined at /usr/share/miniconda/envs/pydra-tutorial/lib/python3.10/site-packages/pydra/engine/workers.py:161> exception=IndexError('list index out of range')>\n",
      "concurrent.futures.process._RemoteTraceback: \n",
      "\"\"\"\n",
      "Traceback (most recent call last):\n",
      "  File \"/usr/share/miniconda/envs/pydra-tutorial/lib/python3.10/concurrent/futures/process.py\", line 246, in _process_worker\n",
      "    r = call_item.fn(*call_item.args, **call_item.kwargs)\n",
      "  File \"/usr/share/miniconda/envs/pydra-tutorial/lib/python3.10/site-packages/pydra/engine/core.py\", line 506, in _run\n",
      "    self._run_task()\n",
      "  File \"/usr/share/miniconda/envs/pydra-tutorial/lib/python3.10/site-packages/pydra/engine/task.py\", line 192, in _run_task\n",
      "    output = cp.loads(self.inputs._func)(**inputs)\n",
      "  File \"/tmp/ipykernel_7808/2321826732.py\", line 17, in get_firstlevel_dm\n",
      "    run_img = subj_imgs[run_id-1]\n",
      "IndexError: list index out of range\n",
      "\"\"\"\n",
      "\n",
      "The above exception was the direct cause of the following exception:\n",
      "\n",
      "Traceback (most recent call last):\n",
      "  File \"/usr/share/miniconda/envs/pydra-tutorial/lib/python3.10/asyncio/tasks.py\", line 234, in __step\n",
      "    result = coro.throw(exc)\n",
      "  File \"/usr/share/miniconda/envs/pydra-tutorial/lib/python3.10/site-packages/pydra/engine/workers.py\", line 164, in exec_as_coro\n",
      "    res = await self.loop.run_in_executor(self.pool, runnable._run, rerun)\n",
      "  File \"/usr/share/miniconda/envs/pydra-tutorial/lib/python3.10/asyncio/futures.py\", line 285, in __await__\n",
      "    yield self  # This tells Task to wait for completion.\n",
      "  File \"/usr/share/miniconda/envs/pydra-tutorial/lib/python3.10/asyncio/tasks.py\", line 304, in __wakeup\n",
      "    future.result()\n",
      "  File \"/usr/share/miniconda/envs/pydra-tutorial/lib/python3.10/asyncio/futures.py\", line 201, in result\n",
      "    raise self._exception.with_traceback(self._exception_tb)\n",
      "IndexError: list index out of range\n"
     ]
    },
    {
     "name": "stderr",
     "output_type": "stream",
     "text": [
      "Task exception was never retrieved\n",
      "future: <Task finished name='Task-36' coro=<ConcurrentFuturesWorker.exec_as_coro() done, defined at /usr/share/miniconda/envs/pydra-tutorial/lib/python3.10/site-packages/pydra/engine/workers.py:161> exception=IndexError('list index out of range')>\n",
      "concurrent.futures.process._RemoteTraceback: \n",
      "\"\"\"\n",
      "Traceback (most recent call last):\n",
      "  File \"/usr/share/miniconda/envs/pydra-tutorial/lib/python3.10/concurrent/futures/process.py\", line 246, in _process_worker\n",
      "    r = call_item.fn(*call_item.args, **call_item.kwargs)\n",
      "  File \"/usr/share/miniconda/envs/pydra-tutorial/lib/python3.10/site-packages/pydra/engine/core.py\", line 506, in _run\n",
      "    self._run_task()\n",
      "  File \"/usr/share/miniconda/envs/pydra-tutorial/lib/python3.10/site-packages/pydra/engine/task.py\", line 192, in _run_task\n",
      "    output = cp.loads(self.inputs._func)(**inputs)\n",
      "  File \"/tmp/ipykernel_7808/2321826732.py\", line 17, in get_firstlevel_dm\n",
      "    run_img = subj_imgs[run_id-1]\n",
      "IndexError: list index out of range\n",
      "\"\"\"\n",
      "\n",
      "The above exception was the direct cause of the following exception:\n",
      "\n",
      "Traceback (most recent call last):\n",
      "  File \"/usr/share/miniconda/envs/pydra-tutorial/lib/python3.10/asyncio/tasks.py\", line 234, in __step\n",
      "    result = coro.throw(exc)\n",
      "  File \"/usr/share/miniconda/envs/pydra-tutorial/lib/python3.10/site-packages/pydra/engine/workers.py\", line 164, in exec_as_coro\n",
      "    res = await self.loop.run_in_executor(self.pool, runnable._run, rerun)\n",
      "  File \"/usr/share/miniconda/envs/pydra-tutorial/lib/python3.10/asyncio/futures.py\", line 285, in __await__\n",
      "    yield self  # This tells Task to wait for completion.\n",
      "  File \"/usr/share/miniconda/envs/pydra-tutorial/lib/python3.10/asyncio/tasks.py\", line 304, in __wakeup\n",
      "    future.result()\n",
      "  File \"/usr/share/miniconda/envs/pydra-tutorial/lib/python3.10/asyncio/futures.py\", line 201, in result\n",
      "    raise self._exception.with_traceback(self._exception_tb)\n",
      "IndexError: list index out of range\n"
     ]
    },
    {
     "ename": "ValueError",
     "evalue": "Tasks ['wf_fixed_effect'] raised an error",
     "output_type": "error",
     "traceback": [
      "\u001b[0;31m---------------------------------------------------------------------------\u001b[0m",
      "\u001b[0;31mValueError\u001b[0m                                Traceback (most recent call last)",
      "File \u001b[0;32m/usr/share/miniconda/envs/pydra-tutorial/lib/python3.10/site-packages/pydra/engine/core.py:1175\u001b[0m, in \u001b[0;36mWorkflow._collect_outputs\u001b[0;34m(self)\u001b[0m\n\u001b[1;32m   1174\u001b[0m \u001b[38;5;28;01mtry\u001b[39;00m:\n\u001b[0;32m-> 1175\u001b[0m     val_out \u001b[38;5;241m=\u001b[39m \u001b[43mval\u001b[49m\u001b[38;5;241;43m.\u001b[39;49m\u001b[43mget_value\u001b[49m\u001b[43m(\u001b[49m\u001b[38;5;28;43mself\u001b[39;49m\u001b[43m)\u001b[49m\n\u001b[1;32m   1176\u001b[0m     output_wf[name] \u001b[38;5;241m=\u001b[39m val_out\n",
      "File \u001b[0;32m/usr/share/miniconda/envs/pydra-tutorial/lib/python3.10/site-packages/pydra/engine/specs.py:772\u001b[0m, in \u001b[0;36mLazyField.get_value\u001b[0;34m(self, wf, state_index)\u001b[0m\n\u001b[1;32m    771\u001b[0m \u001b[38;5;28;01mif\u001b[39;00m result\u001b[38;5;241m.\u001b[39merrored:\n\u001b[0;32m--> 772\u001b[0m     \u001b[38;5;28;01mraise\u001b[39;00m \u001b[38;5;167;01mValueError\u001b[39;00m(\u001b[38;5;124m\"\u001b[39m\u001b[38;5;124mError from get_value\u001b[39m\u001b[38;5;124m\"\u001b[39m)\n\u001b[1;32m    773\u001b[0m \u001b[38;5;28;01mreturn\u001b[39;00m result\u001b[38;5;241m.\u001b[39mget_output_field(\u001b[38;5;28mself\u001b[39m\u001b[38;5;241m.\u001b[39mfield)\n",
      "\u001b[0;31mValueError\u001b[0m: Error from get_value",
      "\nDuring handling of the above exception, another exception occurred:\n",
      "\u001b[0;31mValueError\u001b[0m                                Traceback (most recent call last)",
      "Cell \u001b[0;32mIn [20], line 4\u001b[0m\n\u001b[1;32m      1\u001b[0m \u001b[38;5;28;01mfrom\u001b[39;00m \u001b[38;5;21;01mpydra\u001b[39;00m \u001b[38;5;28;01mimport\u001b[39;00m Submitter\n\u001b[1;32m      3\u001b[0m \u001b[38;5;28;01mwith\u001b[39;00m Submitter(plugin\u001b[38;5;241m=\u001b[39m\u001b[38;5;124m'\u001b[39m\u001b[38;5;124mcf\u001b[39m\u001b[38;5;124m'\u001b[39m, n_procs\u001b[38;5;241m=\u001b[39m\u001b[38;5;241m1\u001b[39m) \u001b[38;5;28;01mas\u001b[39;00m submitter:\n\u001b[0;32m----> 4\u001b[0m     \u001b[43msubmitter\u001b[49m\u001b[43m(\u001b[49m\u001b[43mwf\u001b[49m\u001b[43m)\u001b[49m\n\u001b[1;32m      6\u001b[0m results \u001b[38;5;241m=\u001b[39m wf\u001b[38;5;241m.\u001b[39mresult()\n\u001b[1;32m      8\u001b[0m \u001b[38;5;28mprint\u001b[39m(results)\n",
      "File \u001b[0;32m/usr/share/miniconda/envs/pydra-tutorial/lib/python3.10/site-packages/pydra/engine/submitter.py:41\u001b[0m, in \u001b[0;36mSubmitter.__call__\u001b[0;34m(self, runnable, cache_locations, rerun)\u001b[0m\n\u001b[1;32m     39\u001b[0m \u001b[38;5;28;01mif\u001b[39;00m cache_locations \u001b[38;5;129;01mis\u001b[39;00m \u001b[38;5;129;01mnot\u001b[39;00m \u001b[38;5;28;01mNone\u001b[39;00m:\n\u001b[1;32m     40\u001b[0m     runnable\u001b[38;5;241m.\u001b[39mcache_locations \u001b[38;5;241m=\u001b[39m cache_locations\n\u001b[0;32m---> 41\u001b[0m \u001b[38;5;28;43mself\u001b[39;49m\u001b[38;5;241;43m.\u001b[39;49m\u001b[43mloop\u001b[49m\u001b[38;5;241;43m.\u001b[39;49m\u001b[43mrun_until_complete\u001b[49m\u001b[43m(\u001b[49m\u001b[38;5;28;43mself\u001b[39;49m\u001b[38;5;241;43m.\u001b[39;49m\u001b[43msubmit_from_call\u001b[49m\u001b[43m(\u001b[49m\u001b[43mrunnable\u001b[49m\u001b[43m,\u001b[49m\u001b[43m \u001b[49m\u001b[43mrerun\u001b[49m\u001b[43m)\u001b[49m\u001b[43m)\u001b[49m\n\u001b[1;32m     42\u001b[0m \u001b[38;5;28;01mreturn\u001b[39;00m runnable\u001b[38;5;241m.\u001b[39mresult()\n",
      "File \u001b[0;32m/usr/share/miniconda/envs/pydra-tutorial/lib/python3.10/site-packages/nest_asyncio.py:90\u001b[0m, in \u001b[0;36m_patch_loop.<locals>.run_until_complete\u001b[0;34m(self, future)\u001b[0m\n\u001b[1;32m     87\u001b[0m \u001b[38;5;28;01mif\u001b[39;00m \u001b[38;5;129;01mnot\u001b[39;00m f\u001b[38;5;241m.\u001b[39mdone():\n\u001b[1;32m     88\u001b[0m     \u001b[38;5;28;01mraise\u001b[39;00m \u001b[38;5;167;01mRuntimeError\u001b[39;00m(\n\u001b[1;32m     89\u001b[0m         \u001b[38;5;124m'\u001b[39m\u001b[38;5;124mEvent loop stopped before Future completed.\u001b[39m\u001b[38;5;124m'\u001b[39m)\n\u001b[0;32m---> 90\u001b[0m \u001b[38;5;28;01mreturn\u001b[39;00m \u001b[43mf\u001b[49m\u001b[38;5;241;43m.\u001b[39;49m\u001b[43mresult\u001b[49m\u001b[43m(\u001b[49m\u001b[43m)\u001b[49m\n",
      "File \u001b[0;32m/usr/share/miniconda/envs/pydra-tutorial/lib/python3.10/asyncio/futures.py:201\u001b[0m, in \u001b[0;36mFuture.result\u001b[0;34m(self)\u001b[0m\n\u001b[1;32m    199\u001b[0m \u001b[38;5;28mself\u001b[39m\u001b[38;5;241m.\u001b[39m__log_traceback \u001b[38;5;241m=\u001b[39m \u001b[38;5;28;01mFalse\u001b[39;00m\n\u001b[1;32m    200\u001b[0m \u001b[38;5;28;01mif\u001b[39;00m \u001b[38;5;28mself\u001b[39m\u001b[38;5;241m.\u001b[39m_exception \u001b[38;5;129;01mis\u001b[39;00m \u001b[38;5;129;01mnot\u001b[39;00m \u001b[38;5;28;01mNone\u001b[39;00m:\n\u001b[0;32m--> 201\u001b[0m     \u001b[38;5;28;01mraise\u001b[39;00m \u001b[38;5;28mself\u001b[39m\u001b[38;5;241m.\u001b[39m_exception\u001b[38;5;241m.\u001b[39mwith_traceback(\u001b[38;5;28mself\u001b[39m\u001b[38;5;241m.\u001b[39m_exception_tb)\n\u001b[1;32m    202\u001b[0m \u001b[38;5;28;01mreturn\u001b[39;00m \u001b[38;5;28mself\u001b[39m\u001b[38;5;241m.\u001b[39m_result\n",
      "File \u001b[0;32m/usr/share/miniconda/envs/pydra-tutorial/lib/python3.10/asyncio/tasks.py:232\u001b[0m, in \u001b[0;36mTask.__step\u001b[0;34m(***failed resolving arguments***)\u001b[0m\n\u001b[1;32m    228\u001b[0m \u001b[38;5;28;01mtry\u001b[39;00m:\n\u001b[1;32m    229\u001b[0m     \u001b[38;5;28;01mif\u001b[39;00m exc \u001b[38;5;129;01mis\u001b[39;00m \u001b[38;5;28;01mNone\u001b[39;00m:\n\u001b[1;32m    230\u001b[0m         \u001b[38;5;66;03m# We use the `send` method directly, because coroutines\u001b[39;00m\n\u001b[1;32m    231\u001b[0m         \u001b[38;5;66;03m# don't have `__iter__` and `__next__` methods.\u001b[39;00m\n\u001b[0;32m--> 232\u001b[0m         result \u001b[38;5;241m=\u001b[39m \u001b[43mcoro\u001b[49m\u001b[38;5;241;43m.\u001b[39;49m\u001b[43msend\u001b[49m\u001b[43m(\u001b[49m\u001b[38;5;28;43;01mNone\u001b[39;49;00m\u001b[43m)\u001b[49m\n\u001b[1;32m    233\u001b[0m     \u001b[38;5;28;01melse\u001b[39;00m:\n\u001b[1;32m    234\u001b[0m         result \u001b[38;5;241m=\u001b[39m coro\u001b[38;5;241m.\u001b[39mthrow(exc)\n",
      "File \u001b[0;32m/usr/share/miniconda/envs/pydra-tutorial/lib/python3.10/site-packages/pydra/engine/submitter.py:67\u001b[0m, in \u001b[0;36mSubmitter.submit_from_call\u001b[0;34m(self, runnable, rerun)\u001b[0m\n\u001b[1;32m     65\u001b[0m \u001b[38;5;66;03m# 1\u001b[39;00m\n\u001b[1;32m     66\u001b[0m \u001b[38;5;28;01mif\u001b[39;00m runnable\u001b[38;5;241m.\u001b[39mstate \u001b[38;5;129;01mis\u001b[39;00m \u001b[38;5;28;01mNone\u001b[39;00m:\n\u001b[0;32m---> 67\u001b[0m     \u001b[38;5;28;01mawait\u001b[39;00m runnable\u001b[38;5;241m.\u001b[39m_run(\u001b[38;5;28mself\u001b[39m, rerun\u001b[38;5;241m=\u001b[39mrerun)\n\u001b[1;32m     68\u001b[0m \u001b[38;5;66;03m# 3\u001b[39;00m\n\u001b[1;32m     69\u001b[0m \u001b[38;5;28;01melse\u001b[39;00m:\n\u001b[1;32m     70\u001b[0m     \u001b[38;5;28;01mawait\u001b[39;00m \u001b[38;5;28mself\u001b[39m\u001b[38;5;241m.\u001b[39mexpand_runnable(runnable, wait\u001b[38;5;241m=\u001b[39m\u001b[38;5;28;01mTrue\u001b[39;00m, rerun\u001b[38;5;241m=\u001b[39mrerun)\n",
      "File \u001b[0;32m/usr/share/miniconda/envs/pydra-tutorial/lib/python3.10/site-packages/pydra/engine/core.py:1085\u001b[0m, in \u001b[0;36mWorkflow._run\u001b[0;34m(self, submitter, rerun, **kwargs)\u001b[0m\n\u001b[1;32m   1083\u001b[0m     \u001b[38;5;28mself\u001b[39m\u001b[38;5;241m.\u001b[39maudit\u001b[38;5;241m.\u001b[39mmonitor()\n\u001b[1;32m   1084\u001b[0m     \u001b[38;5;28;01mawait\u001b[39;00m \u001b[38;5;28mself\u001b[39m\u001b[38;5;241m.\u001b[39m_run_task(submitter, rerun\u001b[38;5;241m=\u001b[39mrerun)\n\u001b[0;32m-> 1085\u001b[0m     result\u001b[38;5;241m.\u001b[39moutput \u001b[38;5;241m=\u001b[39m \u001b[38;5;28;43mself\u001b[39;49m\u001b[38;5;241;43m.\u001b[39;49m\u001b[43m_collect_outputs\u001b[49m\u001b[43m(\u001b[49m\u001b[43m)\u001b[49m\n\u001b[1;32m   1086\u001b[0m \u001b[38;5;28;01mexcept\u001b[39;00m \u001b[38;5;167;01mException\u001b[39;00m:\n\u001b[1;32m   1087\u001b[0m     etype, \u001b[38;5;28meval\u001b[39m, etr \u001b[38;5;241m=\u001b[39m sys\u001b[38;5;241m.\u001b[39mexc_info()\n",
      "File \u001b[0;32m/usr/share/miniconda/envs/pydra-tutorial/lib/python3.10/site-packages/pydra/engine/core.py:1181\u001b[0m, in \u001b[0;36mWorkflow._collect_outputs\u001b[0;34m(self)\u001b[0m\n\u001b[1;32m   1179\u001b[0m \u001b[38;5;66;03m# checking if the tasks has predecessors that raises error\u001b[39;00m\n\u001b[1;32m   1180\u001b[0m \u001b[38;5;28;01mif\u001b[39;00m \u001b[38;5;28misinstance\u001b[39m(\u001b[38;5;28mgetattr\u001b[39m(\u001b[38;5;28mself\u001b[39m, val\u001b[38;5;241m.\u001b[39mname)\u001b[38;5;241m.\u001b[39m_errored, \u001b[38;5;28mlist\u001b[39m):\n\u001b[0;32m-> 1181\u001b[0m     \u001b[38;5;28;01mraise\u001b[39;00m \u001b[38;5;167;01mValueError\u001b[39;00m(\n\u001b[1;32m   1182\u001b[0m         \u001b[38;5;124mf\u001b[39m\u001b[38;5;124m\"\u001b[39m\u001b[38;5;124mTasks \u001b[39m\u001b[38;5;132;01m{\u001b[39;00m\u001b[38;5;28mgetattr\u001b[39m(\u001b[38;5;28mself\u001b[39m, val\u001b[38;5;241m.\u001b[39mname)\u001b[38;5;241m.\u001b[39m_errored\u001b[38;5;132;01m}\u001b[39;00m\u001b[38;5;124m raised an error\u001b[39m\u001b[38;5;124m\"\u001b[39m\n\u001b[1;32m   1183\u001b[0m     )\n\u001b[1;32m   1184\u001b[0m \u001b[38;5;28;01melse\u001b[39;00m:\n\u001b[1;32m   1185\u001b[0m     \u001b[38;5;28;01mif\u001b[39;00m \u001b[38;5;28misinstance\u001b[39m(\u001b[38;5;28mgetattr\u001b[39m(\u001b[38;5;28mself\u001b[39m, val\u001b[38;5;241m.\u001b[39mname)\u001b[38;5;241m.\u001b[39moutput_dir, \u001b[38;5;28mlist\u001b[39m):\n",
      "\u001b[0;31mValueError\u001b[0m: Tasks ['wf_fixed_effect'] raised an error"
     ]
    }
   ],
   "source": [
    "from pydra import Submitter\n",
    "\n",
    "with Submitter(plugin='cf', n_procs=1) as submitter:\n",
    "    submitter(wf)\n",
    "\n",
    "results = wf.result()\n",
    "\n",
    "print(results)"
   ]
  },
  {
   "cell_type": "markdown",
   "id": "e9d76f2d",
   "metadata": {},
   "source": [
    "## Let's Plot!\n",
    "\n",
    "We only use 5 subjects, so it's reasonable the following plots have nothing survived from testing."
   ]
  },
  {
   "cell_type": "markdown",
   "id": "06409e30",
   "metadata": {},
   "source": [
    "### Unthresholded\n",
    "\n",
    "Let's plot the unthresholded image first."
   ]
  },
  {
   "cell_type": "code",
   "execution_count": 21,
   "id": "43499223",
   "metadata": {
    "tags": [
     "hide-input"
    ]
   },
   "outputs": [
    {
     "ename": "IndexError",
     "evalue": "list index out of range",
     "output_type": "error",
     "traceback": [
      "\u001b[0;31m---------------------------------------------------------------------------\u001b[0m",
      "\u001b[0;31mIndexError\u001b[0m                                Traceback (most recent call last)",
      "Cell \u001b[0;32mIn [21], line 3\u001b[0m\n\u001b[1;32m      1\u001b[0m \u001b[38;5;28;01mfrom\u001b[39;00m \u001b[38;5;21;01mIPython\u001b[39;00m\u001b[38;5;21;01m.\u001b[39;00m\u001b[38;5;21;01mdisplay\u001b[39;00m \u001b[38;5;28;01mimport\u001b[39;00m Image\n\u001b[1;32m      2\u001b[0m ut_list \u001b[38;5;241m=\u001b[39m glob\u001b[38;5;241m.\u001b[39mglob(os\u001b[38;5;241m.\u001b[39mpath\u001b[38;5;241m.\u001b[39mjoin(workflow_out_dir, \u001b[38;5;124m\"\u001b[39m\u001b[38;5;124msecondlevel_unthresholded*.jpg\u001b[39m\u001b[38;5;124m\"\u001b[39m))\n\u001b[0;32m----> 3\u001b[0m Image(filename\u001b[38;5;241m=\u001b[39m\u001b[43mut_list\u001b[49m\u001b[43m[\u001b[49m\u001b[38;5;241;43m0\u001b[39;49m\u001b[43m]\u001b[49m)\n",
      "\u001b[0;31mIndexError\u001b[0m: list index out of range"
     ]
    }
   ],
   "source": [
    "from IPython.display import Image\n",
    "ut_list = glob.glob(os.path.join(workflow_out_dir, \"secondlevel_unthresholded*.jpg\"))\n",
    "Image(filename=ut_list[0])"
   ]
  },
  {
   "cell_type": "markdown",
   "id": "00b5b75d",
   "metadata": {},
   "source": [
    "### Cluster Thresholding"
   ]
  },
  {
   "cell_type": "code",
   "execution_count": 22,
   "id": "4077d5d4",
   "metadata": {
    "tags": [
     "hide-input"
    ]
   },
   "outputs": [
    {
     "ename": "IndexError",
     "evalue": "list index out of range",
     "output_type": "error",
     "traceback": [
      "\u001b[0;31m---------------------------------------------------------------------------\u001b[0m",
      "\u001b[0;31mIndexError\u001b[0m                                Traceback (most recent call last)",
      "Cell \u001b[0;32mIn [22], line 3\u001b[0m\n\u001b[1;32m      1\u001b[0m \u001b[38;5;28;01mfrom\u001b[39;00m \u001b[38;5;21;01mIPython\u001b[39;00m\u001b[38;5;21;01m.\u001b[39;00m\u001b[38;5;21;01mdisplay\u001b[39;00m \u001b[38;5;28;01mimport\u001b[39;00m Image\n\u001b[1;32m      2\u001b[0m ct_list \u001b[38;5;241m=\u001b[39m glob\u001b[38;5;241m.\u001b[39mglob(os\u001b[38;5;241m.\u001b[39mpath\u001b[38;5;241m.\u001b[39mjoin(workflow_out_dir, \u001b[38;5;124m\"\u001b[39m\u001b[38;5;124msecondlevel_cluster_thresholded*.jpg\u001b[39m\u001b[38;5;124m\"\u001b[39m))\n\u001b[0;32m----> 3\u001b[0m Image(filename\u001b[38;5;241m=\u001b[39m\u001b[43mct_list\u001b[49m\u001b[43m[\u001b[49m\u001b[38;5;241;43m0\u001b[39;49m\u001b[43m]\u001b[49m)\n",
      "\u001b[0;31mIndexError\u001b[0m: list index out of range"
     ]
    }
   ],
   "source": [
    "from IPython.display import Image\n",
    "ct_list = glob.glob(os.path.join(workflow_out_dir, \"secondlevel_cluster_thresholded*.jpg\"))\n",
    "Image(filename=ct_list[0])"
   ]
  },
  {
   "cell_type": "markdown",
   "id": "363f0d8c",
   "metadata": {},
   "source": [
    "### Multiple Comparison"
   ]
  },
  {
   "cell_type": "code",
   "execution_count": 23,
   "id": "aaea43ac",
   "metadata": {
    "tags": [
     "hide-input"
    ]
   },
   "outputs": [
    {
     "ename": "IndexError",
     "evalue": "list index out of range",
     "output_type": "error",
     "traceback": [
      "\u001b[0;31m---------------------------------------------------------------------------\u001b[0m",
      "\u001b[0;31mIndexError\u001b[0m                                Traceback (most recent call last)",
      "Cell \u001b[0;32mIn [23], line 2\u001b[0m\n\u001b[1;32m      1\u001b[0m mc_list \u001b[38;5;241m=\u001b[39m glob\u001b[38;5;241m.\u001b[39mglob(os\u001b[38;5;241m.\u001b[39mpath\u001b[38;5;241m.\u001b[39mjoin(workflow_out_dir, \u001b[38;5;124m\"\u001b[39m\u001b[38;5;124msecondlevel_multiple_comp*.jpg\u001b[39m\u001b[38;5;124m\"\u001b[39m))\n\u001b[0;32m----> 2\u001b[0m Image(filename\u001b[38;5;241m=\u001b[39m\u001b[43mmc_list\u001b[49m\u001b[43m[\u001b[49m\u001b[38;5;241;43m0\u001b[39;49m\u001b[43m]\u001b[49m)\n",
      "\u001b[0;31mIndexError\u001b[0m: list index out of range"
     ]
    }
   ],
   "source": [
    "mc_list = glob.glob(os.path.join(workflow_out_dir, \"secondlevel_multiple_comp*.jpg\"))\n",
    "Image(filename=mc_list[0])"
   ]
  },
  {
   "cell_type": "markdown",
   "id": "1faeaf79",
   "metadata": {},
   "source": [
    "### Paramatric Test"
   ]
  },
  {
   "cell_type": "code",
   "execution_count": 24,
   "id": "50a058cd",
   "metadata": {
    "tags": [
     "hide-input"
    ]
   },
   "outputs": [
    {
     "ename": "IndexError",
     "evalue": "list index out of range",
     "output_type": "error",
     "traceback": [
      "\u001b[0;31m---------------------------------------------------------------------------\u001b[0m",
      "\u001b[0;31mIndexError\u001b[0m                                Traceback (most recent call last)",
      "Cell \u001b[0;32mIn [24], line 2\u001b[0m\n\u001b[1;32m      1\u001b[0m pt_list \u001b[38;5;241m=\u001b[39m glob\u001b[38;5;241m.\u001b[39mglob(os\u001b[38;5;241m.\u001b[39mpath\u001b[38;5;241m.\u001b[39mjoin(workflow_out_dir, \u001b[38;5;124m\"\u001b[39m\u001b[38;5;124msecondlevel_paramatric*.jpg\u001b[39m\u001b[38;5;124m\"\u001b[39m))\n\u001b[0;32m----> 2\u001b[0m Image(filename\u001b[38;5;241m=\u001b[39m\u001b[43mpt_list\u001b[49m\u001b[43m[\u001b[49m\u001b[38;5;241;43m0\u001b[39;49m\u001b[43m]\u001b[49m)\n",
      "\u001b[0;31mIndexError\u001b[0m: list index out of range"
     ]
    }
   ],
   "source": [
    "pt_list = glob.glob(os.path.join(workflow_out_dir, \"secondlevel_paramatric*.jpg\"))\n",
    "Image(filename=pt_list[0])"
   ]
  },
  {
   "cell_type": "markdown",
   "id": "a5cc52f2",
   "metadata": {},
   "source": [
    "### Nonparamatric Test"
   ]
  },
  {
   "cell_type": "code",
   "execution_count": 25,
   "id": "78f30d29",
   "metadata": {
    "tags": [
     "hide-input"
    ]
   },
   "outputs": [
    {
     "ename": "IndexError",
     "evalue": "list index out of range",
     "output_type": "error",
     "traceback": [
      "\u001b[0;31m---------------------------------------------------------------------------\u001b[0m",
      "\u001b[0;31mIndexError\u001b[0m                                Traceback (most recent call last)",
      "Cell \u001b[0;32mIn [25], line 2\u001b[0m\n\u001b[1;32m      1\u001b[0m npt_list \u001b[38;5;241m=\u001b[39m glob\u001b[38;5;241m.\u001b[39mglob(os\u001b[38;5;241m.\u001b[39mpath\u001b[38;5;241m.\u001b[39mjoin(workflow_out_dir, \u001b[38;5;124m\"\u001b[39m\u001b[38;5;124msecondlevel_permutation*.jpg\u001b[39m\u001b[38;5;124m\"\u001b[39m))\n\u001b[0;32m----> 2\u001b[0m Image(filename\u001b[38;5;241m=\u001b[39m\u001b[43mnpt_list\u001b[49m\u001b[43m[\u001b[49m\u001b[38;5;241;43m0\u001b[39;49m\u001b[43m]\u001b[49m)\n",
      "\u001b[0;31mIndexError\u001b[0m: list index out of range"
     ]
    }
   ],
   "source": [
    "npt_list = glob.glob(os.path.join(workflow_out_dir, \"secondlevel_permutation*.jpg\"))\n",
    "Image(filename=npt_list[0])"
   ]
  },
  {
   "cell_type": "markdown",
   "id": "1ff484f2",
   "metadata": {},
   "source": [
    "## Exercise #1"
   ]
  },
  {
   "cell_type": "markdown",
   "id": "acea217c",
   "metadata": {},
   "source": [
    "In this example, we conducted GLM on each run per subject separately and then used a fixed-effect model to average across runs. \n",
    "\n",
    "Where did we put `.splitter` and `.combiner`. Why did we put it there?"
   ]
  },
  {
   "cell_type": "markdown",
   "id": "bebee918",
   "metadata": {},
   "source": [
    "## Exercise #2"
   ]
  },
  {
   "cell_type": "markdown",
   "id": "a0d562c7",
   "metadata": {},
   "source": [
    "Moreover, We choose this approach due to limited memory on GitHub. [FirstLevelModel](https://nilearn.github.io/stable/modules/generated/nilearn.glm.first_level.FirstLevelModel.html) in Nilearn also allows to compute multiple runs with a fixed-effect model simultanously. Here is an [example](https://nilearn.github.io/stable/auto_examples/04_glm_first_level/plot_fiac_analysis.html#sphx-glr-auto-examples-04-glm-first-level-plot-fiac-analysis-py). \n",
    "\n",
    "Would you like to give it a try on your own?"
   ]
  }
 ],
 "metadata": {
  "jupytext": {
   "formats": "ipynb,md:myst",
   "text_representation": {
    "extension": ".md",
    "format_name": "myst",
    "format_version": 0.13,
    "jupytext_version": "1.13.8"
   }
  },
  "kernelspec": {
   "display_name": "Python 3 (ipykernel)",
   "language": "python",
   "name": "python3"
  },
  "language_info": {
   "codemirror_mode": {
    "name": "ipython",
    "version": 3
   },
   "file_extension": ".py",
   "mimetype": "text/x-python",
   "name": "python",
   "nbconvert_exporter": "python",
   "pygments_lexer": "ipython3",
   "version": "3.10.6"
  },
  "source_map": [
   13,
   17,
   26,
   29,
   35,
   63,
   73,
   86,
   98,
   110,
   143,
   151,
   157,
   194,
   198,
   222,
   226,
   271,
   277,
   345,
   351,
   389,
   393,
   447,
   456,
   464,
   474,
   480,
   509,
   513,
   551,
   562,
   568,
   599,
   610,
   642,
   650,
   689,
   695,
   726,
   736,
   806,
   810,
   821,
   827,
   833,
   839,
   843,
   849,
   853,
   858,
   862,
   867,
   871,
   876,
   880,
   886,
   890
  ]
 },
 "nbformat": 4,
 "nbformat_minor": 5
}