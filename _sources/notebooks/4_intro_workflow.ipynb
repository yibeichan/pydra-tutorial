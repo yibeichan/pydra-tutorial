{
 "cells": [
  {
   "cell_type": "markdown",
   "id": "51b78294",
   "metadata": {},
   "source": [
    "# 4. Workflow"
   ]
  },
  {
   "cell_type": "code",
   "execution_count": 1,
   "id": "c25461c5",
   "metadata": {
    "jupyter": {
     "outputs_hidden": false
    },
    "pycharm": {
     "name": "#%%\n"
    }
   },
   "outputs": [],
   "source": [
    "import nest_asyncio\n",
    "nest_asyncio.apply()"
   ]
  },
  {
   "cell_type": "code",
   "execution_count": 2,
   "id": "5d46761a",
   "metadata": {},
   "outputs": [],
   "source": [
    "import pydra\n",
    "\n",
    "# functions used later in the notebook:\n",
    "\n",
    "@pydra.mark.task\n",
    "def add_two(x):\n",
    "    return x + 2\n",
    "\n",
    "@pydra.mark.task\n",
    "def power(a, n=2):\n",
    "    return a**n\n",
    "\n",
    "@pydra.mark.task\n",
    "def mult_var(a, b):\n",
    "    return a * b"
   ]
  },
  {
   "cell_type": "markdown",
   "id": "e443817d",
   "metadata": {},
   "source": [
    "In order to run multiple tasks within one pipeline, we use another *pydra* class - `Workflow`. The workflow will contain arbitrary number of tasks that will be treated as a graph.\n",
    "\n",
    "Let's start from a workflow with a single task that has one input `x`. When we create a `Workflow`, we have to specify `input_spec` that contains all of the workflow inputs:"
   ]
  },
  {
   "cell_type": "code",
   "execution_count": 3,
   "id": "8af3d66f",
   "metadata": {},
   "outputs": [],
   "source": [
    "wf1 = pydra.Workflow(name=\"wf1\", input_spec=[\"x\"], x=3)"
   ]
  },
  {
   "cell_type": "markdown",
   "id": "bf88737e",
   "metadata": {},
   "source": [
    "Now, we can add a task and specify that `x` will be taken from the workflow input by using so-called *Lazy Input*, `x=wf1.lzin.x`. We should also add the `name` to the task we are using in the `Workflow`."
   ]
  },
  {
   "cell_type": "code",
   "execution_count": 4,
   "id": "01e3be48",
   "metadata": {},
   "outputs": [
    {
     "data": {
      "text/plain": [
       "<pydra.engine.core.Workflow at 0x7fc0305fa7d0>"
      ]
     },
     "execution_count": 4,
     "metadata": {},
     "output_type": "execute_result"
    }
   ],
   "source": [
    "wf1.add(add_two(name=\"sum\", x=wf1.lzin.x))"
   ]
  },
  {
   "cell_type": "markdown",
   "id": "20e1df90",
   "metadata": {},
   "source": [
    "Now, we can access the task by using the task name:"
   ]
  },
  {
   "cell_type": "code",
   "execution_count": 5,
   "id": "250ff584",
   "metadata": {},
   "outputs": [
    {
     "data": {
      "text/plain": [
       "<pydra.engine.task.FunctionTask at 0x7fbfe0852d90>"
      ]
     },
     "execution_count": 5,
     "metadata": {},
     "output_type": "execute_result"
    }
   ],
   "source": [
    "wf1.sum"
   ]
  },
  {
   "cell_type": "markdown",
   "id": "32b0c9b1",
   "metadata": {},
   "source": [
    "We have to also specify what would be the workflow output, for this one-task workflow, we simply take the output of `sum` and we use *Lazy Output* to set it to `wf.output.out`:"
   ]
  },
  {
   "cell_type": "code",
   "execution_count": 6,
   "id": "45ffe4ff",
   "metadata": {},
   "outputs": [],
   "source": [
    "wf1.set_output([(\"out\", wf1.sum.lzout.out)])"
   ]
  },
  {
   "cell_type": "markdown",
   "id": "df11ea00",
   "metadata": {},
   "source": [
    "We could also use dictionary to set the output - `wf1.set_output({\"out\": wf1.sum.lzout.out})`, or as a tuple if we set a single element: `wf1.set_output((\"out\", wf1.sum.lzout.out))`"
   ]
  },
  {
   "cell_type": "markdown",
   "id": "eedcbfe4",
   "metadata": {},
   "source": [
    "Now, we are ready to run the workflow:"
   ]
  },
  {
   "cell_type": "code",
   "execution_count": 7,
   "id": "a2f3838c",
   "metadata": {},
   "outputs": [
    {
     "data": {
      "text/plain": [
       "Result(output=Output(out=5), runtime=None, errored=False)"
      ]
     },
     "execution_count": 7,
     "metadata": {},
     "output_type": "execute_result"
    }
   ],
   "source": [
    "with pydra.Submitter(plugin=\"cf\") as sub:\n",
    "    sub(wf1)\n",
    "\n",
    "wf1.result()"
   ]
  },
  {
   "cell_type": "markdown",
   "id": "05fb5ace",
   "metadata": {},
   "source": [
    "The result of the workflow should be the same as the output of the task, i.e., 5.\n",
    "\n",
    "We could think about the workflow as follows: the workflow has an input `x` that is passed to the \"sum\" `Task`, once the task has its input it runs and produces an output, the output is later set to the workflow output."
   ]
  },
  {
   "cell_type": "markdown",
   "id": "6fc7a252",
   "metadata": {},
   "source": [
    "![wf_1.png](../figures/wf_1.png)"
   ]
  },
  {
   "cell_type": "markdown",
   "id": "9fd1b4d0",
   "metadata": {},
   "source": [
    "You can add as many tasks as you want to the workflow and return multiple variables:"
   ]
  },
  {
   "cell_type": "code",
   "execution_count": 8,
   "id": "5c3e07f3",
   "metadata": {},
   "outputs": [
    {
     "data": {
      "text/plain": [
       "Result(output=Output(out_s=5, out_p=9), runtime=None, errored=False)"
      ]
     },
     "execution_count": 8,
     "metadata": {},
     "output_type": "execute_result"
    }
   ],
   "source": [
    "wf2 = pydra.Workflow(name=\"wf2\", input_spec=[\"x\"], x=3)\n",
    "wf2.add(add_two(name=\"add_two\", x=wf2.lzin.x))\n",
    "wf2.add(power(name=\"power\", a=wf2.lzin.x))\n",
    "\n",
    "# setting multiple workflow output\n",
    "wf2.set_output([(\"out_s\", wf2.add_two.lzout.out),\n",
    "                (\"out_p\", wf2.power.lzout.out)\n",
    "               ])\n",
    "\n",
    "with pydra.Submitter(plugin=\"cf\") as sub:\n",
    "    sub(wf2)\n",
    "\n",
    "wf2.result()"
   ]
  },
  {
   "cell_type": "markdown",
   "id": "83980298",
   "metadata": {},
   "source": [
    "In this example we had two tasks, that took inputs from the workflow input and pass the outputs to the workflow output:"
   ]
  },
  {
   "cell_type": "markdown",
   "id": "e5587cfd",
   "metadata": {},
   "source": [
    "![wf_2.png](../figures/wf_2.png)"
   ]
  },
  {
   "cell_type": "markdown",
   "id": "62e62b22",
   "metadata": {},
   "source": [
    "## Connecting tasks\n",
    "\n",
    "The previous example showed a workflow with two nodes, but they were not connected with each other.\n",
    "\n",
    "If we want to connect the tasks with each other, we have to set the input of the second task to the output of the first task, and we use again the `Lazy Output` concept:"
   ]
  },
  {
   "cell_type": "code",
   "execution_count": 9,
   "id": "b271ea2d",
   "metadata": {},
   "outputs": [
    {
     "data": {
      "text/plain": [
       "Result(output=Output(out_s=5, out_p=25), runtime=None, errored=False)"
      ]
     },
     "execution_count": 9,
     "metadata": {},
     "output_type": "execute_result"
    }
   ],
   "source": [
    "wf3 = pydra.Workflow(name=\"wf3\", input_spec=[\"x\"], x=3)\n",
    "wf3.add(add_two(name=\"sum\", x=wf3.lzin.x))\n",
    "# by setting a=wf3.sum.lzout.out we create a connection\n",
    "wf3.add(power(name=\"power\", a=wf3.sum.lzout.out))\n",
    "\n",
    "wf3.set_output([(\"out_s\", wf3.sum.lzout.out),\n",
    "                (\"out_p\", wf3.power.lzout.out)\n",
    "               ])\n",
    "\n",
    "with pydra.Submitter(plugin=\"cf\") as sub:\n",
    "    sub(wf3)\n",
    "\n",
    "wf3.result()"
   ]
  },
  {
   "cell_type": "markdown",
   "id": "08fda63e",
   "metadata": {},
   "source": [
    "Now, we could see that the second task took an input from the first one:"
   ]
  },
  {
   "cell_type": "code",
   "execution_count": 10,
   "id": "31024114",
   "metadata": {},
   "outputs": [
    {
     "data": {
      "text/plain": [
       "LF('sum', 'out')"
      ]
     },
     "execution_count": 10,
     "metadata": {},
     "output_type": "execute_result"
    }
   ],
   "source": [
    "wf3.power.inputs.a"
   ]
  },
  {
   "cell_type": "markdown",
   "id": "b78b15f3",
   "metadata": {},
   "source": [
    "So this time the workflow graph will look like this:"
   ]
  },
  {
   "cell_type": "markdown",
   "id": "6154adcd",
   "metadata": {},
   "source": [
    "![wf_3.png](../figures/wf_3.png)"
   ]
  },
  {
   "cell_type": "markdown",
   "id": "ab815074",
   "metadata": {},
   "source": [
    "The node can be connected to multiple nodes, we can modify `wf` to add additional node that uses `mult_var` to multiple the outputs of two previous tasks:"
   ]
  },
  {
   "cell_type": "code",
   "execution_count": 11,
   "id": "61eaa85f",
   "metadata": {},
   "outputs": [
    {
     "data": {
      "text/plain": [
       "Result(output=Output(out=45), runtime=None, errored=False)"
      ]
     },
     "execution_count": 11,
     "metadata": {},
     "output_type": "execute_result"
    }
   ],
   "source": [
    "wf4 = pydra.Workflow(name=\"wf4\", input_spec=[\"x\"], x=3)\n",
    "wf4.add(add_two(name=\"add_two\", x=wf4.lzin.x))\n",
    "wf4.add(power(name=\"power\", a=wf4.lzin.x))\n",
    "wf4.add(mult_var(name=\"mult\", a=wf4.add_two.lzout.out, b=wf4.power.lzout.out))\n",
    "\n",
    "wf4.set_output([(\"out\", wf4.mult.lzout.out)])\n",
    "\n",
    "with pydra.Submitter(plugin=\"cf\") as sub:\n",
    "    sub(wf4)\n",
    "\n",
    "wf4.result()"
   ]
  },
  {
   "cell_type": "markdown",
   "id": "82c05682",
   "metadata": {},
   "source": [
    "This time the graph should look like this:"
   ]
  },
  {
   "cell_type": "markdown",
   "id": "fb204f79",
   "metadata": {},
   "source": [
    "![wf_4.png](../figures/wf_4.png)"
   ]
  },
  {
   "cell_type": "markdown",
   "id": "5062623c",
   "metadata": {},
   "source": [
    "## Workflow as a node\n",
    "\n",
    "Previously we had workflows that had `Task`s as nodes, but *pydra* treats `Workflow` as any other `Task`, so the workflow could be used as a node.\n",
    "\n",
    "Let's modify the previous workflow, and instead of `sum` and `power` tasks we use `wf2` as the first node:"
   ]
  },
  {
   "cell_type": "code",
   "execution_count": 12,
   "id": "d998c62f",
   "metadata": {},
   "outputs": [
    {
     "data": {
      "text/plain": [
       "Result(output=Output(out=45), runtime=None, errored=False)"
      ]
     },
     "execution_count": 12,
     "metadata": {},
     "output_type": "execute_result"
    }
   ],
   "source": [
    "wf2a = pydra.Workflow(name=\"wf2a\", input_spec=[\"x\"])\n",
    "wf2a.add(add_two(name=\"add_two\", x=wf2a.lzin.x))\n",
    "wf2a.add(power(name=\"power\", a=wf2a.lzin.x))\n",
    "\n",
    "wf2a.set_output([(\"out_s\", wf2a.add_two.lzout.out),\n",
    "                (\"out_p\", wf2a.power.lzout.out)\n",
    "               ])\n",
    "\n",
    "\n",
    "wf5 = pydra.Workflow(name=\"wf5\", input_spec=[\"x\"], x=3)\n",
    "wf5.add(wf2a)\n",
    "# connecting wfa to the input from the main workflow\n",
    "wf2a.inputs.x = wf5.lzin.x\n",
    "wf5.add(mult_var(name=\"mult\", a=wf5.wf2a.lzout.out_s, b=wf5.wf2a.lzout.out_p))\n",
    "\n",
    "wf5.set_output([(\"out\", wf5.mult.lzout.out)])\n",
    "\n",
    "with pydra.Submitter(plugin=\"cf\") as sub:\n",
    "    sub(wf5)\n",
    "\n",
    "wf5.result()"
   ]
  },
  {
   "cell_type": "markdown",
   "id": "754a5e45",
   "metadata": {},
   "source": [
    "We should get exactly the same result as previously, but this time we run `wf2a` inside our main workflow:"
   ]
  },
  {
   "cell_type": "markdown",
   "id": "d8660647",
   "metadata": {},
   "source": [
    "![wf_5.png](../figures/wf_5.png)"
   ]
  },
  {
   "cell_type": "markdown",
   "id": "fb9a3666",
   "metadata": {},
   "source": [
    "## Workflow with a splitter\n",
    "\n",
    "Workflow as any other task could also have a splitter. Let's take one of our previous workflows and add a splitter for the workflow input by setting `splitter` using the `split` method."
   ]
  },
  {
   "cell_type": "code",
   "execution_count": 13,
   "id": "4d2f7fc2",
   "metadata": {},
   "outputs": [
    {
     "data": {
      "text/plain": [
       "[Result(output=Output(wf_out=45), runtime=None, errored=False),\n",
       " Result(output=Output(wf_out=175), runtime=None, errored=False)]"
      ]
     },
     "execution_count": 13,
     "metadata": {},
     "output_type": "execute_result"
    }
   ],
   "source": [
    "wf6 = pydra.Workflow(name=\"wf6\", input_spec=[\"x\"])\n",
    "# setting a plitter for the entire workflow\n",
    "wf6.split(\"x\", x=[3, 5])\n",
    "wf6.add(add_two(name=\"add_two\", x=wf6.lzin.x))\n",
    "wf6.add(power(name=\"power\", a=wf6.lzin.x))\n",
    "wf6.add(mult_var(name=\"mult\", a=wf6.add_two.lzout.out, b=wf6.power.lzout.out))\n",
    "\n",
    "wf6.set_output([(\"wf_out\", wf6.mult.lzout.out)])\n",
    "\n",
    "with pydra.Submitter(plugin=\"cf\") as sub:\n",
    "    sub(wf6)\n",
    "\n",
    "wf6.result()"
   ]
  },
  {
   "cell_type": "markdown",
   "id": "f10ec954",
   "metadata": {},
   "source": [
    "As we could expect, we received a list with two `Result`s, one is for `wf.x=3`, and the other is for `wf.x=5`. \n",
    "\n",
    "Behind the scene *pydra* expanded two workflows for two values of the workflow input:"
   ]
  },
  {
   "cell_type": "markdown",
   "id": "3bb07927",
   "metadata": {},
   "source": [
    "![wf_6.png](../figures/wf_6.png)"
   ]
  },
  {
   "cell_type": "markdown",
   "id": "708fa8b8",
   "metadata": {},
   "source": [
    "Let's create a new workflow that has two inputs and more complicated splitter."
   ]
  },
  {
   "cell_type": "code",
   "execution_count": 14,
   "id": "fcef345f",
   "metadata": {},
   "outputs": [
    {
     "data": {
      "text/plain": [
       "[Result(output=Output(out=20), runtime=None, errored=False),\n",
       " Result(output=Output(out=45), runtime=None, errored=False),\n",
       " Result(output=Output(out=28), runtime=None, errored=False),\n",
       " Result(output=Output(out=63), runtime=None, errored=False)]"
      ]
     },
     "execution_count": 14,
     "metadata": {},
     "output_type": "execute_result"
    }
   ],
   "source": [
    "wf7 = pydra.Workflow(name=\"wf7\", input_spec=[\"x\", \"y\"])\n",
    "wf7.split([\"x\", \"y\"], x=[3, 5], y=[2, 3])\n",
    "wf7.add(add_two(name=\"sum\", x=wf7.lzin.x))\n",
    "wf7.add(power(name=\"power\", a=wf7.lzin.y))\n",
    "wf7.add(mult_var(name=\"mult\", a=wf7.sum.lzout.out, b=wf7.power.lzout.out))\n",
    "\n",
    "wf7.set_output([(\"out\", wf7.mult.lzout.out)])\n",
    "\n",
    "with pydra.Submitter(plugin=\"cf\") as sub:\n",
    "    sub(wf7)\n",
    "\n",
    "wf7.result()"
   ]
  },
  {
   "cell_type": "markdown",
   "id": "340effb4",
   "metadata": {},
   "source": [
    "We should have four results for four sets of inputs, and the graph should look like this:"
   ]
  },
  {
   "cell_type": "markdown",
   "id": "45e4323d",
   "metadata": {},
   "source": [
    "![wf_7.png](../figures/wf_7.png)"
   ]
  },
  {
   "cell_type": "markdown",
   "id": "f964a6b1",
   "metadata": {},
   "source": [
    "## Adding a combiner\n",
    "\n",
    "In the same way as we did for `Task`, we can add a `combiner` to the entire workflow:"
   ]
  },
  {
   "cell_type": "code",
   "execution_count": 15,
   "id": "2c898485",
   "metadata": {},
   "outputs": [
    {
     "data": {
      "text/plain": [
       "[[Result(output=Output(out=20), runtime=None, errored=False),\n",
       "  Result(output=Output(out=28), runtime=None, errored=False)],\n",
       " [Result(output=Output(out=45), runtime=None, errored=False),\n",
       "  Result(output=Output(out=63), runtime=None, errored=False)]]"
      ]
     },
     "execution_count": 15,
     "metadata": {},
     "output_type": "execute_result"
    }
   ],
   "source": [
    "wf7.combine(\"x\")\n",
    "\n",
    "with pydra.Submitter(plugin=\"cf\") as sub:\n",
    "    sub(wf7)\n",
    "\n",
    "wf7.result()"
   ]
  },
  {
   "cell_type": "markdown",
   "id": "50863bcc",
   "metadata": {},
   "source": [
    "Now we should have two lists in the results, one for `y=2` and one for `y=3`:"
   ]
  },
  {
   "cell_type": "markdown",
   "id": "2edd71b1",
   "metadata": {},
   "source": [
    "![wf_8.png](../figures/wf_8.png)"
   ]
  },
  {
   "cell_type": "markdown",
   "id": "d221c934",
   "metadata": {},
   "source": [
    "## Setting a splitter for nodes\n",
    "\n",
    "We presented how to set a `splitter` and a `combiner` for entire workflow, but we could also set a `splitter` and a `combiner` on the level of a single node.\n",
    "\n",
    "Let's create a workflow that takes a list as an input, and pass this input to two nodes. One node can take entire list as its input and the second node splits the input:"
   ]
  },
  {
   "cell_type": "code",
   "execution_count": 16,
   "id": "f079b79e",
   "metadata": {},
   "outputs": [
    {
     "data": {
      "text/plain": [
       "Result(output=Output(out_m=5.0, out_p=[9, 25, 49]), runtime=None, errored=False)"
      ]
     },
     "execution_count": 16,
     "metadata": {},
     "output_type": "execute_result"
    }
   ],
   "source": [
    "@pydra.mark.task\n",
    "def mean(x_list):\n",
    "    return sum(x_list)/len(x_list)\n",
    "\n",
    "wf8 = pydra.Workflow(name=\"wf8\", input_spec=[\"x\"], x=[3, 5, 7])\n",
    "wf8.add(mean(name=\"mean\", x_list=wf8.lzin.x))\n",
    "# adding a task that has its own splitter\n",
    "wf8.add(power(name=\"power\", a=wf8.lzin.x).split(\"a\"))\n",
    "\n",
    "wf8.set_output([(\"out_m\", wf8.mean.lzout.out),\n",
    "                (\"out_p\", wf8.power.lzout.out)])\n",
    "\n",
    "with pydra.Submitter(plugin=\"cf\") as sub:\n",
    "    sub(wf8)\n",
    "\n",
    "wf8.result()"
   ]
  },
  {
   "cell_type": "markdown",
   "id": "3edebd2b",
   "metadata": {},
   "source": [
    "This time we have in the workflow output a single value from the `mean` task and three values from the `power` task. The graph should look like this:"
   ]
  },
  {
   "cell_type": "markdown",
   "id": "e17736d1",
   "metadata": {},
   "source": [
    "![wf_9.png](../figures/wf_9.png)"
   ]
  }
 ],
 "metadata": {
  "jupytext": {
   "formats": "ipynb,md:myst",
   "text_representation": {
    "extension": ".md",
    "format_name": "myst",
    "format_version": 0.13,
    "jupytext_version": "1.13.8"
   }
  },
  "kernelspec": {
   "display_name": "Python 3",
   "language": "python",
   "name": "python3"
  },
  "language_info": {
   "codemirror_mode": {
    "name": "ipython",
    "version": 3
   },
   "file_extension": ".py",
   "mimetype": "text/x-python",
   "name": "python",
   "nbconvert_exporter": "python",
   "pygments_lexer": "ipython3",
   "version": "3.7.13"
  },
  "source_map": [
   13,
   18,
   31,
   47,
   55,
   57,
   61,
   63,
   67,
   69,
   73,
   75,
   79,
   83,
   88,
   94,
   98,
   102,
   116,
   120,
   124,
   132,
   146,
   150,
   152,
   156,
   160,
   164,
   176,
   180,
   184,
   192,
   214,
   218,
   222,
   228,
   242,
   248,
   252,
   256,
   269,
   273,
   277,
   283,
   290,
   294,
   298,
   306,
   323,
   327
  ]
 },
 "nbformat": 4,
 "nbformat_minor": 5
}