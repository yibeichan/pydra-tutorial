{
 "cells": [
  {
   "cell_type": "markdown",
   "id": "d374b18a",
   "metadata": {},
   "source": [
    "# 2. FunctionTask"
   ]
  },
  {
   "cell_type": "code",
   "execution_count": 1,
   "id": "0d67e45a",
   "metadata": {
    "jupyter": {
     "outputs_hidden": false
    },
    "pycharm": {
     "name": "#%%\n"
    }
   },
   "outputs": [],
   "source": [
    "import nest_asyncio\n",
    "nest_asyncio.apply()"
   ]
  },
  {
   "cell_type": "markdown",
   "id": "e2d8b7e9",
   "metadata": {},
   "source": [
    "A `FunctionTask` is a `Task` that can be created from every *python* function by using *pydra* decorator: `pydra.mark.task`:"
   ]
  },
  {
   "cell_type": "code",
   "execution_count": 2,
   "id": "d0a1d657",
   "metadata": {},
   "outputs": [],
   "source": [
    "import pydra\n",
    "\n",
    "@pydra.mark.task\n",
    "def add_var(a, b):\n",
    "    return a + b"
   ]
  },
  {
   "cell_type": "markdown",
   "id": "4883d48b",
   "metadata": {},
   "source": [
    "Once we decorate the function, we can create a pydra `Task` and specify the input:"
   ]
  },
  {
   "cell_type": "code",
   "execution_count": 3,
   "id": "eebb1e16",
   "metadata": {},
   "outputs": [],
   "source": [
    "task1 = add_var(a=4, b=5)"
   ]
  },
  {
   "cell_type": "markdown",
   "id": "797dde59",
   "metadata": {},
   "source": [
    "We can check the type of `task1`:"
   ]
  },
  {
   "cell_type": "code",
   "execution_count": 4,
   "id": "738d5011",
   "metadata": {},
   "outputs": [
    {
     "data": {
      "text/plain": [
       "pydra.engine.task.FunctionTask"
      ]
     },
     "execution_count": 4,
     "metadata": {},
     "output_type": "execute_result"
    }
   ],
   "source": [
    "type(task1)"
   ]
  },
  {
   "cell_type": "markdown",
   "id": "eac3afb1",
   "metadata": {},
   "source": [
    "and we can check if the task has correct values of `a` and `b`, they should be saved in the task `inputs`:"
   ]
  },
  {
   "cell_type": "code",
   "execution_count": 5,
   "id": "9fef6a27",
   "metadata": {},
   "outputs": [
    {
     "name": "stdout",
     "output_type": "stream",
     "text": [
      "a = 4\n",
      "b = 5\n"
     ]
    }
   ],
   "source": [
    "print(f\"a = {task1.inputs.a}\")\n",
    "print(f\"b = {task1.inputs.b}\")"
   ]
  },
  {
   "cell_type": "markdown",
   "id": "e348f841",
   "metadata": {},
   "source": [
    "We can also check content of entire `inputs`:"
   ]
  },
  {
   "cell_type": "code",
   "execution_count": 6,
   "id": "c2e9ecf7",
   "metadata": {},
   "outputs": [
    {
     "data": {
      "text/plain": [
       "Inputs(a=4, b=5, _func=b'\\x80\\x05\\x95\\xc6\\x01\\x00\\x00\\x00\\x00\\x00\\x00\\x8c\\x17cloudpickle.cloudpickle\\x94\\x8c\\x0e_make_function\\x94\\x93\\x94(h\\x00\\x8c\\r_builtin_type\\x94\\x93\\x94\\x8c\\x08CodeType\\x94\\x85\\x94R\\x94(K\\x02K\\x00K\\x00K\\x02K\\x02KCC\\x08|\\x00|\\x01\\x17\\x00S\\x00\\x94N\\x85\\x94)\\x8c\\x01a\\x94\\x8c\\x01b\\x94\\x86\\x94\\x8c!/tmp/ipykernel_1797/3542708107.py\\x94\\x8c\\x07add_var\\x94K\\x03C\\x02\\x00\\x02\\x94))t\\x94R\\x94}\\x94(\\x8c\\x0b__package__\\x94N\\x8c\\x08__name__\\x94\\x8c\\x08__main__\\x94uNNNt\\x94R\\x94\\x8c\\x1ccloudpickle.cloudpickle_fast\\x94\\x8c\\x12_function_setstate\\x94\\x93\\x94h\\x17}\\x94}\\x94(h\\x14h\\x0e\\x8c\\x0c__qualname__\\x94h\\x0e\\x8c\\x0f__annotations__\\x94}\\x94\\x8c\\x0e__kwdefaults__\\x94N\\x8c\\x0c__defaults__\\x94N\\x8c\\n__module__\\x94h\\x15\\x8c\\x07__doc__\\x94N\\x8c\\x0b__closure__\\x94N\\x8c\\x17_cloudpickle_submodules\\x94]\\x94\\x8c\\x0b__globals__\\x94}\\x94u\\x86\\x94\\x86R0.')"
      ]
     },
     "execution_count": 6,
     "metadata": {},
     "output_type": "execute_result"
    }
   ],
   "source": [
    "task1.inputs"
   ]
  },
  {
   "cell_type": "markdown",
   "id": "5f06e683",
   "metadata": {},
   "source": [
    "As you could see, `task.inputs` contains also information about the function, that is an inseparable part of the `FunctionTask`.\n",
    "\n",
    "Once we have the task with set input, we can run it. Since `Task` is a \"callable object\", we can use the syntax:"
   ]
  },
  {
   "cell_type": "code",
   "execution_count": 7,
   "id": "4d1c092d",
   "metadata": {},
   "outputs": [
    {
     "data": {
      "text/plain": [
       "Result(output=Output(out=9), runtime=None, errored=False)"
      ]
     },
     "execution_count": 7,
     "metadata": {},
     "output_type": "execute_result"
    }
   ],
   "source": [
    "task1()"
   ]
  },
  {
   "cell_type": "markdown",
   "id": "7c9e3b81",
   "metadata": {},
   "source": [
    "As you can see, the result was returned right away, but we can also access it later:"
   ]
  },
  {
   "cell_type": "code",
   "execution_count": 8,
   "id": "aff98fdd",
   "metadata": {},
   "outputs": [
    {
     "data": {
      "text/plain": [
       "Result(output=Output(out=9), runtime=None, errored=False)"
      ]
     },
     "execution_count": 8,
     "metadata": {},
     "output_type": "execute_result"
    }
   ],
   "source": [
    "task1.result()"
   ]
  },
  {
   "cell_type": "markdown",
   "id": "19ec2071",
   "metadata": {},
   "source": [
    "`Result` contains more than just an output, so if we want to get the task output, we can type:"
   ]
  },
  {
   "cell_type": "code",
   "execution_count": 9,
   "id": "8b9d5dbc",
   "metadata": {},
   "outputs": [
    {
     "data": {
      "text/plain": [
       "9"
      ]
     },
     "execution_count": 9,
     "metadata": {},
     "output_type": "execute_result"
    }
   ],
   "source": [
    "result = task1.result()\n",
    "result.output.out"
   ]
  },
  {
   "cell_type": "markdown",
   "id": "3f4451a0",
   "metadata": {},
   "source": [
    "And if we want to see the input that was used in the task, we can set an optional argument `return_inputs` to True."
   ]
  },
  {
   "cell_type": "code",
   "execution_count": 10,
   "id": "c501bcb9",
   "metadata": {},
   "outputs": [
    {
     "data": {
      "text/plain": [
       "({'add_var.a': 4, 'add_var.b': 5},\n",
       " Result(output=Output(out=9), runtime=None, errored=False))"
      ]
     },
     "execution_count": 10,
     "metadata": {},
     "output_type": "execute_result"
    }
   ],
   "source": [
    "task1.result(return_inputs=True)"
   ]
  },
  {
   "cell_type": "markdown",
   "id": "67691099",
   "metadata": {},
   "source": [
    "## Customizing output names\n",
    "Note, that \"out\" is the default name for the task output, but we can always customize it. There are two ways of doing it: using *python* function annotation and using another *pydra* decorator:\n",
    "\n",
    "Let's start from the function annotation:"
   ]
  },
  {
   "cell_type": "code",
   "execution_count": 11,
   "id": "e1b305b0",
   "metadata": {},
   "outputs": [
    {
     "data": {
      "text/plain": [
       "Result(output=Output(sum_a_b=9), runtime=None, errored=False)"
      ]
     },
     "execution_count": 11,
     "metadata": {},
     "output_type": "execute_result"
    }
   ],
   "source": [
    "import typing as ty\n",
    "\n",
    "@pydra.mark.task\n",
    "def add_var_an(a, b) -> {\"sum_a_b\": int}:\n",
    "    return a + b\n",
    "\n",
    "\n",
    "task1a = add_var_an(a=4, b=5)\n",
    "task1a()"
   ]
  },
  {
   "cell_type": "markdown",
   "id": "33f76b6b",
   "metadata": {},
   "source": [
    "The annotation might be very useful to specify the output names when the function returns multiple values."
   ]
  },
  {
   "cell_type": "code",
   "execution_count": 12,
   "id": "5fcde896",
   "metadata": {},
   "outputs": [
    {
     "data": {
      "text/plain": [
       "Result(output=Output(fractional=0.5, integer=3.0), runtime=None, errored=False)"
      ]
     },
     "execution_count": 12,
     "metadata": {},
     "output_type": "execute_result"
    }
   ],
   "source": [
    "@pydra.mark.task\n",
    "def modf_an(a) -> {\"fractional\": ty.Any, \"integer\": ty.Any}:\n",
    "    import math\n",
    "    return math.modf(a)\n",
    "\n",
    "task2 = modf_an(a=3.5)\n",
    "task2()"
   ]
  },
  {
   "cell_type": "markdown",
   "id": "6381a3d1",
   "metadata": {},
   "source": [
    "The second way of customizing the output requires another decorator - `pydra.mark.annotate`"
   ]
  },
  {
   "cell_type": "code",
   "execution_count": 13,
   "id": "67cd8b6b",
   "metadata": {},
   "outputs": [
    {
     "data": {
      "text/plain": [
       "Result(output=Output(fractional=0.5, integer=3.0), runtime=None, errored=False)"
      ]
     },
     "execution_count": 13,
     "metadata": {},
     "output_type": "execute_result"
    }
   ],
   "source": [
    "@pydra.mark.task\n",
    "@pydra.mark.annotate({\"return\": {\"fractional\": ty.Any, \"integer\": ty.Any}})\n",
    "def modf(a):\n",
    "    import math\n",
    "    return math.modf(a)\n",
    "\n",
    "task2a = modf(a=3.5)\n",
    "task2a()"
   ]
  },
  {
   "cell_type": "markdown",
   "id": "847f30c3",
   "metadata": {},
   "source": [
    "**Note, that the order of the pydra decorators is important!**"
   ]
  },
  {
   "cell_type": "markdown",
   "id": "9b606602",
   "metadata": {},
   "source": [
    "## Setting the input\n",
    "\n",
    "We don't have to provide the input when we create a task, we can always set it later:"
   ]
  },
  {
   "cell_type": "code",
   "execution_count": 14,
   "id": "57c16ba4",
   "metadata": {},
   "outputs": [
    {
     "data": {
      "text/plain": [
       "Result(output=Output(out=9), runtime=None, errored=False)"
      ]
     },
     "execution_count": 14,
     "metadata": {},
     "output_type": "execute_result"
    }
   ],
   "source": [
    "task3 = add_var()\n",
    "task3.inputs.a = 4\n",
    "task3.inputs.b = 5\n",
    "task3()"
   ]
  },
  {
   "cell_type": "markdown",
   "id": "e31220a9",
   "metadata": {},
   "source": [
    "If we don't specify the input, `attr.NOTHING` will be used as the default value"
   ]
  },
  {
   "cell_type": "code",
   "execution_count": 15,
   "id": "354f612c",
   "metadata": {},
   "outputs": [
    {
     "data": {
      "text/plain": [
       "True"
      ]
     },
     "execution_count": 15,
     "metadata": {},
     "output_type": "execute_result"
    }
   ],
   "source": [
    "task3a = add_var()\n",
    "task3a.inputs.a = 4\n",
    "\n",
    "# importing attr library, and checking the type pf `b`\n",
    "import attr\n",
    "task3a.inputs.b == attr.NOTHING"
   ]
  },
  {
   "cell_type": "markdown",
   "id": "6eb7f8bb",
   "metadata": {},
   "source": [
    "And if we try to run the task, an error will be raised:"
   ]
  },
  {
   "cell_type": "code",
   "execution_count": 16,
   "id": "620b1632",
   "metadata": {
    "tags": [
     "raises-exception"
    ]
   },
   "outputs": [
    {
     "ename": "TypeError",
     "evalue": "unsupported operand type(s) for +: 'int' and '_Nothing'",
     "output_type": "error",
     "traceback": [
      "\u001b[0;31m---------------------------------------------------------------------------\u001b[0m",
      "\u001b[0;31mTypeError\u001b[0m                                 Traceback (most recent call last)",
      "Input \u001b[0;32mIn [16]\u001b[0m, in \u001b[0;36m<cell line: 1>\u001b[0;34m()\u001b[0m\n\u001b[0;32m----> 1\u001b[0m \u001b[43mtask3a\u001b[49m\u001b[43m(\u001b[49m\u001b[43m)\u001b[49m\n",
      "File \u001b[0;32m/opt/hostedtoolcache/Python/3.9.13/x64/lib/python3.9/site-packages/pydra/engine/core.py:452\u001b[0m, in \u001b[0;36mTaskBase.__call__\u001b[0;34m(self, submitter, plugin, plugin_kwargs, rerun, **kwargs)\u001b[0m\n\u001b[1;32m    450\u001b[0m         res \u001b[38;5;241m=\u001b[39m sub(\u001b[38;5;28mself\u001b[39m)\n\u001b[1;32m    451\u001b[0m \u001b[38;5;28;01melse\u001b[39;00m:  \u001b[38;5;66;03m# tasks without state could be run without a submitter\u001b[39;00m\n\u001b[0;32m--> 452\u001b[0m     res \u001b[38;5;241m=\u001b[39m \u001b[38;5;28;43mself\u001b[39;49m\u001b[38;5;241;43m.\u001b[39;49m\u001b[43m_run\u001b[49m\u001b[43m(\u001b[49m\u001b[43mrerun\u001b[49m\u001b[38;5;241;43m=\u001b[39;49m\u001b[43mrerun\u001b[49m\u001b[43m,\u001b[49m\u001b[43m \u001b[49m\u001b[38;5;241;43m*\u001b[39;49m\u001b[38;5;241;43m*\u001b[39;49m\u001b[43mkwargs\u001b[49m\u001b[43m)\u001b[49m\n\u001b[1;32m    453\u001b[0m \u001b[38;5;28;01mreturn\u001b[39;00m res\n",
      "File \u001b[0;32m/opt/hostedtoolcache/Python/3.9.13/x64/lib/python3.9/site-packages/pydra/engine/core.py:489\u001b[0m, in \u001b[0;36mTaskBase._run\u001b[0;34m(self, rerun, **kwargs)\u001b[0m\n\u001b[1;32m    487\u001b[0m \u001b[38;5;28;01mtry\u001b[39;00m:\n\u001b[1;32m    488\u001b[0m     \u001b[38;5;28mself\u001b[39m\u001b[38;5;241m.\u001b[39maudit\u001b[38;5;241m.\u001b[39mmonitor()\n\u001b[0;32m--> 489\u001b[0m     \u001b[38;5;28;43mself\u001b[39;49m\u001b[38;5;241;43m.\u001b[39;49m\u001b[43m_run_task\u001b[49m\u001b[43m(\u001b[49m\u001b[43m)\u001b[49m\n\u001b[1;32m    490\u001b[0m     result\u001b[38;5;241m.\u001b[39moutput \u001b[38;5;241m=\u001b[39m \u001b[38;5;28mself\u001b[39m\u001b[38;5;241m.\u001b[39m_collect_outputs(output_dir\u001b[38;5;241m=\u001b[39modir)\n\u001b[1;32m    491\u001b[0m \u001b[38;5;28;01mexcept\u001b[39;00m \u001b[38;5;167;01mException\u001b[39;00m:\n",
      "File \u001b[0;32m/opt/hostedtoolcache/Python/3.9.13/x64/lib/python3.9/site-packages/pydra/engine/task.py:187\u001b[0m, in \u001b[0;36mFunctionTask._run_task\u001b[0;34m(self)\u001b[0m\n\u001b[1;32m    185\u001b[0m \u001b[38;5;28;01mdel\u001b[39;00m inputs[\u001b[38;5;124m\"\u001b[39m\u001b[38;5;124m_func\u001b[39m\u001b[38;5;124m\"\u001b[39m]\n\u001b[1;32m    186\u001b[0m \u001b[38;5;28mself\u001b[39m\u001b[38;5;241m.\u001b[39moutput_ \u001b[38;5;241m=\u001b[39m \u001b[38;5;28;01mNone\u001b[39;00m\n\u001b[0;32m--> 187\u001b[0m output \u001b[38;5;241m=\u001b[39m \u001b[43mcp\u001b[49m\u001b[38;5;241;43m.\u001b[39;49m\u001b[43mloads\u001b[49m\u001b[43m(\u001b[49m\u001b[38;5;28;43mself\u001b[39;49m\u001b[38;5;241;43m.\u001b[39;49m\u001b[43minputs\u001b[49m\u001b[38;5;241;43m.\u001b[39;49m\u001b[43m_func\u001b[49m\u001b[43m)\u001b[49m\u001b[43m(\u001b[49m\u001b[38;5;241;43m*\u001b[39;49m\u001b[38;5;241;43m*\u001b[39;49m\u001b[43minputs\u001b[49m\u001b[43m)\u001b[49m\n\u001b[1;32m    188\u001b[0m output_names \u001b[38;5;241m=\u001b[39m [el[\u001b[38;5;241m0\u001b[39m] \u001b[38;5;28;01mfor\u001b[39;00m el \u001b[38;5;129;01min\u001b[39;00m \u001b[38;5;28mself\u001b[39m\u001b[38;5;241m.\u001b[39moutput_spec\u001b[38;5;241m.\u001b[39mfields]\n\u001b[1;32m    189\u001b[0m \u001b[38;5;28;01mif\u001b[39;00m output \u001b[38;5;129;01mis\u001b[39;00m \u001b[38;5;28;01mNone\u001b[39;00m:\n",
      "Input \u001b[0;32mIn [2]\u001b[0m, in \u001b[0;36madd_var\u001b[0;34m(a, b)\u001b[0m\n\u001b[1;32m      3\u001b[0m \u001b[38;5;129m@pydra\u001b[39m\u001b[38;5;241m.\u001b[39mmark\u001b[38;5;241m.\u001b[39mtask\n\u001b[1;32m      4\u001b[0m \u001b[38;5;28;01mdef\u001b[39;00m \u001b[38;5;21madd_var\u001b[39m(a, b):\n\u001b[0;32m----> 5\u001b[0m     \u001b[38;5;28;01mreturn\u001b[39;00m \u001b[43ma\u001b[49m\u001b[43m \u001b[49m\u001b[38;5;241;43m+\u001b[39;49m\u001b[43m \u001b[49m\u001b[43mb\u001b[49m\n",
      "\u001b[0;31mTypeError\u001b[0m: unsupported operand type(s) for +: 'int' and '_Nothing'"
     ]
    }
   ],
   "source": [
    "task3a()"
   ]
  },
  {
   "cell_type": "markdown",
   "id": "8597fb7f",
   "metadata": {},
   "source": [
    "## Output directory and caching the results\n",
    "\n",
    "After running the task, we can check where the output directory with the results was created:"
   ]
  },
  {
   "cell_type": "code",
   "execution_count": 17,
   "id": "ff396715",
   "metadata": {},
   "outputs": [
    {
     "data": {
      "text/plain": [
       "PosixPath('/tmp/tmplzaqoq_q/FunctionTask_b2d41cf62977bac376f00bbb8d160c1f5086e8e19c25f0dff9daabf6daaa329e')"
      ]
     },
     "execution_count": 17,
     "metadata": {},
     "output_type": "execute_result"
    }
   ],
   "source": [
    "task3.output_dir"
   ]
  },
  {
   "cell_type": "markdown",
   "id": "be3484ba",
   "metadata": {},
   "source": [
    "Within the directory you can find the file with the results: `_result.pklz`."
   ]
  },
  {
   "cell_type": "code",
   "execution_count": 18,
   "id": "77ec850e",
   "metadata": {},
   "outputs": [
    {
     "data": {
      "text/plain": [
       "['_task.pklz', '_result.pklz']"
      ]
     },
     "execution_count": 18,
     "metadata": {},
     "output_type": "execute_result"
    }
   ],
   "source": [
    "import os\n",
    "os.listdir(task3.output_dir)"
   ]
  },
  {
   "cell_type": "markdown",
   "id": "2d5d6d91",
   "metadata": {},
   "source": [
    "But we can also provide the path where we want to store the results. If a path is provided for the cache directory, then pydra will use the cached results of a node instead of recomputing the result. Let's create a temporary directory and a specific subdirectory \"task4\":"
   ]
  },
  {
   "cell_type": "code",
   "execution_count": 19,
   "id": "ccaa87cb",
   "metadata": {},
   "outputs": [
    {
     "name": "stdout",
     "output_type": "stream",
     "text": [
      "/tmp/tmpe9kf81al/task4\n"
     ]
    }
   ],
   "source": [
    "from tempfile import mkdtemp\n",
    "from pathlib import Path\n",
    "cache_dir_tmp = Path(mkdtemp()) / \"task4\"\n",
    "print(cache_dir_tmp)"
   ]
  },
  {
   "cell_type": "markdown",
   "id": "f1766c65",
   "metadata": {},
   "source": [
    "Now we can pass this path to the argument of `FunctionTask` - `cache_dir`. To observe the execution time, we specify a function that is sleeping for 5s:"
   ]
  },
  {
   "cell_type": "code",
   "execution_count": 20,
   "id": "5e47998c",
   "metadata": {},
   "outputs": [],
   "source": [
    "@pydra.mark.task\n",
    "def add_var_wait(a, b):\n",
    "    import time\n",
    "    time.sleep(5)\n",
    "    return a + b\n",
    "\n",
    "task4 = add_var_wait(a=4, b=6, cache_dir=cache_dir_tmp)"
   ]
  },
  {
   "cell_type": "markdown",
   "id": "cd2af783",
   "metadata": {},
   "source": [
    "If you're running the cell first time, it should take around 5s."
   ]
  },
  {
   "cell_type": "code",
   "execution_count": 21,
   "id": "a09ab6f8",
   "metadata": {},
   "outputs": [
    {
     "data": {
      "text/plain": [
       "Result(output=Output(out=10), runtime=None, errored=False)"
      ]
     },
     "execution_count": 21,
     "metadata": {},
     "output_type": "execute_result"
    }
   ],
   "source": [
    "task4()\n",
    "task4.result()"
   ]
  },
  {
   "cell_type": "markdown",
   "id": "654ff8ca",
   "metadata": {},
   "source": [
    "We can check `output_dir` of our task, it should contain the path of `cache_dir_tmp` and the last part contains the name of the task class `FunctionTask` and the task checksum:"
   ]
  },
  {
   "cell_type": "code",
   "execution_count": 22,
   "id": "96ba5855",
   "metadata": {},
   "outputs": [
    {
     "data": {
      "text/plain": [
       "PosixPath('/tmp/tmpe9kf81al/task4/FunctionTask_2bf5218d9acc51cb8cd36e57d1164663265245f564416cc18d01693c3890aeb5')"
      ]
     },
     "execution_count": 22,
     "metadata": {},
     "output_type": "execute_result"
    }
   ],
   "source": [
    "task4.output_dir"
   ]
  },
  {
   "cell_type": "markdown",
   "id": "5cd60c53",
   "metadata": {},
   "source": [
    "Let's see what happens when we defined identical task again with the same `cache_dir`:"
   ]
  },
  {
   "cell_type": "code",
   "execution_count": 23,
   "id": "b6bcd94c",
   "metadata": {},
   "outputs": [
    {
     "data": {
      "text/plain": [
       "Result(output=Output(out=10), runtime=None, errored=False)"
      ]
     },
     "execution_count": 23,
     "metadata": {},
     "output_type": "execute_result"
    }
   ],
   "source": [
    "task4a = add_var_wait(a=4, b=6, cache_dir=cache_dir_tmp)\n",
    "task4a()"
   ]
  },
  {
   "cell_type": "markdown",
   "id": "9f821de5",
   "metadata": {},
   "source": [
    "This time the result should be ready right away! *pydra* uses available results and do not recompute the task.\n",
    "\n",
    "*pydra* not only checks for the results in `cache_dir`, but you can provide a list of other locations that should be checked. Let's create another directory that will be used as `cache_dir` and previous working directory will be used in `cache_locations`."
   ]
  },
  {
   "cell_type": "code",
   "execution_count": 24,
   "id": "fe8529d8",
   "metadata": {},
   "outputs": [
    {
     "data": {
      "text/plain": [
       "Result(output=Output(out=10), runtime=None, errored=False)"
      ]
     },
     "execution_count": 24,
     "metadata": {},
     "output_type": "execute_result"
    }
   ],
   "source": [
    "cache_dir_tmp_new = Path(mkdtemp()) / \"task4b\"\n",
    "\n",
    "task4b = add_var_wait(a=4, b=6, cache_dir=cache_dir_tmp_new, cache_locations=[cache_dir_tmp])\n",
    "task4b()"
   ]
  },
  {
   "cell_type": "markdown",
   "id": "6510c5ca",
   "metadata": {},
   "source": [
    "This time the results should be also returned quickly! And we can check that `task4b.output_dir` was not created:"
   ]
  },
  {
   "cell_type": "code",
   "execution_count": 25,
   "id": "8faf9af0",
   "metadata": {},
   "outputs": [
    {
     "data": {
      "text/plain": [
       "False"
      ]
     },
     "execution_count": 25,
     "metadata": {},
     "output_type": "execute_result"
    }
   ],
   "source": [
    "task4b.output_dir.exists()"
   ]
  },
  {
   "cell_type": "markdown",
   "id": "00d2bb10",
   "metadata": {},
   "source": [
    "If you want to rerun the task regardless having already the results, you can set `rerun` to `True`. The task will take several seconds and new `output_dir` will be created:"
   ]
  },
  {
   "cell_type": "code",
   "execution_count": 26,
   "id": "a314c848",
   "metadata": {},
   "outputs": [
    {
     "data": {
      "text/plain": [
       "True"
      ]
     },
     "execution_count": 26,
     "metadata": {},
     "output_type": "execute_result"
    }
   ],
   "source": [
    "cache_dir_tmp_new = Path(mkdtemp()) / \"task4c\"\n",
    "\n",
    "task4c = add_var_wait(a=4, b=6, cache_dir=cache_dir_tmp_new, cache_locations=[cache_dir_tmp])\n",
    "task4c(rerun=True)\n",
    "\n",
    "task4c.output_dir.exists()"
   ]
  },
  {
   "cell_type": "markdown",
   "id": "ecac27a2",
   "metadata": {},
   "source": [
    "If we update the input of the task, and run again, the new directory will be created and task will be recomputed:"
   ]
  },
  {
   "cell_type": "code",
   "execution_count": 27,
   "id": "5951bc79",
   "metadata": {},
   "outputs": [
    {
     "name": "stdout",
     "output_type": "stream",
     "text": [
      "Result(output=Output(out=7), runtime=None, errored=False)\n",
      "True\n"
     ]
    }
   ],
   "source": [
    "task4b.inputs.a = 1\n",
    "print(task4b())\n",
    "print(task4b.output_dir.exists())"
   ]
  },
  {
   "cell_type": "markdown",
   "id": "569ee399",
   "metadata": {},
   "source": [
    "and when we check the `output_dir`, we can see that it's different than last time:"
   ]
  },
  {
   "cell_type": "code",
   "execution_count": 28,
   "id": "16d099ce",
   "metadata": {},
   "outputs": [
    {
     "data": {
      "text/plain": [
       "PosixPath('/tmp/tmp_veerqxk/task4b/FunctionTask_8149b1db467674c1e64ba04611b3d673455edd7069dbe228dcc0ac23bf33fd3c')"
      ]
     },
     "execution_count": 28,
     "metadata": {},
     "output_type": "execute_result"
    }
   ],
   "source": [
    "task4b.output_dir"
   ]
  },
  {
   "cell_type": "markdown",
   "id": "9fff44e0",
   "metadata": {},
   "source": [
    "This is because, the checksum changes when we change either input or function."
   ]
  },
  {
   "cell_type": "markdown",
   "id": "3210edc3",
   "metadata": {
    "solution2": "hidden",
    "solution2_first": true
   },
   "source": [
    "### Exercise 1\n",
    "Create a task that take a list of numbers as an input and returns two fields: `mean` with the mean value and `std` with the standard deviation value."
   ]
  },
  {
   "cell_type": "code",
   "execution_count": 29,
   "id": "6ba189bf",
   "metadata": {
    "tags": [
     "hide-cell"
    ]
   },
   "outputs": [
    {
     "data": {
      "text/plain": [
       "Result(output=Output(mean=2, std=0.0), runtime=None, errored=False)"
      ]
     },
     "execution_count": 29,
     "metadata": {},
     "output_type": "execute_result"
    }
   ],
   "source": [
    "@pydra.mark.task\n",
    "@pydra.mark.annotate({\"return\": {\"mean\": ty.Any, \"std\": ty.Any}})\n",
    "def mean_dev(my_list):\n",
    "    import statistics as st\n",
    "    return st.mean(my_list), st.stdev(my_list)\n",
    "\n",
    "my_task = mean_dev(my_list=[2, 2, 2])\n",
    "my_task()\n",
    "my_task.result()"
   ]
  },
  {
   "cell_type": "code",
   "execution_count": 30,
   "id": "de65da5e",
   "metadata": {},
   "outputs": [],
   "source": [
    "# write your solution here (you can use statistics module)"
   ]
  },
  {
   "cell_type": "markdown",
   "id": "5a323d58",
   "metadata": {},
   "source": [
    "## Using Audit\n",
    "\n",
    "*pydra* can record various run time information, including the workflow provenance, by setting `audit_flags` and the type of messengers. \n",
    "\n",
    "`AuditFlag.RESOURCE` allows you to monitor resource usage for the `Task`, while `AuditFlag.PROV` tracks the provenance of the `Task`."
   ]
  },
  {
   "cell_type": "code",
   "execution_count": 31,
   "id": "8dead442",
   "metadata": {},
   "outputs": [
    {
     "data": {
      "text/plain": [
       "Result(output=Output(out=9), runtime=Runtime(rss_peak_gb=0.089168548828125, vms_peak_gb=0.849491119140625, cpu_peak_percent=259.8), errored=False)"
      ]
     },
     "execution_count": 31,
     "metadata": {},
     "output_type": "execute_result"
    }
   ],
   "source": [
    "from pydra.utils.messenger import AuditFlag, PrintMessenger\n",
    "\n",
    "task5 = add_var(a=4, b=5, audit_flags=AuditFlag.RESOURCE)\n",
    "task5()\n",
    "task5.result()"
   ]
  },
  {
   "cell_type": "markdown",
   "id": "55a0af56",
   "metadata": {},
   "source": [
    "One can turn on both audit flags using `AuditFlag.ALL`, and print the messages on the terminal using the `PrintMessenger`."
   ]
  },
  {
   "cell_type": "code",
   "execution_count": 32,
   "id": "ac1ddf3c",
   "metadata": {},
   "outputs": [
    {
     "name": "stdout",
     "output_type": "stream",
     "text": [
      "id: b09e7d604b654107a08351f58bb6078c\n",
      "{\n",
      "  \"@context\": \"https://raw.githubusercontent.com/nipype/pydra/master/pydra/schema/context.jsonld\",\n",
      "  \"@id\": \"uid:2e4569428aa24dcbafc74a9e1d46c538\",\n",
      "  \"@type\": \"task\",\n",
      "  \"startedAtTime\": \"2022-07-06T17:25:18.752073\"\n",
      "}\n"
     ]
    },
    {
     "name": "stdout",
     "output_type": "stream",
     "text": [
      "id: 190b94c840ca4482a127cdb876584e63\n",
      "{\n",
      "  \"@context\": \"https://raw.githubusercontent.com/nipype/pydra/master/pydra/schema/context.jsonld\",\n",
      "  \"@id\": \"uid:6bace11be88643ef943452a6af6ff5b2\",\n",
      "  \"@type\": \"monitor\",\n",
      "  \"startedAtTime\": \"2022-07-06T17:25:18.957307\",\n",
      "  \"wasStartedBy\": \"uid:2e4569428aa24dcbafc74a9e1d46c538\"\n",
      "}\n",
      "id: 5e615a523d344691ae0e1116a2694b87\n",
      "{\n",
      "  \"@context\": \"https://raw.githubusercontent.com/nipype/pydra/master/pydra/schema/context.jsonld\",\n",
      "  \"@id\": \"uid:6bace11be88643ef943452a6af6ff5b2\",\n",
      "  \"endedAtTime\": \"2022-07-06T17:25:18.984526\",\n",
      "  \"wasEndedBy\": \"uid:2e4569428aa24dcbafc74a9e1d46c538\"\n",
      "}\n",
      "id: e58dcbbb54884294b3cca40cb13581e1\n",
      "{\n",
      "  \"@context\": \"https://raw.githubusercontent.com/nipype/pydra/master/pydra/schema/context.jsonld\",\n",
      "  \"rss_peak_gb\": 0.089168548828125,\n",
      "  \"vms_peak_gb\": 0.849491119140625,\n",
      "  \"cpu_peak_percent\": 274.5,\n",
      "  \"@id\": \"uid:b4eb7df7d2a84e009ebcb1cc5866b532\",\n",
      "  \"@type\": \"runtime\",\n",
      "  \"prov:wasGeneratedBy\": \"uid:2e4569428aa24dcbafc74a9e1d46c538\"\n",
      "}\n",
      "id: 1aeb06025cbe4b4990a343cba7f82128\n",
      "{\n",
      "  \"@context\": \"https://raw.githubusercontent.com/nipype/pydra/master/pydra/schema/context.jsonld\",\n",
      "  \"@type\": \"prov:Generation\",\n",
      "  \"entity_generated\": \"uid:b4eb7df7d2a84e009ebcb1cc5866b532\",\n",
      "  \"hadActivity\": \"uid:6bace11be88643ef943452a6af6ff5b2\"\n",
      "}\n",
      "id: e13afe45f646424da21b41d453d3497c\n",
      "{\n",
      "  \"@context\": \"https://raw.githubusercontent.com/nipype/pydra/master/pydra/schema/context.jsonld\",\n",
      "  \"@id\": \"uid:2e4569428aa24dcbafc74a9e1d46c538\",\n",
      "  \"endedAtTime\": \"2022-07-06T17:25:18.984804\",\n",
      "  \"errored\": false\n",
      "}\n"
     ]
    },
    {
     "data": {
      "text/plain": [
       "Result(output=Output(out=9), runtime=Runtime(rss_peak_gb=0.089168548828125, vms_peak_gb=0.849491119140625, cpu_peak_percent=274.5), errored=False)"
      ]
     },
     "execution_count": 32,
     "metadata": {},
     "output_type": "execute_result"
    }
   ],
   "source": [
    "task5 = add_var(a=4, b=5, audit_flags=AuditFlag.ALL, messengers=PrintMessenger())\n",
    "task5()\n",
    "task5.result()"
   ]
  },
  {
   "cell_type": "code",
   "execution_count": null,
   "id": "f385fee8",
   "metadata": {},
   "outputs": [],
   "source": []
  }
 ],
 "metadata": {
  "jupytext": {
   "formats": "ipynb,md:myst",
   "text_representation": {
    "extension": ".md",
    "format_name": "myst",
    "format_version": 0.13,
    "jupytext_version": "1.13.8"
   }
  },
  "kernelspec": {
   "display_name": "Python 3",
   "language": "python",
   "name": "python3"
  },
  "language_info": {
   "codemirror_mode": {
    "name": "ipython",
    "version": 3
   },
   "file_extension": ".py",
   "mimetype": "text/x-python",
   "name": "python",
   "nbconvert_exporter": "python",
   "pygments_lexer": "ipython3",
   "version": "3.9.13"
  },
  "source_map": [
   13,
   18,
   29,
   33,
   39,
   43,
   45,
   49,
   51,
   55,
   58,
   62,
   64,
   70,
   72,
   76,
   78,
   82,
   85,
   89,
   91,
   98,
   108,
   112,
   120,
   124,
   133,
   137,
   143,
   148,
   152,
   159,
   163,
   167,
   173,
   175,
   179,
   182,
   186,
   191,
   195,
   203,
   207,
   210,
   214,
   216,
   220,
   223,
   229,
   234,
   238,
   240,
   244,
   251,
   255,
   259,
   263,
   265,
   269,
   274,
   288,
   290,
   298,
   304,
   308,
   314
  ]
 },
 "nbformat": 4,
 "nbformat_minor": 5
}